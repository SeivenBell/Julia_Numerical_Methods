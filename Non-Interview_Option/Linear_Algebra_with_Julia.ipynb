{
 "cells": [
  {
   "cell_type": "markdown",
   "metadata": {},
   "source": [
    "### Through a variety of use-cases, this notebook explores and applies fundamental concepts in Linear Algebra using Julia as a teaching tool. \n",
    "It seeks to improve comprehension and abilities in both mathematics and programming.\n",
    "\n",
    "#### Let's start with Basic Julia Syntax for Linear Algebra\n",
    "\n",
    "- **Defining Matrices:** Use square brackets and semicolons to define matrices. For example, to define matrix (A):"
   ]
  },
  {
   "cell_type": "code",
   "execution_count": 31,
   "metadata": {},
   "outputs": [
    {
     "data": {
      "text/plain": [
       "3×3 Matrix{Int64}:\n",
       " 1  2  4\n",
       " 3  4  4\n",
       " 2  2  8"
      ]
     },
     "metadata": {},
     "output_type": "display_data"
    }
   ],
   "source": [
    "A = [1 2 4; 3 4 4; 2 2 8]"
   ]
  },
  {
   "cell_type": "markdown",
   "metadata": {},
   "source": [
    "Notice, how good output visualization in Julia. After defenition, you can observe dimations, type of data in matrix and matrix inself in the output. Very useful feature "
   ]
  },
  {
   "cell_type": "markdown",
   "metadata": {},
   "source": [
    "Know how to use Indexing entries. We get the i, j entry of a matrix A using A[i,j]. We can also\n",
    "assign a new value to an entry."
   ]
  },
  {
   "cell_type": "code",
   "execution_count": 32,
   "metadata": {},
   "outputs": [
    {
     "data": {
      "text/plain": [
       "4"
      ]
     },
     "metadata": {},
     "output_type": "display_data"
    }
   ],
   "source": [
    "A[2, 3] # Get 2,3 entry of A"
   ]
  },
  {
   "cell_type": "code",
   "execution_count": 33,
   "metadata": {},
   "outputs": [
    {
     "data": {
      "text/plain": [
       "3×3 Matrix{Int64}:\n",
       " 1  2  7\n",
       " 3  4  4\n",
       " 2  2  8"
      ]
     },
     "metadata": {},
     "output_type": "display_data"
    }
   ],
   "source": [
    "A[1, 3] = 7\n",
    "A"
   ]
  },
  {
   "cell_type": "markdown",
   "metadata": {},
   "source": [
    "- Lets start with the simplest things we usually use in linear algebra. We will start with importing LinearAlgebra package. If you work with Julia first time, you will need to add this package first. "
   ]
  },
  {
   "cell_type": "code",
   "execution_count": 34,
   "metadata": {},
   "outputs": [],
   "source": [
    "# using Pkg\n",
    "# Pkg.add(\"LinearAlgebra\")\n",
    "using LinearAlgebra"
   ]
  },
  {
   "cell_type": "markdown",
   "metadata": {},
   "source": [
    "Now, we can try to find Trace, Determinant and Inverse of the matrix using pretty easy syntaxis:"
   ]
  },
  {
   "cell_type": "code",
   "execution_count": 35,
   "metadata": {},
   "outputs": [
    {
     "data": {
      "text/plain": [
       "13"
      ]
     },
     "metadata": {},
     "output_type": "display_data"
    }
   ],
   "source": [
    "tr(A)"
   ]
  },
  {
   "cell_type": "code",
   "execution_count": 36,
   "metadata": {},
   "outputs": [
    {
     "data": {
      "text/plain": [
       "-21.999999999999996"
      ]
     },
     "metadata": {},
     "output_type": "display_data"
    }
   ],
   "source": [
    "det(A)"
   ]
  },
  {
   "cell_type": "code",
   "execution_count": 37,
   "metadata": {},
   "outputs": [
    {
     "data": {
      "text/plain": [
       "3×3 Matrix{Float64}:\n",
       " -1.09091     0.0909091   0.909091\n",
       "  0.727273    0.272727   -0.772727\n",
       "  0.0909091  -0.0909091   0.0909091"
      ]
     },
     "metadata": {},
     "output_type": "display_data"
    }
   ],
   "source": [
    "inv(A)"
   ]
  },
  {
   "cell_type": "markdown",
   "metadata": {},
   "source": [
    "To find size, type or adjoint of A we use: "
   ]
  },
  {
   "cell_type": "code",
   "execution_count": 38,
   "metadata": {},
   "outputs": [
    {
     "data": {
      "text/plain": [
       "Matrix{Int64}\u001b[90m (alias for \u001b[39m\u001b[90mArray{Int64, 2}\u001b[39m\u001b[90m)\u001b[39m"
      ]
     },
     "metadata": {},
     "output_type": "display_data"
    }
   ],
   "source": [
    "typeof(A)"
   ]
  },
  {
   "cell_type": "code",
   "execution_count": 39,
   "metadata": {},
   "outputs": [
    {
     "data": {
      "text/plain": [
       "3×3 adjoint(::Matrix{Int64}) with eltype Int64:\n",
       " 1  3  2\n",
       " 2  4  2\n",
       " 7  4  8"
      ]
     },
     "metadata": {},
     "output_type": "display_data"
    }
   ],
   "source": [
    "A'"
   ]
  },
  {
   "cell_type": "markdown",
   "metadata": {},
   "source": [
    "We can also add, substract and multiply them. "
   ]
  },
  {
   "cell_type": "code",
   "execution_count": 40,
   "metadata": {},
   "outputs": [
    {
     "data": {
      "text/plain": [
       "3×3 Matrix{Float64}:\n",
       " -0.0909091  2.09091  7.90909\n",
       "  3.72727    4.27273  3.22727\n",
       "  2.09091    1.90909  8.09091"
      ]
     },
     "metadata": {},
     "output_type": "display_data"
    }
   ],
   "source": [
    "A + inv(A)"
   ]
  },
  {
   "cell_type": "code",
   "execution_count": 41,
   "metadata": {},
   "outputs": [
    {
     "data": {
      "text/plain": [
       "3×3 Matrix{Float64}:\n",
       " 2.09091  1.90909  6.09091\n",
       " 2.27273  3.72727  4.77273\n",
       " 1.90909  2.09091  7.90909"
      ]
     },
     "metadata": {},
     "output_type": "display_data"
    }
   ],
   "source": [
    "A - inv(A)"
   ]
  },
  {
   "cell_type": "code",
   "execution_count": 42,
   "metadata": {},
   "outputs": [
    {
     "data": {
      "text/plain": [
       "3×3 Matrix{Float64}:\n",
       "  1.0          1.11022e-16  -1.11022e-16\n",
       " -1.66533e-16  1.0          -4.996e-16\n",
       " -1.11022e-16  1.11022e-16   1.0"
      ]
     },
     "metadata": {},
     "output_type": "display_data"
    }
   ],
   "source": [
    "A * inv(A)"
   ]
  },
  {
   "cell_type": "markdown",
   "metadata": {},
   "source": [
    "#### Great, next step is usually Computing Eigenvalues and Eigenvectors\n",
    "\n",
    "Julia makes computing eigenvalues and eigenvectors straightforward with the `eigen` function. For a matrix (A), the computation is as follows:"
   ]
  },
  {
   "cell_type": "code",
   "execution_count": 43,
   "metadata": {},
   "outputs": [
    {
     "name": "stdout",
     "output_type": "stream",
     "text": [
      "Eigenvalues: [2.0, 5.0]\n",
      "Eigenvectors: [-0.4472135954999579 0.7071067811865475; 0.8944271909999159 0.7071067811865475]\n"
     ]
    }
   ],
   "source": [
    "\n",
    "A = [4 1; 2 3]\n",
    "eigvals = eigen(A).values\n",
    "eigvecs = eigen(A).vectors\n",
    "\n",
    "println(\"Eigenvalues: \", eigvals)\n",
    "println(\"Eigenvectors: \", eigvecs)"
   ]
  },
  {
   "cell_type": "markdown",
   "metadata": {},
   "source": [
    "\n",
    "This code outputs the eigenvalues and eigenvectors of (A), illustrating the basic use of the `eigen` function.\n",
    "\n",
    "#### Example 1: Eigenvalues and Eigenvectors of a Symmetric Matrix\n",
    "\n",
    "Symmetric matrices have real eigenvalues and orthogonal eigenvectors. Consider B:"
   ]
  },
  {
   "cell_type": "code",
   "execution_count": 44,
   "metadata": {},
   "outputs": [
    {
     "name": "stdout",
     "output_type": "stream",
     "text": [
      "Eigenvalues of B: [3.0, 7.0]\n",
      "Eigenvectors of B: \n"
     ]
    },
    {
     "name": "stdout",
     "output_type": "stream",
     "text": [
      "[-0.7071067811865475 0.7071067811865475; 0.7071067811865475 0.7071067811865475]\n"
     ]
    }
   ],
   "source": [
    "B = [5 2; 2 5]\n",
    "eigenB = eigen(B)\n",
    "\n",
    "println(\"Eigenvalues of B: \", eigenB.values)\n",
    "println(\"Eigenvectors of B: \")\n",
    "println(eigenB.vectors)"
   ]
  },
  {
   "cell_type": "markdown",
   "metadata": {},
   "source": [
    "#### Example 2: Diagonalization\n",
    "\n",
    "Diagonalization is the process of finding a diagonal matrix (D) such that (D = P^{-1}AP), where (A) is the original matrix, and (P) is the matrix of its eigenvectors. This process is significant because it simplifies matrix operations, such as raising the matrix to a power.\n",
    "\n",
    "Consider the matrix (A). We'll compute (P), (D), and verify (A = PDP^{-1})."
   ]
  },
  {
   "cell_type": "code",
   "execution_count": 45,
   "metadata": {},
   "outputs": [
    {
     "name": "stdout",
     "output_type": "stream",
     "text": [
      "Reconstructed A: \n",
      "[4.0 1.0; 2.0 3.0]\n"
     ]
    }
   ],
   "source": [
    "A = [4 1; 2 3]\n",
    "eigenA = eigen(A)\n",
    "P = eigenA.vectors\n",
    "D = Diagonal(eigenA.values)\n",
    "A_reconstructed = P * D * inv(P)\n",
    "\n",
    "println(\"Reconstructed A: \")\n",
    "println(A_reconstructed)"
   ]
  },
  {
   "cell_type": "markdown",
   "metadata": {},
   "source": [
    "### It's also imporntant to know how to solve A * x = b using special matrices in Julia\n",
    "\n",
    "### Solving Linear Systems with Special Matrices\n",
    "\n",
    "Solving a linear system A * x = b where A is a matrix and x and b are vectors, is a common problem in linear algebra. When A possesses certain special properties, Julia can solve these systems more efficiently.\n",
    "\n",
    "1. **Identify Matrix Type:** First, determine if matrix A has any special properties (e.g., symmetric, diagonal). This can significantly influence the solving strategy.\n",
    "   \n",
    "2. **Use Appropriate Julia Type:** If A is special, like symmetric or diagonal, use the corresponding Julia type to inform the solver. This allows Julia to optimize the solving process.\n",
    "\n",
    "3. **Solve the System:** Use the backslash operator `\\` to solve for A in A * x = b.\n",
    "\n",
    "**Example:**"
   ]
  },
  {
   "cell_type": "code",
   "execution_count": 46,
   "metadata": {},
   "outputs": [
    {
     "data": {
      "text/plain": [
       "2-element Vector{Float64}:\n",
       " -2.0000000000000013\n",
       "  3.0000000000000004"
      ]
     },
     "metadata": {},
     "output_type": "display_data"
    }
   ],
   "source": [
    "# Assuming A is symmetric\n",
    "A = [1 2; 2 3]\n",
    "b = [4; 5]\n",
    "A_sym = Symmetric(A)\n",
    "x = A_sym \\ b"
   ]
  },
  {
   "cell_type": "markdown",
   "metadata": {},
   "source": [
    "### Singular Value Decomposition (SVD)\n",
    "\n",
    "SVD is a powerful factorization method used for analyzing and solving complex matrices. It decomposes a matrix A into three components: U, Σ (singular values), and V^T.\n",
    "\n",
    "**Example:**"
   ]
  },
  {
   "cell_type": "code",
   "execution_count": 47,
   "metadata": {},
   "outputs": [
    {
     "data": {
      "text/plain": [
       "SVD{Float64, Float64, Matrix{Float64}, Vector{Float64}}\n",
       "U factor:\n",
       "3×3 Matrix{Float64}:\n",
       " -0.251575  -0.633207   0.731956\n",
       " -0.472766  -0.579512  -0.663821\n",
       "  0.844513  -0.513044  -0.153568\n",
       "singular values:\n",
       "3-element Vector{Float64}:\n",
       " 12.675631263128025\n",
       "  5.011261550199074\n",
       "  1.9379447248845607\n",
       "Vt factor:\n",
       "3×3 Matrix{Float64}:\n",
       " -0.807912   0.15084   0.569672\n",
       "  0.487322  -0.372542  0.789766\n",
       "  0.331355   0.915675  0.227473"
      ]
     },
     "metadata": {},
     "output_type": "display_data"
    }
   ],
   "source": [
    "A = [1.5 2 -4; 3 -1 -6; -10 2.3 4]\n",
    "U, S, Vt = svd(A)"
   ]
  },
  {
   "cell_type": "markdown",
   "metadata": {},
   "source": [
    "\n",
    "The output includes:\n",
    "- **U factor:** An orthogonal matrix whose columns are the left singular vectors.\n",
    "- **Singular values:** A vector containing the singular values, indicating the magnitude of each corresponding singular vector.\n",
    "- **Vt factor:** The transpose of V, an orthogonal matrix whose columns are the right singular vectors.\n",
    "\n",
    "These components are essential for tasks like dimensionality reduction, noise reduction, and more. It's quite usuful when we are taling about Machine Learning. \n",
    "\n",
    "### We also can learn Using ARPACK for Eigenvalue Problems\n",
    "\n",
    "For large matrices or when you need only a few eigenvalues, using an iterative method like those provided by ARPACK can be more efficient and cheap.\n",
    "\n",
    "**Example:**"
   ]
  },
  {
   "cell_type": "code",
   "execution_count": 48,
   "metadata": {},
   "outputs": [
    {
     "data": {
      "text/plain": [
       "(ComplexF64[-4.349070542331225 + 0.0im, 0.8014174219242668 + 4.17449488588239im, 0.8014174219242668 - 4.17449488588239im, 3.920968459021969 + 0.9312436648234582im, 3.920968459021969 - 0.9312436648234582im, -2.367796655532779 + 2.6306940290545313im], ComplexF64[0.3597443989768264 + 0.0im -0.19520971439819218 - 0.13285324762348089im … -0.15519668299225417 - 0.018575055314262495im 0.026051121507134067 - 0.07063203390480255im; 0.18949468215329732 + 0.0im 0.19215504995555865 - 0.19813872307221514im … -0.38875413824236943 + 0.09942485641339548im 0.07375625631064464 - 0.0530300846608331im; … ; -0.011331066052175667 + 0.0im -0.008608217219886305 - 0.22525035246811592im … -0.2723332420768755 + 0.024223099073139184im -0.23763384944400168 - 0.2600468039739794im; 0.4117191106753012 + 0.0im -0.10429674233796629 + 0.0073742941933909595im … -0.3450251274969582 + 0.11887181240583547im -0.10061838497008892 - 0.18094285815770775im], 7, 1, 20, [0.0, 0.0, 0.0, 0.0, 0.0, 0.0, 0.0, 0.0, 0.0, 0.0, 0.0, 0.0, 0.0, 0.0, 0.0, 0.0, 0.0, 0.0, 0.0, 0.0])"
      ]
     },
     "metadata": {},
     "output_type": "display_data"
    }
   ],
   "source": [
    "# import Pkg;\n",
    "# Pkg.add(\"Arpack\");\n",
    "using Arpack\n",
    "A = randn(20, 20)\n",
    "vals, vecs = eigs(A)"
   ]
  },
  {
   "cell_type": "markdown",
   "metadata": {},
   "source": [
    "This example shows diagonalization and reconstruction of the original matrix, highlighting the practical application of eigenvalues and eigenvectors in simplifying matrix operations."
   ]
  },
  {
   "cell_type": "markdown",
   "metadata": {},
   "source": [
    "### One more important feature we need to know is Matrix Factorizations in Julia\n",
    "\n",
    "### The Essence of Factorizing Matrices\n",
    "\n",
    "Think of matrix factorization as breaking a complex problem into manageable pieces. It's akin to dividing a large task into smaller, more straightforward tasks that you can tackle easily. Julia excels in identifying the nature of a matrix and selecting the optimal factorization route to streamline computations.\n",
    "\n",
    "\n",
    "\n",
    "Let's start with our first example, matrix A:"
   ]
  },
  {
   "cell_type": "code",
   "execution_count": 49,
   "metadata": {},
   "outputs": [
    {
     "data": {
      "text/plain": [
       "3×3 Matrix{Float64}:\n",
       "  2.5   2.0  -2.0\n",
       "  2.0  -2.0  -6.0\n",
       " -8.0   2.8   5.0"
      ]
     },
     "metadata": {},
     "output_type": "display_data"
    }
   ],
   "source": [
    "A = [2.5 2 -2; 2 -2 -6; -8 2.8 5]"
   ]
  },
  {
   "cell_type": "markdown",
   "metadata": {},
   "source": [
    "This matrix doesn't have any apparent symmetry or pattern, so Julia opts for LU factorization when we call `factorize(A)`. LU factorization decomposes A into two matrices, L (lower triangular) and U (upper triangular), making certain calculations more straightforward.\n",
    "\n",
    "#### LU Factorization of Matrix A"
   ]
  },
  {
   "cell_type": "code",
   "execution_count": 50,
   "metadata": {},
   "outputs": [
    {
     "data": {
      "text/plain": [
       "LU{Float64, Matrix{Float64}, Vector{Int64}}\n",
       "L factor:\n",
       "3×3 Matrix{Float64}:\n",
       "  1.0      0.0       0.0\n",
       " -0.3125   1.0       0.0\n",
       " -0.25    -0.452174  1.0\n",
       "U factor:\n",
       "3×3 Matrix{Float64}:\n",
       " -8.0  2.8     5.0\n",
       "  0.0  2.875  -0.4375\n",
       "  0.0  0.0    -4.94783"
      ]
     },
     "metadata": {},
     "output_type": "display_data"
    }
   ],
   "source": [
    "F = factorize(A)"
   ]
  },
  {
   "cell_type": "markdown",
   "metadata": {},
   "source": [
    "Julia provides us with L and U matrices. This decomposition is particularly useful for solving linear systems or inverting matrices efficiently."
   ]
  },
  {
   "cell_type": "markdown",
   "metadata": {},
   "source": [
    "### Exploring Symmetry with Matrix B\n",
    "\n",
    "Now, consider matrix B, which has a hidden symmetry:"
   ]
  },
  {
   "cell_type": "code",
   "execution_count": 51,
   "metadata": {},
   "outputs": [
    {
     "data": {
      "text/plain": [
       "3×3 Matrix{Float64}:\n",
       "  1.5   2.0  -4.0\n",
       "  2.0  -1.0  -3.0\n",
       " -4.0  -3.0   5.0"
      ]
     },
     "metadata": {},
     "output_type": "display_data"
    }
   ],
   "source": [
    "B = [1.5 2 -4; 2 -1 -3; -4 -3 5]"
   ]
  },
  {
   "cell_type": "markdown",
   "metadata": {},
   "source": [
    "Julia detects B's symmetry and applies a Bunch-Kaufman factorization, an approach better suited for symmetric matrices, enhancing computational efficiency.\n",
    "\n",
    "#### Bunch-Kaufman Factorization of Symmetric Matrix B"
   ]
  },
  {
   "cell_type": "code",
   "execution_count": 52,
   "metadata": {},
   "outputs": [
    {
     "data": {
      "text/plain": [
       "BunchKaufman{Float64, Matrix{Float64}, Vector{Int64}}\n",
       "D factor:\n",
       "3×3 Tridiagonal{Float64, Vector{Float64}}:\n",
       " -1.64286   0.0   ⋅ \n",
       "  0.0      -2.8  0.0\n",
       "   ⋅        0.0  5.0\n",
       "U factor:\n",
       "3×3 UnitUpperTriangular{Float64, Matrix{Float64}}:\n",
       " 1.0  0.142857  -0.8\n",
       "  ⋅   1.0       -0.6\n",
       "  ⋅    ⋅         1.0\n",
       "permutation:\n",
       "3-element Vector{Int64}:\n",
       " 1\n",
       " 2\n",
       " 3"
      ]
     },
     "metadata": {},
     "output_type": "display_data"
    }
   ],
   "source": [
    "F = factorize(B)"
   ]
  },
  {
   "cell_type": "markdown",
   "metadata": {},
   "source": [
    "This method is a testament to Julia's ability to leverage matrix properties for optimization, showcasing the language's power in mathematical computations.\n",
    "### Helping Julia with Matrix Tags\n",
    "\n",
    "We can also directly inform Julia about a matrix's special properties, such as symmetry. This can be done by tagging:"
   ]
  },
  {
   "cell_type": "code",
   "execution_count": 53,
   "metadata": {},
   "outputs": [
    {
     "data": {
      "text/plain": [
       "3×3 Symmetric{Float64, Matrix{Float64}}:\n",
       "  1.5   2.0  -4.0\n",
       "  2.0  -1.0  -3.0\n",
       " -4.0  -3.0   5.0"
      ]
     },
     "metadata": {},
     "output_type": "display_data"
    }
   ],
   "source": [
    "sB = Symmetric(B)"
   ]
  },
  {
   "cell_type": "markdown",
   "metadata": {},
   "source": [
    "Tagging helps Julia to choose the most suitable method for operations involving the matrix, further optimizing performance.\n",
    "\n",
    "### Solving Equations with Tagged Matrices\n",
    "\n",
    "Tagging shines when solving equations. Let's solve a system involving our symmetric matrix B:"
   ]
  },
  {
   "cell_type": "code",
   "execution_count": 54,
   "metadata": {},
   "outputs": [
    {
     "data": {
      "text/plain": [
       "3-element Vector{Float64}:\n",
       " -1.7391304347826084\n",
       " -1.1086956521739126\n",
       " -1.4565217391304346"
      ]
     },
     "metadata": {},
     "output_type": "display_data"
    }
   ],
   "source": [
    "x = [1; 2; 3]\n",
    "solution = sB \\ x"
   ]
  },
  {
   "cell_type": "markdown",
   "metadata": {},
   "source": [
    "Here, Julia uses the matrix's symmetry to solve the equation efficiently, showcasing the elegance of Julia's matrix operations.\n",
    "\n",
    "\n",
    "Julia recognizes various special matrices, each with its optimized computation paths. Understanding these can significantly improve your problem-solving strategy in linear algebra:\n",
    "\n",
    "- **Symmetric and Hermitian Matrices:** Ideal for operations preserving symmetry.\n",
    "- **Diagonal and Tridiagonal Matrices:** Simplify computations involving eigenvalues and linear systems.\n",
    "- **Upper/Lower Triangular Matrices:** Useful in solving linear equations efficiently."
   ]
  },
  {
   "cell_type": "markdown",
   "metadata": {},
   "source": [
    "### Some showcases of Sparse Matrices in Julia\n",
    "\n",
    "#### Why Sparse Matrices?\n",
    "\n",
    "Imagine you have a giant matrix where most of the entries are zeros. Storing every single element, including all those zeros, would be a waste of space and computational resources. Sparse matrices allow us to focus on the non-zero elements, making our computations faster and more memory-efficient.\n",
    "\n",
    "\n",
    "We'll begin by importing the necessary libraries:"
   ]
  },
  {
   "cell_type": "code",
   "execution_count": 55,
   "metadata": {},
   "outputs": [],
   "source": [
    "# import Pkg;\n",
    "# Pkg.add(\"SparseArrays\");\n",
    "using SparseArrays"
   ]
  },
  {
   "cell_type": "markdown",
   "metadata": {},
   "source": [
    "\n",
    "#### Creating a Sparse Matrix\n",
    "\n",
    "Let's create a sparse matrix with a 20% chance of non-zero elements:\n"
   ]
  },
  {
   "cell_type": "code",
   "execution_count": 56,
   "metadata": {},
   "outputs": [
    {
     "data": {
      "text/plain": [
       "15×15 SparseMatrixCSC{Float64, Int64} with 34 stored entries:\n",
       "  ⋅        0.864714   ⋅         ⋅        …   ⋅         ⋅         ⋅ \n",
       "  ⋅        0.615271   ⋅         ⋅            ⋅         ⋅         ⋅ \n",
       "  ⋅         ⋅         ⋅         ⋅            ⋅         ⋅         ⋅ \n",
       "  ⋅         ⋅         ⋅        0.99473       ⋅         ⋅         ⋅ \n",
       "  ⋅        0.168956   ⋅         ⋅            ⋅         ⋅         ⋅ \n",
       "  ⋅         ⋅         ⋅         ⋅        …   ⋅         ⋅         ⋅ \n",
       "  ⋅         ⋅        0.129264   ⋅            ⋅         ⋅        0.953865\n",
       " 0.295899   ⋅         ⋅        0.19802      0.956186  0.619594   ⋅ \n",
       "  ⋅        0.49504    ⋅         ⋅            ⋅         ⋅         ⋅ \n",
       "  ⋅        0.565548   ⋅         ⋅            ⋅         ⋅         ⋅ \n",
       "  ⋅         ⋅        0.49859    ⋅        …   ⋅        0.999549   ⋅ \n",
       "  ⋅        0.184527  0.518494  0.522103     0.808024   ⋅         ⋅ \n",
       "  ⋅        0.549004   ⋅         ⋅            ⋅         ⋅         ⋅ \n",
       "  ⋅         ⋅         ⋅        0.940306      ⋅         ⋅         ⋅ \n",
       "  ⋅         ⋅         ⋅         ⋅            ⋅         ⋅         ⋅ "
      ]
     },
     "metadata": {},
     "output_type": "display_data"
    }
   ],
   "source": [
    "A = sprand(15, 15, 0.2)"
   ]
  },
  {
   "cell_type": "markdown",
   "metadata": {},
   "source": [
    "This command generates a 15*15 sparse matrix where approximately 20% of the elements are random numbers, and the rest are zeros.\n",
    "\n",
    "You can also use display() to take a look at something: "
   ]
  },
  {
   "cell_type": "code",
   "execution_count": 57,
   "metadata": {},
   "outputs": [
    {
     "data": {
      "text/plain": [
       "15×15 SparseMatrixCSC{Float64, Int64} with 34 stored entries:\n",
       "  ⋅        0.864714   ⋅         ⋅        …   ⋅         ⋅         ⋅ \n",
       "  ⋅        0.615271   ⋅         ⋅            ⋅         ⋅         ⋅ \n",
       "  ⋅         ⋅         ⋅         ⋅            ⋅         ⋅         ⋅ \n",
       "  ⋅         ⋅         ⋅        0.99473       ⋅         ⋅         ⋅ \n",
       "  ⋅        0.168956   ⋅         ⋅            ⋅         ⋅         ⋅ \n",
       "  ⋅         ⋅         ⋅         ⋅        …   ⋅         ⋅         ⋅ \n",
       "  ⋅         ⋅        0.129264   ⋅            ⋅         ⋅        0.953865\n",
       " 0.295899   ⋅         ⋅        0.19802      0.956186  0.619594   ⋅ \n",
       "  ⋅        0.49504    ⋅         ⋅            ⋅         ⋅         ⋅ \n",
       "  ⋅        0.565548   ⋅         ⋅            ⋅         ⋅         ⋅ \n",
       "  ⋅         ⋅        0.49859    ⋅        …   ⋅        0.999549   ⋅ \n",
       "  ⋅        0.184527  0.518494  0.522103     0.808024   ⋅         ⋅ \n",
       "  ⋅        0.549004   ⋅         ⋅            ⋅         ⋅         ⋅ \n",
       "  ⋅         ⋅         ⋅        0.940306      ⋅         ⋅         ⋅ \n",
       "  ⋅         ⋅         ⋅         ⋅            ⋅         ⋅         ⋅ "
      ]
     },
     "metadata": {},
     "output_type": "display_data"
    }
   ],
   "source": [
    "display(A)"
   ]
  },
  {
   "cell_type": "markdown",
   "metadata": {},
   "source": [
    "\n",
    "#### Sparse Matrix Factorizations\n",
    "\n",
    "Factorizing sparse matrices can reveal interesting properties and is more efficient than working with dense matrices:\n",
    "\n",
    "- **Pseudo-Inverse:**\n",
    "  \n",
    "  Calculating the pseudo-inverse of a sparse matrix remains efficient in Julia:\n"
   ]
  },
  {
   "cell_type": "code",
   "execution_count": 58,
   "metadata": {},
   "outputs": [
    {
     "data": {
      "text/plain": [
       "15×15 Matrix{Float64}:\n",
       "  0.256332      8.61684e-15  -5.2463e-17   …   0.117396      0.00196031\n",
       "  1.15274       3.25157e-15   2.98056e-17     -1.56304e-16   0.00881559\n",
       " -0.579446      2.64443e-15   1.89116e-16     -0.644885     -0.00443133\n",
       " -1.86215e-16  -2.2541e-16    2.22841e-16      1.74244e-16   3.08781e-16\n",
       "  0.0389697     4.46816e-15  -2.26645e-17      0.0433708     0.000298022\n",
       " -1.48096       3.65401e-15  -4.663e-16    …   4.52654e-16  -0.0113257\n",
       "  0.00780703    1.08427e-17   1.23313e-16     -7.45779e-17   1.00563\n",
       " -8.58955      12.1108        1.24022e-15      2.12034e-15  -0.0656889\n",
       " -1.01484       3.66278e-16  -4.42154e-16      9.90701e-16  -0.947452\n",
       " -0.772629      8.95376e-16   9.71388e-17      1.23624e-16  -0.00590871\n",
       "  1.24974e-15  -1.09073e-15  -6.86769e-16  …   1.58265      -2.32453e-16\n",
       " -1.1968e-16    7.99983e-16   4.40644e-16      1.63863e-15   2.08167e-16\n",
       "  0.108571     -1.50188e-15  -3.63953e-16      0.413811      0.000830304\n",
       "  0.289036     -2.00848e-15   5.2634e-16      -1.10465       0.00221041\n",
       "  0.0440446    -1.98511e-15  -2.56161e-17      0.0490188     0.000336833"
      ]
     },
     "metadata": {},
     "output_type": "display_data"
    }
   ],
   "source": [
    "A_pinv = pinv(Matrix(A))"
   ]
  },
  {
   "cell_type": "markdown",
   "metadata": {},
   "source": [
    "  This operation is particularly useful for solving systems of equations that are not perfectly determined\n",
    "\n",
    "- **Creating Special Sparse Matrices:**\n",
    "\n",
    "  Julia allows you to create special types of sparse matrices directly:\n"
   ]
  },
  {
   "cell_type": "code",
   "execution_count": 59,
   "metadata": {},
   "outputs": [
    {
     "data": {
      "text/plain": [
       "10×10 SparseMatrixCSC{Int64, Int64} with 10 stored entries:\n",
       " 1  ⋅  ⋅  ⋅  ⋅  ⋅  ⋅  ⋅  ⋅   ⋅\n",
       " ⋅  2  ⋅  ⋅  ⋅  ⋅  ⋅  ⋅  ⋅   ⋅\n",
       " ⋅  ⋅  3  ⋅  ⋅  ⋅  ⋅  ⋅  ⋅   ⋅\n",
       " ⋅  ⋅  ⋅  4  ⋅  ⋅  ⋅  ⋅  ⋅   ⋅\n",
       " ⋅  ⋅  ⋅  ⋅  5  ⋅  ⋅  ⋅  ⋅   ⋅\n",
       " ⋅  ⋅  ⋅  ⋅  ⋅  6  ⋅  ⋅  ⋅   ⋅\n",
       " ⋅  ⋅  ⋅  ⋅  ⋅  ⋅  7  ⋅  ⋅   ⋅\n",
       " ⋅  ⋅  ⋅  ⋅  ⋅  ⋅  ⋅  8  ⋅   ⋅\n",
       " ⋅  ⋅  ⋅  ⋅  ⋅  ⋅  ⋅  ⋅  9   ⋅\n",
       " ⋅  ⋅  ⋅  ⋅  ⋅  ⋅  ⋅  ⋅  ⋅  10"
      ]
     },
     "metadata": {},
     "output_type": "display_data"
    }
   ],
   "source": [
    "# Sparse zero matrix\n",
    "A_zeros = spzeros(10, 10)\n",
    "\n",
    "# Sparse diagonal matrix\n",
    "A_diag = sparse(Diagonal(1:10))"
   ]
  },
  {
   "cell_type": "markdown",
   "metadata": {},
   "source": [
    "### Advanced Sparse Matrix Types\n",
    "\n",
    "Julia's sparse matrix capabilities extend to more sophisticated types, allowing for nuanced manipulation and optimization:\n",
    "\n",
    "- **Bidiagonal Sparse Matrix:**\n",
    "\n",
    "  Useful for certain types of numerical calculations, creating a bidiagonal sparse matrix can be done with:\n"
   ]
  },
  {
   "cell_type": "code",
   "execution_count": 60,
   "metadata": {},
   "outputs": [
    {
     "data": {
      "text/plain": [
       "10×10 Bidiagonal{Int64, UnitRange{Int64}}:\n",
       " 1  1  ⋅  ⋅  ⋅  ⋅  ⋅  ⋅  ⋅   ⋅\n",
       " ⋅  2  2  ⋅  ⋅  ⋅  ⋅  ⋅  ⋅   ⋅\n",
       " ⋅  ⋅  3  3  ⋅  ⋅  ⋅  ⋅  ⋅   ⋅\n",
       " ⋅  ⋅  ⋅  4  4  ⋅  ⋅  ⋅  ⋅   ⋅\n",
       " ⋅  ⋅  ⋅  ⋅  5  5  ⋅  ⋅  ⋅   ⋅\n",
       " ⋅  ⋅  ⋅  ⋅  ⋅  6  6  ⋅  ⋅   ⋅\n",
       " ⋅  ⋅  ⋅  ⋅  ⋅  ⋅  7  7  ⋅   ⋅\n",
       " ⋅  ⋅  ⋅  ⋅  ⋅  ⋅  ⋅  8  8   ⋅\n",
       " ⋅  ⋅  ⋅  ⋅  ⋅  ⋅  ⋅  ⋅  9   9\n",
       " ⋅  ⋅  ⋅  ⋅  ⋅  ⋅  ⋅  ⋅  ⋅  10"
      ]
     },
     "metadata": {},
     "output_type": "display_data"
    }
   ],
   "source": [
    "A_bidiag = Bidiagonal(1:10, 1:9, :U)"
   ]
  },
  {
   "cell_type": "markdown",
   "metadata": {},
   "source": [
    "\n",
    "- **Tridiagonal Sparse Matrix:**\n",
    "\n",
    "  Tridiagonal matrices are vital for solving differential equations and other computational problems:\n"
   ]
  },
  {
   "cell_type": "code",
   "execution_count": 61,
   "metadata": {},
   "outputs": [
    {
     "data": {
      "text/plain": [
       "10×10 Tridiagonal{Int64, UnitRange{Int64}}:\n",
       " 1  3  ⋅  ⋅  ⋅  ⋅  ⋅  ⋅   ⋅   ⋅\n",
       " 2  2  4  ⋅  ⋅  ⋅  ⋅  ⋅   ⋅   ⋅\n",
       " ⋅  3  3  5  ⋅  ⋅  ⋅  ⋅   ⋅   ⋅\n",
       " ⋅  ⋅  4  4  6  ⋅  ⋅  ⋅   ⋅   ⋅\n",
       " ⋅  ⋅  ⋅  5  5  7  ⋅  ⋅   ⋅   ⋅\n",
       " ⋅  ⋅  ⋅  ⋅  6  6  8  ⋅   ⋅   ⋅\n",
       " ⋅  ⋅  ⋅  ⋅  ⋅  7  7  9   ⋅   ⋅\n",
       " ⋅  ⋅  ⋅  ⋅  ⋅  ⋅  8  8  10   ⋅\n",
       " ⋅  ⋅  ⋅  ⋅  ⋅  ⋅  ⋅  9   9  11\n",
       " ⋅  ⋅  ⋅  ⋅  ⋅  ⋅  ⋅  ⋅  10  10"
      ]
     },
     "metadata": {},
     "output_type": "display_data"
    }
   ],
   "source": [
    "A_tridiag = Tridiagonal(2:10, 1:10, 3:11)"
   ]
  },
  {
   "cell_type": "markdown",
   "metadata": {},
   "source": [
    "\n",
    "- **Random Sparse Matrix:**\n",
    "\n",
    "  Generating a random sparse matrix with normally distributed non-zero elements can simulate real-world data:\n"
   ]
  },
  {
   "cell_type": "code",
   "execution_count": 77,
   "metadata": {},
   "outputs": [
    {
     "data": {
      "text/plain": [
       "10000×10000 SparseMatrixCSC{Float64, Int64} with 9 stored entries:\n",
       "⠀⠀⠀⠀⠀⠀⠀⠀⠀⠀⠀⠀⠀⠀⠀⠀⠀⠀⠀⠀⠀⠀⠀⠐⠀⠀⠀⠀⠀⠀⠀⠀⠀⠀⠀⠀⠀⠀⠀⠀\n",
       "⠀⠀⠀⠀⠀⠀⠀⠀⠀⠀⠀⠀⠀⠀⠀⠀⠀⠀⠀⠀⠀⠀⠀⠀⠀⠀⠀⠀⠀⠀⠀⠀⠀⠀⠀⠀⠀⠀⠀⠀\n",
       "⠀⠀⠀⠀⠀⠀⠀⠀⠀⠀⠀⠀⠀⠀⠀⠀⠀⠀⠀⠀⠀⠀⠀⠀⠀⠀⠀⠀⠀⠀⠠⠀⠀⠀⠀⠀⠀⠀⠀⠀\n",
       "⠀⠀⠀⠀⠀⠀⠀⠀⠀⠀⠀⠀⠀⠀⠀⠀⠀⠀⠀⠀⠀⠀⠀⠀⠀⠀⠀⠀⠀⠀⠀⠀⠀⠀⠀⠀⠀⠀⠀⠀\n",
       "⠀⠀⠀⠀⠀⠀⠀⠀⠀⠀⠀⠀⢀⠀⠀⠀⠀⠀⠀⠀⠀⠀⠀⠀⠀⠀⠀⠀⠀⠀⠀⠀⠀⠀⠀⠀⠀⠀⠀⠀\n",
       "⠀⠀⠀⠀⠀⠀⠀⠀⠀⠀⠀⠀⠀⠀⠀⠀⠀⠀⠀⠁⠀⠀⠀⠀⠀⠀⠀⠀⠀⠀⠀⠀⠀⠀⠀⠀⠀⠀⠀⠀\n",
       "⠀⠀⠀⠀⠀⠀⠀⠀⠀⠀⠀⠀⠀⠀⠀⠀⠀⠀⠀⠀⠀⠀⠀⠀⠀⠀⠀⠀⠀⠀⠀⠀⠀⠀⠀⠀⠀⠀⠀⠀\n",
       "⠀⠀⠀⠀⠀⠀⠀⠀⠀⠀⠀⠀⠀⠀⠀⠀⠀⠀⠀⠀⠀⠀⠀⠀⠀⠀⠀⠀⠀⠀⠀⠀⠀⠀⠀⠀⠀⠀⠀⠀\n",
       "⠀⠀⠀⠀⠀⠀⠀⠀⠀⠀⠀⠀⠀⠀⠀⠀⠀⠀⠀⠀⠀⠀⠀⠀⠀⠀⠀⠀⠀⠀⠀⠀⠀⠀⠀⠀⠀⠀⠀⠀\n",
       "⠀⠀⠀⠀⠀⠀⠀⠀⠀⠀⠀⠀⠀⠀⠀⠀⠀⠀⠀⠀⠀⠀⠀⠀⠀⠀⠀⠀⠀⠀⠀⠀⠀⠀⠀⠀⠀⠀⠀⠀\n",
       "⠀⠀⠀⠀⠀⠀⠀⠀⠀⠀⠀⠀⠀⠀⠀⠀⠀⠀⠀⠀⠀⠀⠀⠀⠀⠀⠀⠀⠀⠀⠀⠀⠀⠀⠀⠀⠀⠀⠀⠀\n",
       "⠀⠀⠀⠀⠀⠀⠀⠀⠀⠀⠀⠀⠀⠀⠀⠀⠀⠀⠀⠀⠀⠀⠀⠀⠀⠀⠀⠀⠀⠀⠀⠀⠀⠀⠀⠁⠀⠀⠀⠀\n",
       "⠀⠀⠀⠀⠀⠀⠀⠀⠀⠀⠀⠀⠀⠀⠀⠀⠀⠀⠀⠀⠀⠀⠀⠀⠀⠀⠀⠀⠀⠀⠀⠀⠀⠀⠀⠀⠀⠀⠀⠀\n",
       "⠀⠀⠀⠀⠀⠀⠀⠀⠀⠀⠀⠀⠀⠀⠀⠀⠀⠀⠀⠀⠀⠀⠀⠀⠀⠀⠀⠀⠀⠀⠀⠀⠀⠀⠀⠀⠀⠀⠀⠀\n",
       "⠀⠀⠀⠀⠀⠀⠀⠀⠀⠀⠀⠀⠀⠀⠀⠀⠀⠀⠀⠀⠀⠀⠠⠀⠀⠀⠀⠀⠀⠀⠀⠀⠀⠀⠀⠀⠀⠀⠀⠀\n",
       "⠀⠀⠀⠀⠀⠀⠀⠀⠀⠀⠀⠀⠀⠀⠀⢀⠀⠀⠀⠀⠀⠀⠀⠀⠀⠀⠀⠀⠀⠀⠀⠀⠀⠀⠀⠀⠀⠀⠀⠀\n",
       "⠀⠀⠀⠀⠀⠀⠀⠀⠀⠀⠀⠀⠀⠀⠀⠀⠀⠀⠀⠀⠀⠀⠀⠀⠀⠀⠀⠀⠀⠀⠀⠀⠀⠀⠀⠀⠀⠀⠀⠀\n",
       "⠀⠀⠀⠀⠀⠀⠀⠀⠀⠀⠀⠀⠀⠀⠀⠀⠀⠀⠀⠀⠀⠀⠀⠀⠀⠀⠀⠀⠀⠀⠀⠀⠀⠀⠀⠀⠀⠀⠀⠀\n",
       "⠀⠀⠀⠀⠀⠀⠀⠀⠀⠀⠀⠀⠀⠀⠀⠀⠀⠀⠀⠀⠀⠀⠀⠀⠀⠀⠀⠀⠀⠀⠀⠀⠀⠀⠀⠀⠀⠀⠀⠀\n",
       "⠀⠀⠀⠀⠀⠀⠀⠀⠀⠀⠀⠀⠀⠀⢀⠀⠀⠀⠀⠀⠀⠀⠀⠀⠀⠀⠀⠀⠀⠀⡀⠀⠀⠀⠀⠀⠀⠀⠀⠀"
      ]
     },
     "metadata": {},
     "output_type": "display_data"
    }
   ],
   "source": [
    "A_randn = sprand(10000, 10000, 10^-7)"
   ]
  },
  {
   "cell_type": "markdown",
   "metadata": {},
   "source": [
    "#### Julia has numerious different linear algebra functions and additional libraries we can explore, for instance: \n",
    "\n",
    "- https://sciml.ai/ (SciML: Open Source Software for Scientific Machine Learning)\n",
    "- IterativeSolvers.jl (Iterative algorithms for solving linear systems, eigensystems, and singular value problems)\n",
    "- https://jso.dev/Krylov.jl/v0.3/ (This package implements iterative methods for the solution of linear systems of equations)\n",
    "- JuliaFEM.jl (Framework that allows for the distributed processing of large Finite Element Models across clusters of computers using simple programming models)\n",
    "\n",
    "or \n",
    "\n",
    "Low-level matrix operations\n",
    "BLAS functions\n",
    "LAPACK functions\n",
    "link: https://docs.julialang.org/en/v1/stdlib/LinearAlgebra/#Low-level-matrix-operations\n"
   ]
  },
  {
   "cell_type": "markdown",
   "metadata": {},
   "source": [
    "#### Nevertheless, let's try to implement some functions in small scripts:"
   ]
  },
  {
   "cell_type": "markdown",
   "metadata": {},
   "source": [
    "#### Implementing the Power Method\n",
    "\n",
    "\n",
    "Let's start by defining a function to perform the power method. This function iteratively multiplies a random vector by the matrix A and normalizes the result to estimate the largest eigenvector."
   ]
  },
  {
   "cell_type": "code",
   "execution_count": 63,
   "metadata": {},
   "outputs": [
    {
     "data": {
      "text/plain": [
       "power_method (generic function with 1 method)"
      ]
     },
     "metadata": {},
     "output_type": "display_data"
    }
   ],
   "source": [
    "# Define the power method function\n",
    "function power_method(A, n)\n",
    "    x = rand(size(A, 1))\n",
    "    for i in 1:n\n",
    "        x = A * x\n",
    "        x /= norm(x)\n",
    "    end\n",
    "    return x\n",
    "end"
   ]
  },
  {
   "cell_type": "markdown",
   "metadata": {},
   "source": [
    "- **Parameters:**\n",
    "  - A: The matrix for which we want to find the largest eigenvector.\n",
    "  - n: The number of iterations to perform.\n",
    "\n",
    "- **Returns:**\n",
    "  - The approximated largest eigenvector of A."
   ]
  },
  {
   "cell_type": "markdown",
   "metadata": {},
   "source": [
    "#### Creating a Test Matrix\n",
    "\n",
    "Now, let's test our function with a 2*2 matrix. We'll ensure the matrix is symmetric positive definite by squaring it and adding an identity matrix scaled by 10.\n"
   ]
  },
  {
   "cell_type": "code",
   "execution_count": 64,
   "metadata": {},
   "outputs": [
    {
     "name": "stdout",
     "output_type": "stream",
     "text": [
      "Random A: [0.988645478312714 -1.6716569187461368; -0.9591998194665456 -0.16294248962958904]\n",
      "Modified A to be symmetric positive definite: [11.89748417545283 -1.4963816473724008; -1.4963816473724008 12.820987108918517]\n"
     ]
    }
   ],
   "source": [
    "# Define and modify your matrix A as before\n",
    "A = randn(2, 2)\n",
    "println(\"Random A: \", A)\n",
    "A = A'A + 10I  # Making A symmetric positive definite\n",
    "println(\"Modified A to be symmetric positive definite: \", A)"
   ]
  },
  {
   "cell_type": "code",
   "execution_count": 65,
   "metadata": {},
   "outputs": [
    {
     "name": "stdout",
     "output_type": "stream",
     "text": [
      "Dominant eigenvector: [-0.5937762784461802, 0.8046301828508575]\n"
     ]
    }
   ],
   "source": [
    "# Apply the power method to find the dominant eigenvector\n",
    "dominant_eigenvector = power_method(A, 100)\n",
    "println(\"Dominant eigenvector: \", dominant_eigenvector)"
   ]
  },
  {
   "cell_type": "code",
   "execution_count": 66,
   "metadata": {},
   "outputs": [
    {
     "name": "stdout",
     "output_type": "stream",
     "text": [
      "Dominant eigenvalue: 13.925240894930013\n"
     ]
    }
   ],
   "source": [
    "# Calculate the dominant eigenvalue using the Rayleigh quotient\n",
    "dominant_eigenvalue = (dominant_eigenvector' * A * dominant_eigenvector) / (dominant_eigenvector' * dominant_eigenvector)\n",
    "println(\"Dominant eigenvalue: \", dominant_eigenvalue)"
   ]
  },
  {
   "cell_type": "code",
   "execution_count": 67,
   "metadata": {},
   "outputs": [
    {
     "name": "stdout",
     "output_type": "stream",
     "text": [
      "Deflated A: [6.987858249390456 5.156685088393038; 5.156685088393039 3.805372140050876]\n"
     ]
    }
   ],
   "source": [
    "# Deflate the matrix\n",
    "A_deflated = A - dominant_eigenvalue * dominant_eigenvector * dominant_eigenvector'\n",
    "println(\"Deflated A: \", A_deflated)"
   ]
  },
  {
   "cell_type": "code",
   "execution_count": 68,
   "metadata": {},
   "outputs": [
    {
     "name": "stdout",
     "output_type": "stream",
     "text": [
      "Second largest eigenvector: [0.8046301828545853, 0.5937762784411286]\n"
     ]
    }
   ],
   "source": [
    "# Find the second largest eigenvector using the deflated matrix\n",
    "second_eigenvector = power_method(A_deflated, 100)\n",
    "println(\"Second largest eigenvector: \", second_eigenvector)"
   ]
  },
  {
   "cell_type": "code",
   "execution_count": 69,
   "metadata": {},
   "outputs": [
    {
     "name": "stdout",
     "output_type": "stream",
     "text": [
      "Approximated dominant eigenvector: [0.40835371199170684, 0.9128237759297215]\n",
      "True dominant eigenvector: [-0.9987854880337503, -0.04927016230116535]\n",
      "Estimated largest eigenvalue: 11.29381124614533\n",
      "Second largest eigenvector: [0.8046301828545853, 0.5937762784411286]\n"
     ]
    }
   ],
   "source": [
    "println(\"Approximated dominant eigenvector: \", approx_eigenvector)\n",
    "println(\"True dominant eigenvector: \", true_eigenvector)\n",
    "println(\"Estimated largest eigenvalue: \", estimated_eigenvalue)\n",
    "println(\"Second largest eigenvector: \", second_eigenvector)"
   ]
  },
  {
   "cell_type": "markdown",
   "metadata": {},
   "source": [
    "#### To sum up, let's try to implement Geometric Transformations with Julia\n",
    "\n",
    "Geometric transformations modify the position, orientation, or shape of objects in space. In 2D space, a common transformation is rotation. \n",
    "To rotate points in a plane, we use a rotation matrix.\n",
    "\n",
    "1. **Creating a Rotation Matrix:**\n",
    "   \n",
    "   A rotation matrix for rotating points by an angle θ radians can be created using the following function:"
   ]
  },
  {
   "cell_type": "code",
   "execution_count": 78,
   "metadata": {},
   "outputs": [
    {
     "data": {
      "text/plain": [
       "Rot (generic function with 1 method)"
      ]
     },
     "metadata": {},
     "output_type": "display_data"
    }
   ],
   "source": [
    "Rot(theta) = [cos(theta) -sin(theta); sin(theta) cos(theta)]"
   ]
  },
  {
   "cell_type": "markdown",
   "metadata": {},
   "source": [
    "For a rotation of π/3 radians (60 degrees), we define:"
   ]
  },
  {
   "cell_type": "code",
   "execution_count": 79,
   "metadata": {},
   "outputs": [
    {
     "data": {
      "text/plain": [
       "2×2 Matrix{Float64}:\n",
       " 0.5       -0.866025\n",
       " 0.866025   0.5"
      ]
     },
     "metadata": {},
     "output_type": "display_data"
    }
   ],
   "source": [
    "R = Rot(pi / 3)"
   ]
  },
  {
   "cell_type": "markdown",
   "metadata": {},
   "source": [
    "2. **Rotating Points:**\n",
    "   \n",
    "   Consider a set of 2D points we wish to rotate:"
   ]
  },
  {
   "cell_type": "code",
   "execution_count": 80,
   "metadata": {},
   "outputs": [
    {
     "data": {
      "text/plain": [
       "6-element Vector{Vector{Float64}}:\n",
       " [1.0, 0.0]\n",
       " [1.5, 0.0]\n",
       " [2.0, 0.0]\n",
       " [1.0, 0.25]\n",
       " [1.5, 0.25]\n",
       " [1.0, 0.5]"
      ]
     },
     "metadata": {},
     "output_type": "display_data"
    }
   ],
   "source": [
    "points = [[1, 0], [1.5, 0], [2, 0], [1, 0.25], [1.5, 0.25], [1, 0.5]]"
   ]
  },
  {
   "cell_type": "markdown",
   "metadata": {},
   "source": [
    "   We apply the rotation using:"
   ]
  },
  {
   "cell_type": "code",
   "execution_count": 81,
   "metadata": {},
   "outputs": [
    {
     "data": {
      "text/plain": [
       "6-element Vector{Vector{Float64}}:\n",
       " [0.5000000000000001, 0.8660254037844386]\n",
       " [0.7500000000000002, 1.299038105676658]\n",
       " [1.0000000000000002, 1.7320508075688772]\n",
       " [0.28349364905389046, 0.9910254037844386]\n",
       " [0.5334936490538906, 1.424038105676658]\n",
       " [0.06698729810778081, 1.1160254037844386]"
      ]
     },
     "metadata": {},
     "output_type": "display_data"
    }
   ],
   "source": [
    "rpoints = [R * p for p in points]"
   ]
  },
  {
   "cell_type": "markdown",
   "metadata": {},
   "source": [
    "\n",
    "3. **Visualization:**\n",
    "   \n",
    "   To visualize the original and rotated points, we use the `Plots` package:\n",
    "   "
   ]
  },
  {
   "cell_type": "code",
   "execution_count": 82,
   "metadata": {},
   "outputs": [
    {
     "data": {
      "image/png": "[encoded data removed]",
      "image/svg+xml": [
       "<?xml version=\"1.0\" encoding=\"utf-8\"?>\n",
       "<svg xmlns=\"http://www.w3.org/2000/svg\" xmlns:xlink=\"http://www.w3.org/1999/xlink\" width=\"500\" height=\"500\" viewBox=\"0 0 2000 2000\">\n",
       "<defs>\n",
       "  <clipPath id=\"clip600\">\n",
       "    <rect x=\"0\" y=\"0\" width=\"2000\" height=\"2000\"/>\n",
       "  </clipPath>\n",
       "</defs>\n",
       "<path clip-path=\"url(#clip600)\" d=\"M0 2000 L2000 2000 L2000 0 L0 0  Z\" fill=\"#ffffff\" fill-rule=\"evenodd\" fill-opacity=\"1\"/>\n",
       "<defs>\n",
       "  <clipPath id=\"clip601\">\n",
       "    <rect x=\"400\" y=\"200\" width=\"1401\" height=\"1401\"/>\n",
       "  </clipPath>\n",
       "</defs>\n",
       "<path clip-path=\"url(#clip600)\" d=\"M152.112 1865.17 L1952.76 1865.17 L1952.76 47.2441 L152.112 47.2441  Z\" fill=\"#ffffff\" fill-rule=\"evenodd\" fill-opacity=\"1\"/>\n",
       "<defs>\n",
       "  <clipPath id=\"clip602\">\n",
       "    <rect x=\"152\" y=\"47\" width=\"1802\" height=\"1819\"/>\n",
       "  </clipPath>\n",
       "</defs>\n",
       "<polyline clip-path=\"url(#clip602)\" style=\"stroke:#000000; stroke-linecap:round; stroke-linejoin:round; stroke-width:2; stroke-opacity:0.1; fill:none\" points=\"233.96,1865.17 233.96,47.2441 \"/>\n",
       "<polyline clip-path=\"url(#clip602)\" style=\"stroke:#000000; stroke-linecap:round; stroke-linejoin:round; stroke-width:2; stroke-opacity:0.1; fill:none\" points=\"643.197,1865.17 643.197,47.2441 \"/>\n",
       "<polyline clip-path=\"url(#clip602)\" style=\"stroke:#000000; stroke-linecap:round; stroke-linejoin:round; stroke-width:2; stroke-opacity:0.1; fill:none\" points=\"1052.43,1865.17 1052.43,47.2441 \"/>\n",
       "<polyline clip-path=\"url(#clip602)\" style=\"stroke:#000000; stroke-linecap:round; stroke-linejoin:round; stroke-width:2; stroke-opacity:0.1; fill:none\" points=\"1461.67,1865.17 1461.67,47.2441 \"/>\n",
       "<polyline clip-path=\"url(#clip602)\" style=\"stroke:#000000; stroke-linecap:round; stroke-linejoin:round; stroke-width:2; stroke-opacity:0.1; fill:none\" points=\"1870.91,1865.17 1870.91,47.2441 \"/>\n",
       "<polyline clip-path=\"url(#clip600)\" style=\"stroke:#000000; stroke-linecap:round; stroke-linejoin:round; stroke-width:4; stroke-opacity:1; fill:none\" points=\"152.112,1865.17 1952.76,1865.17 \"/>\n",
       "<polyline clip-path=\"url(#clip600)\" style=\"stroke:#000000; stroke-linecap:round; stroke-linejoin:round; stroke-width:4; stroke-opacity:1; fill:none\" points=\"233.96,1865.17 233.96,1846.27 \"/>\n",
       "<polyline clip-path=\"url(#clip600)\" style=\"stroke:#000000; stroke-linecap:round; stroke-linejoin:round; stroke-width:4; stroke-opacity:1; fill:none\" points=\"643.197,1865.17 643.197,1846.27 \"/>\n",
       "<polyline clip-path=\"url(#clip600)\" style=\"stroke:#000000; stroke-linecap:round; stroke-linejoin:round; stroke-width:4; stroke-opacity:1; fill:none\" points=\"1052.43,1865.17 1052.43,1846.27 \"/>\n",
       "<polyline clip-path=\"url(#clip600)\" style=\"stroke:#000000; stroke-linecap:round; stroke-linejoin:round; stroke-width:4; stroke-opacity:1; fill:none\" points=\"1461.67,1865.17 1461.67,1846.27 \"/>\n",
       "<polyline clip-path=\"url(#clip600)\" style=\"stroke:#000000; stroke-linecap:round; stroke-linejoin:round; stroke-width:4; stroke-opacity:1; fill:none\" points=\"1870.91,1865.17 1870.91,1846.27 \"/>\n",
       "<path clip-path=\"url(#clip600)\" d=\"M211.344 1892.89 Q207.733 1892.89 205.904 1896.45 Q204.099 1899.99 204.099 1907.12 Q204.099 1914.23 205.904 1917.79 Q207.733 1921.34 211.344 1921.34 Q214.978 1921.34 216.784 1917.79 Q218.612 1914.23 218.612 1907.12 Q218.612 1899.99 216.784 1896.45 Q214.978 1892.89 211.344 1892.89 M211.344 1889.18 Q217.154 1889.18 220.21 1893.79 Q223.288 1898.37 223.288 1907.12 Q223.288 1915.85 220.21 1920.46 Q217.154 1925.04 211.344 1925.04 Q205.534 1925.04 202.455 1920.46 Q199.4 1915.85 199.4 1907.12 Q199.4 1898.37 202.455 1893.79 Q205.534 1889.18 211.344 1889.18 Z\" fill=\"#000000\" fill-rule=\"nonzero\" fill-opacity=\"1\" /><path clip-path=\"url(#clip600)\" d=\"M231.506 1918.49 L236.39 1918.49 L236.39 1924.37 L231.506 1924.37 L231.506 1918.49 Z\" fill=\"#000000\" fill-rule=\"nonzero\" fill-opacity=\"1\" /><path clip-path=\"url(#clip600)\" d=\"M256.575 1892.89 Q252.964 1892.89 251.135 1896.45 Q249.33 1899.99 249.33 1907.12 Q249.33 1914.23 251.135 1917.79 Q252.964 1921.34 256.575 1921.34 Q260.209 1921.34 262.015 1917.79 Q263.844 1914.23 263.844 1907.12 Q263.844 1899.99 262.015 1896.45 Q260.209 1892.89 256.575 1892.89 M256.575 1889.18 Q262.385 1889.18 265.441 1893.79 Q268.52 1898.37 268.52 1907.12 Q268.52 1915.85 265.441 1920.46 Q262.385 1925.04 256.575 1925.04 Q250.765 1925.04 247.686 1920.46 Q244.631 1915.85 244.631 1907.12 Q244.631 1898.37 247.686 1893.79 Q250.765 1889.18 256.575 1889.18 Z\" fill=\"#000000\" fill-rule=\"nonzero\" fill-opacity=\"1\" /><path clip-path=\"url(#clip600)\" d=\"M621.079 1892.89 Q617.468 1892.89 615.639 1896.45 Q613.834 1899.99 613.834 1907.12 Q613.834 1914.23 615.639 1917.79 Q617.468 1921.34 621.079 1921.34 Q624.713 1921.34 626.519 1917.79 Q628.347 1914.23 628.347 1907.12 Q628.347 1899.99 626.519 1896.45 Q624.713 1892.89 621.079 1892.89 M621.079 1889.18 Q626.889 1889.18 629.945 1893.79 Q633.023 1898.37 633.023 1907.12 Q633.023 1915.85 629.945 1920.46 Q626.889 1925.04 621.079 1925.04 Q615.269 1925.04 612.19 1920.46 Q609.134 1915.85 609.134 1907.12 Q609.134 1898.37 612.19 1893.79 Q615.269 1889.18 621.079 1889.18 Z\" fill=\"#000000\" fill-rule=\"nonzero\" fill-opacity=\"1\" /><path clip-path=\"url(#clip600)\" d=\"M641.241 1918.49 L646.125 1918.49 L646.125 1924.37 L641.241 1924.37 L641.241 1918.49 Z\" fill=\"#000000\" fill-rule=\"nonzero\" fill-opacity=\"1\" /><path clip-path=\"url(#clip600)\" d=\"M656.356 1889.81 L674.713 1889.81 L674.713 1893.74 L660.639 1893.74 L660.639 1902.22 Q661.657 1901.87 662.676 1901.71 Q663.694 1901.52 664.713 1901.52 Q670.5 1901.52 673.879 1904.69 Q677.259 1907.86 677.259 1913.28 Q677.259 1918.86 673.787 1921.96 Q670.315 1925.04 663.995 1925.04 Q661.819 1925.04 659.551 1924.67 Q657.306 1924.3 654.898 1923.56 L654.898 1918.86 Q656.981 1919.99 659.204 1920.55 Q661.426 1921.1 663.903 1921.1 Q667.907 1921.1 670.245 1919 Q672.583 1916.89 672.583 1913.28 Q672.583 1909.67 670.245 1907.56 Q667.907 1905.46 663.903 1905.46 Q662.028 1905.46 660.153 1905.87 Q658.301 1906.29 656.356 1907.17 L656.356 1889.81 Z\" fill=\"#000000\" fill-rule=\"nonzero\" fill-opacity=\"1\" /><path clip-path=\"url(#clip600)\" d=\"M1019.59 1920.43 L1027.23 1920.43 L1027.23 1894.07 L1018.92 1895.73 L1018.92 1891.47 L1027.18 1889.81 L1031.86 1889.81 L1031.86 1920.43 L1039.49 1920.43 L1039.49 1924.37 L1019.59 1924.37 L1019.59 1920.43 Z\" fill=\"#000000\" fill-rule=\"nonzero\" fill-opacity=\"1\" /><path clip-path=\"url(#clip600)\" d=\"M1048.94 1918.49 L1053.82 1918.49 L1053.82 1924.37 L1048.94 1924.37 L1048.94 1918.49 Z\" fill=\"#000000\" fill-rule=\"nonzero\" fill-opacity=\"1\" /><path clip-path=\"url(#clip600)\" d=\"M1074.01 1892.89 Q1070.4 1892.89 1068.57 1896.45 Q1066.76 1899.99 1066.76 1907.12 Q1066.76 1914.23 1068.57 1917.79 Q1070.4 1921.34 1074.01 1921.34 Q1077.64 1921.34 1079.45 1917.79 Q1081.28 1914.23 1081.28 1907.12 Q1081.28 1899.99 1079.45 1896.45 Q1077.64 1892.89 1074.01 1892.89 M1074.01 1889.18 Q1079.82 1889.18 1082.87 1893.79 Q1085.95 1898.37 1085.95 1907.12 Q1085.95 1915.85 1082.87 1920.46 Q1079.82 1925.04 1074.01 1925.04 Q1068.2 1925.04 1065.12 1920.46 Q1062.06 1915.85 1062.06 1907.12 Q1062.06 1898.37 1065.12 1893.79 Q1068.2 1889.18 1074.01 1889.18 Z\" fill=\"#000000\" fill-rule=\"nonzero\" fill-opacity=\"1\" /><path clip-path=\"url(#clip600)\" d=\"M1429.32 1920.43 L1436.96 1920.43 L1436.96 1894.07 L1428.65 1895.73 L1428.65 1891.47 L1436.91 1889.81 L1441.59 1889.81 L1441.59 1920.43 L1449.23 1920.43 L1449.23 1924.37 L1429.32 1924.37 L1429.32 1920.43 Z\" fill=\"#000000\" fill-rule=\"nonzero\" fill-opacity=\"1\" /><path clip-path=\"url(#clip600)\" d=\"M1458.67 1918.49 L1463.56 1918.49 L1463.56 1924.37 L1458.67 1924.37 L1458.67 1918.49 Z\" fill=\"#000000\" fill-rule=\"nonzero\" fill-opacity=\"1\" /><path clip-path=\"url(#clip600)\" d=\"M1473.79 1889.81 L1492.15 1889.81 L1492.15 1893.74 L1478.07 1893.74 L1478.07 1902.22 Q1479.09 1901.87 1480.11 1901.71 Q1481.13 1901.52 1482.15 1901.52 Q1487.93 1901.52 1491.31 1904.69 Q1494.69 1907.86 1494.69 1913.28 Q1494.69 1918.86 1491.22 1921.96 Q1487.75 1925.04 1481.43 1925.04 Q1479.25 1925.04 1476.98 1924.67 Q1474.74 1924.3 1472.33 1923.56 L1472.33 1918.86 Q1474.41 1919.99 1476.64 1920.55 Q1478.86 1921.1 1481.34 1921.1 Q1485.34 1921.1 1487.68 1919 Q1490.02 1916.89 1490.02 1913.28 Q1490.02 1909.67 1487.68 1907.56 Q1485.34 1905.46 1481.34 1905.46 Q1479.46 1905.46 1477.59 1905.87 Q1475.73 1906.29 1473.79 1907.17 L1473.79 1889.81 Z\" fill=\"#000000\" fill-rule=\"nonzero\" fill-opacity=\"1\" /><path clip-path=\"url(#clip600)\" d=\"M1842.15 1920.43 L1858.47 1920.43 L1858.47 1924.37 L1836.52 1924.37 L1836.52 1920.43 Q1839.18 1917.68 1843.77 1913.05 Q1848.37 1908.4 1849.55 1907.05 Q1851.8 1904.53 1852.68 1902.79 Q1853.58 1901.03 1853.58 1899.34 Q1853.58 1896.59 1851.64 1894.85 Q1849.72 1893.12 1846.61 1893.12 Q1844.42 1893.12 1841.96 1893.88 Q1839.53 1894.65 1836.75 1896.2 L1836.75 1891.47 Q1839.58 1890.34 1842.03 1889.76 Q1844.48 1889.18 1846.52 1889.18 Q1851.89 1889.18 1855.09 1891.87 Q1858.28 1894.55 1858.28 1899.04 Q1858.28 1901.17 1857.47 1903.09 Q1856.68 1904.99 1854.58 1907.59 Q1854 1908.26 1850.9 1911.47 Q1847.8 1914.67 1842.15 1920.43 Z\" fill=\"#000000\" fill-rule=\"nonzero\" fill-opacity=\"1\" /><path clip-path=\"url(#clip600)\" d=\"M1868.28 1918.49 L1873.17 1918.49 L1873.17 1924.37 L1868.28 1924.37 L1868.28 1918.49 Z\" fill=\"#000000\" fill-rule=\"nonzero\" fill-opacity=\"1\" /><path clip-path=\"url(#clip600)\" d=\"M1893.35 1892.89 Q1889.74 1892.89 1887.91 1896.45 Q1886.11 1899.99 1886.11 1907.12 Q1886.11 1914.23 1887.91 1917.79 Q1889.74 1921.34 1893.35 1921.34 Q1896.98 1921.34 1898.79 1917.79 Q1900.62 1914.23 1900.62 1907.12 Q1900.62 1899.99 1898.79 1896.45 Q1896.98 1892.89 1893.35 1892.89 M1893.35 1889.18 Q1899.16 1889.18 1902.22 1893.79 Q1905.29 1898.37 1905.29 1907.12 Q1905.29 1915.85 1902.22 1920.46 Q1899.16 1925.04 1893.35 1925.04 Q1887.54 1925.04 1884.46 1920.46 Q1881.41 1915.85 1881.41 1907.12 Q1881.41 1898.37 1884.46 1893.79 Q1887.54 1889.18 1893.35 1889.18 Z\" fill=\"#000000\" fill-rule=\"nonzero\" fill-opacity=\"1\" /><polyline clip-path=\"url(#clip602)\" style=\"stroke:#000000; stroke-linecap:round; stroke-linejoin:round; stroke-width:2; stroke-opacity:0.1; fill:none\" points=\"152.112,1782.53 1952.76,1782.53 \"/>\n",
       "<polyline clip-path=\"url(#clip602)\" style=\"stroke:#000000; stroke-linecap:round; stroke-linejoin:round; stroke-width:2; stroke-opacity:0.1; fill:none\" points=\"152.112,1369.37 1952.76,1369.37 \"/>\n",
       "<polyline clip-path=\"url(#clip602)\" style=\"stroke:#000000; stroke-linecap:round; stroke-linejoin:round; stroke-width:2; stroke-opacity:0.1; fill:none\" points=\"152.112,956.206 1952.76,956.206 \"/>\n",
       "<polyline clip-path=\"url(#clip602)\" style=\"stroke:#000000; stroke-linecap:round; stroke-linejoin:round; stroke-width:2; stroke-opacity:0.1; fill:none\" points=\"152.112,543.041 1952.76,543.041 \"/>\n",
       "<polyline clip-path=\"url(#clip602)\" style=\"stroke:#000000; stroke-linecap:round; stroke-linejoin:round; stroke-width:2; stroke-opacity:0.1; fill:none\" points=\"152.112,129.877 1952.76,129.877 \"/>\n",
       "<polyline clip-path=\"url(#clip600)\" style=\"stroke:#000000; stroke-linecap:round; stroke-linejoin:round; stroke-width:4; stroke-opacity:1; fill:none\" points=\"152.112,1865.17 152.112,47.2441 \"/>\n",
       "<polyline clip-path=\"url(#clip600)\" style=\"stroke:#000000; stroke-linecap:round; stroke-linejoin:round; stroke-width:4; stroke-opacity:1; fill:none\" points=\"152.112,1782.53 171.01,1782.53 \"/>\n",
       "<polyline clip-path=\"url(#clip600)\" style=\"stroke:#000000; stroke-linecap:round; stroke-linejoin:round; stroke-width:4; stroke-opacity:1; fill:none\" points=\"152.112,1369.37 171.01,1369.37 \"/>\n",
       "<polyline clip-path=\"url(#clip600)\" style=\"stroke:#000000; stroke-linecap:round; stroke-linejoin:round; stroke-width:4; stroke-opacity:1; fill:none\" points=\"152.112,956.206 171.01,956.206 \"/>\n",
       "<polyline clip-path=\"url(#clip600)\" style=\"stroke:#000000; stroke-linecap:round; stroke-linejoin:round; stroke-width:4; stroke-opacity:1; fill:none\" points=\"152.112,543.041 171.01,543.041 \"/>\n",
       "<polyline clip-path=\"url(#clip600)\" style=\"stroke:#000000; stroke-linecap:round; stroke-linejoin:round; stroke-width:4; stroke-opacity:1; fill:none\" points=\"152.112,129.877 171.01,129.877 \"/>\n",
       "<path clip-path=\"url(#clip600)\" d=\"M64.9365 1768.33 Q61.3254 1768.33 59.4967 1771.9 Q57.6912 1775.44 57.6912 1782.57 Q57.6912 1789.68 59.4967 1793.24 Q61.3254 1796.78 64.9365 1796.78 Q68.5707 1796.78 70.3763 1793.24 Q72.205 1789.68 72.205 1782.57 Q72.205 1775.44 70.3763 1771.9 Q68.5707 1768.33 64.9365 1768.33 M64.9365 1764.63 Q70.7467 1764.63 73.8022 1769.24 Q76.8809 1773.82 76.8809 1782.57 Q76.8809 1791.3 73.8022 1795.9 Q70.7467 1800.49 64.9365 1800.49 Q59.1264 1800.49 56.0477 1795.9 Q52.9921 1791.3 52.9921 1782.57 Q52.9921 1773.82 56.0477 1769.24 Q59.1264 1764.63 64.9365 1764.63 Z\" fill=\"#000000\" fill-rule=\"nonzero\" fill-opacity=\"1\" /><path clip-path=\"url(#clip600)\" d=\"M85.0984 1793.94 L89.9827 1793.94 L89.9827 1799.81 L85.0984 1799.81 L85.0984 1793.94 Z\" fill=\"#000000\" fill-rule=\"nonzero\" fill-opacity=\"1\" /><path clip-path=\"url(#clip600)\" d=\"M110.168 1768.33 Q106.557 1768.33 104.728 1771.9 Q102.922 1775.44 102.922 1782.57 Q102.922 1789.68 104.728 1793.24 Q106.557 1796.78 110.168 1796.78 Q113.802 1796.78 115.608 1793.24 Q117.436 1789.68 117.436 1782.57 Q117.436 1775.44 115.608 1771.9 Q113.802 1768.33 110.168 1768.33 M110.168 1764.63 Q115.978 1764.63 119.033 1769.24 Q122.112 1773.82 122.112 1782.57 Q122.112 1791.3 119.033 1795.9 Q115.978 1800.49 110.168 1800.49 Q104.358 1800.49 101.279 1795.9 Q98.2234 1791.3 98.2234 1782.57 Q98.2234 1773.82 101.279 1769.24 Q104.358 1764.63 110.168 1764.63 Z\" fill=\"#000000\" fill-rule=\"nonzero\" fill-opacity=\"1\" /><path clip-path=\"url(#clip600)\" d=\"M65.9319 1355.17 Q62.3208 1355.17 60.4921 1358.73 Q58.6865 1362.28 58.6865 1369.41 Q58.6865 1376.51 60.4921 1380.08 Q62.3208 1383.62 65.9319 1383.62 Q69.5661 1383.62 71.3717 1380.08 Q73.2004 1376.51 73.2004 1369.41 Q73.2004 1362.28 71.3717 1358.73 Q69.5661 1355.17 65.9319 1355.17 M65.9319 1351.47 Q71.742 1351.47 74.7976 1356.07 Q77.8763 1360.66 77.8763 1369.41 Q77.8763 1378.13 74.7976 1382.74 Q71.742 1387.32 65.9319 1387.32 Q60.1217 1387.32 57.043 1382.74 Q53.9875 1378.13 53.9875 1369.41 Q53.9875 1360.66 57.043 1356.07 Q60.1217 1351.47 65.9319 1351.47 Z\" fill=\"#000000\" fill-rule=\"nonzero\" fill-opacity=\"1\" /><path clip-path=\"url(#clip600)\" d=\"M86.0938 1380.77 L90.978 1380.77 L90.978 1386.65 L86.0938 1386.65 L86.0938 1380.77 Z\" fill=\"#000000\" fill-rule=\"nonzero\" fill-opacity=\"1\" /><path clip-path=\"url(#clip600)\" d=\"M101.209 1352.09 L119.566 1352.09 L119.566 1356.03 L105.492 1356.03 L105.492 1364.5 Q106.51 1364.15 107.529 1363.99 Q108.547 1363.8 109.566 1363.8 Q115.353 1363.8 118.733 1366.97 Q122.112 1370.15 122.112 1375.56 Q122.112 1381.14 118.64 1384.24 Q115.168 1387.32 108.848 1387.32 Q106.672 1387.32 104.404 1386.95 Q102.159 1386.58 99.7511 1385.84 L99.7511 1381.14 Q101.834 1382.28 104.057 1382.83 Q106.279 1383.39 108.756 1383.39 Q112.76 1383.39 115.098 1381.28 Q117.436 1379.17 117.436 1375.56 Q117.436 1371.95 115.098 1369.85 Q112.76 1367.74 108.756 1367.74 Q106.881 1367.74 105.006 1368.16 Q103.154 1368.57 101.209 1369.45 L101.209 1352.09 Z\" fill=\"#000000\" fill-rule=\"nonzero\" fill-opacity=\"1\" /><path clip-path=\"url(#clip600)\" d=\"M55.7467 969.551 L63.3856 969.551 L63.3856 943.185 L55.0754 944.852 L55.0754 940.593 L63.3393 938.926 L68.0152 938.926 L68.0152 969.551 L75.654 969.551 L75.654 973.486 L55.7467 973.486 L55.7467 969.551 Z\" fill=\"#000000\" fill-rule=\"nonzero\" fill-opacity=\"1\" /><path clip-path=\"url(#clip600)\" d=\"M85.0984 967.606 L89.9827 967.606 L89.9827 973.486 L85.0984 973.486 L85.0984 967.606 Z\" fill=\"#000000\" fill-rule=\"nonzero\" fill-opacity=\"1\" /><path clip-path=\"url(#clip600)\" d=\"M110.168 942.005 Q106.557 942.005 104.728 945.569 Q102.922 949.111 102.922 956.241 Q102.922 963.347 104.728 966.912 Q106.557 970.454 110.168 970.454 Q113.802 970.454 115.608 966.912 Q117.436 963.347 117.436 956.241 Q117.436 949.111 115.608 945.569 Q113.802 942.005 110.168 942.005 M110.168 938.301 Q115.978 938.301 119.033 942.907 Q122.112 947.491 122.112 956.241 Q122.112 964.968 119.033 969.574 Q115.978 974.157 110.168 974.157 Q104.358 974.157 101.279 969.574 Q98.2234 964.968 98.2234 956.241 Q98.2234 947.491 101.279 942.907 Q104.358 938.301 110.168 938.301 Z\" fill=\"#000000\" fill-rule=\"nonzero\" fill-opacity=\"1\" /><path clip-path=\"url(#clip600)\" d=\"M56.7421 556.386 L64.381 556.386 L64.381 530.021 L56.0708 531.687 L56.0708 527.428 L64.3347 525.761 L69.0106 525.761 L69.0106 556.386 L76.6494 556.386 L76.6494 560.321 L56.7421 560.321 L56.7421 556.386 Z\" fill=\"#000000\" fill-rule=\"nonzero\" fill-opacity=\"1\" /><path clip-path=\"url(#clip600)\" d=\"M86.0938 554.442 L90.978 554.442 L90.978 560.321 L86.0938 560.321 L86.0938 554.442 Z\" fill=\"#000000\" fill-rule=\"nonzero\" fill-opacity=\"1\" /><path clip-path=\"url(#clip600)\" d=\"M101.209 525.761 L119.566 525.761 L119.566 529.697 L105.492 529.697 L105.492 538.169 Q106.51 537.822 107.529 537.66 Q108.547 537.474 109.566 537.474 Q115.353 537.474 118.733 540.646 Q122.112 543.817 122.112 549.234 Q122.112 554.812 118.64 557.914 Q115.168 560.993 108.848 560.993 Q106.672 560.993 104.404 560.622 Q102.159 560.252 99.7511 559.511 L99.7511 554.812 Q101.834 555.947 104.057 556.502 Q106.279 557.058 108.756 557.058 Q112.76 557.058 115.098 554.951 Q117.436 552.845 117.436 549.234 Q117.436 545.622 115.098 543.516 Q112.76 541.41 108.756 541.41 Q106.881 541.41 105.006 541.826 Q103.154 542.243 101.209 543.123 L101.209 525.761 Z\" fill=\"#000000\" fill-rule=\"nonzero\" fill-opacity=\"1\" /><path clip-path=\"url(#clip600)\" d=\"M58.9643 143.222 L75.2837 143.222 L75.2837 147.157 L53.3393 147.157 L53.3393 143.222 Q56.0014 140.467 60.5847 135.838 Q65.1911 131.185 66.3717 129.842 Q68.617 127.319 69.4967 125.583 Q70.3994 123.824 70.3994 122.134 Q70.3994 119.379 68.455 117.643 Q66.5337 115.907 63.4319 115.907 Q61.2328 115.907 58.7791 116.671 Q56.3486 117.435 53.5708 118.986 L53.5708 114.264 Q56.3949 113.129 58.8486 112.551 Q61.3023 111.972 63.3393 111.972 Q68.7096 111.972 71.9041 114.657 Q75.0985 117.342 75.0985 121.833 Q75.0985 123.963 74.2883 125.884 Q73.5013 127.782 71.3948 130.375 Q70.8161 131.046 67.7143 134.264 Q64.6124 137.458 58.9643 143.222 Z\" fill=\"#000000\" fill-rule=\"nonzero\" fill-opacity=\"1\" /><path clip-path=\"url(#clip600)\" d=\"M85.0984 141.277 L89.9827 141.277 L89.9827 147.157 L85.0984 147.157 L85.0984 141.277 Z\" fill=\"#000000\" fill-rule=\"nonzero\" fill-opacity=\"1\" /><path clip-path=\"url(#clip600)\" d=\"M110.168 115.676 Q106.557 115.676 104.728 119.24 Q102.922 122.782 102.922 129.912 Q102.922 137.018 104.728 140.583 Q106.557 144.125 110.168 144.125 Q113.802 144.125 115.608 140.583 Q117.436 137.018 117.436 129.912 Q117.436 122.782 115.608 119.24 Q113.802 115.676 110.168 115.676 M110.168 111.972 Q115.978 111.972 119.033 116.578 Q122.112 121.162 122.112 129.912 Q122.112 138.639 119.033 143.245 Q115.978 147.828 110.168 147.828 Q104.358 147.828 101.279 143.245 Q98.2234 138.639 98.2234 129.912 Q98.2234 121.162 101.279 116.578 Q104.358 111.972 110.168 111.972 Z\" fill=\"#000000\" fill-rule=\"nonzero\" fill-opacity=\"1\" /><circle clip-path=\"url(#clip602)\" cx=\"1052.43\" cy=\"1782.53\" r=\"14.4\" fill=\"#009af9\" fill-rule=\"evenodd\" fill-opacity=\"1\" stroke=\"#000000\" stroke-opacity=\"1\" stroke-width=\"4\"/>\n",
       "<circle clip-path=\"url(#clip602)\" cx=\"1461.67\" cy=\"1782.53\" r=\"14.4\" fill=\"#009af9\" fill-rule=\"evenodd\" fill-opacity=\"1\" stroke=\"#000000\" stroke-opacity=\"1\" stroke-width=\"4\"/>\n",
       "<circle clip-path=\"url(#clip602)\" cx=\"1870.91\" cy=\"1782.53\" r=\"14.4\" fill=\"#009af9\" fill-rule=\"evenodd\" fill-opacity=\"1\" stroke=\"#000000\" stroke-opacity=\"1\" stroke-width=\"4\"/>\n",
       "<circle clip-path=\"url(#clip602)\" cx=\"1052.43\" cy=\"1575.95\" r=\"14.4\" fill=\"#009af9\" fill-rule=\"evenodd\" fill-opacity=\"1\" stroke=\"#000000\" stroke-opacity=\"1\" stroke-width=\"4\"/>\n",
       "<circle clip-path=\"url(#clip602)\" cx=\"1461.67\" cy=\"1575.95\" r=\"14.4\" fill=\"#009af9\" fill-rule=\"evenodd\" fill-opacity=\"1\" stroke=\"#000000\" stroke-opacity=\"1\" stroke-width=\"4\"/>\n",
       "<circle clip-path=\"url(#clip602)\" cx=\"1052.43\" cy=\"1369.37\" r=\"14.4\" fill=\"#009af9\" fill-rule=\"evenodd\" fill-opacity=\"1\" stroke=\"#000000\" stroke-opacity=\"1\" stroke-width=\"4\"/>\n",
       "<circle clip-path=\"url(#clip602)\" cx=\"643.197\" cy=\"1066.91\" r=\"14.4\" fill=\"#e26f46\" fill-rule=\"evenodd\" fill-opacity=\"1\" stroke=\"#000000\" stroke-opacity=\"1\" stroke-width=\"4\"/>\n",
       "<circle clip-path=\"url(#clip602)\" cx=\"847.815\" cy=\"709.102\" r=\"14.4\" fill=\"#e26f46\" fill-rule=\"evenodd\" fill-opacity=\"1\" stroke=\"#000000\" stroke-opacity=\"1\" stroke-width=\"4\"/>\n",
       "<circle clip-path=\"url(#clip602)\" cx=\"1052.43\" cy=\"351.291\" r=\"14.4\" fill=\"#e26f46\" fill-rule=\"evenodd\" fill-opacity=\"1\" stroke=\"#000000\" stroke-opacity=\"1\" stroke-width=\"4\"/>\n",
       "<circle clip-path=\"url(#clip602)\" cx=\"465.992\" cy=\"963.622\" r=\"14.4\" fill=\"#e26f46\" fill-rule=\"evenodd\" fill-opacity=\"1\" stroke=\"#000000\" stroke-opacity=\"1\" stroke-width=\"4\"/>\n",
       "<circle clip-path=\"url(#clip602)\" cx=\"670.61\" cy=\"605.811\" r=\"14.4\" fill=\"#e26f46\" fill-rule=\"evenodd\" fill-opacity=\"1\" stroke=\"#000000\" stroke-opacity=\"1\" stroke-width=\"4\"/>\n",
       "<circle clip-path=\"url(#clip602)\" cx=\"288.787\" cy=\"860.331\" r=\"14.4\" fill=\"#e26f46\" fill-rule=\"evenodd\" fill-opacity=\"1\" stroke=\"#000000\" stroke-opacity=\"1\" stroke-width=\"4\"/>\n",
       "<path clip-path=\"url(#clip600)\" d=\"M1374.66 263.362 L1892.73 263.362 L1892.73 107.842 L1374.66 107.842  Z\" fill=\"#ffffff\" fill-rule=\"evenodd\" fill-opacity=\"1\"/>\n",
       "<polyline clip-path=\"url(#clip600)\" style=\"stroke:#000000; stroke-linecap:round; stroke-linejoin:round; stroke-width:4; stroke-opacity:1; fill:none\" points=\"1374.66,263.362 1892.73,263.362 1892.73,107.842 1374.66,107.842 1374.66,263.362 \"/>\n",
       "<circle clip-path=\"url(#clip600)\" cx=\"1454.69\" cy=\"159.682\" r=\"20.48\" fill=\"#009af9\" fill-rule=\"evenodd\" fill-opacity=\"1\" stroke=\"#000000\" stroke-opacity=\"1\" stroke-width=\"5.68889\"/>\n",
       "<path clip-path=\"url(#clip600)\" d=\"M1550.74 145.573 Q1545.65 145.573 1542.64 149.369 Q1539.65 153.165 1539.65 159.716 Q1539.65 166.244 1542.64 170.04 Q1545.65 173.837 1550.74 173.837 Q1555.83 173.837 1558.79 170.04 Q1561.78 166.244 1561.78 159.716 Q1561.78 153.165 1558.79 149.369 Q1555.83 145.573 1550.74 145.573 M1550.74 141.777 Q1558.01 141.777 1562.36 146.661 Q1566.71 151.522 1566.71 159.716 Q1566.71 167.888 1562.36 172.772 Q1558.01 177.633 1550.74 177.633 Q1543.45 177.633 1539.07 172.772 Q1534.72 167.911 1534.72 159.716 Q1534.72 151.522 1539.07 146.661 Q1543.45 141.777 1550.74 141.777 Z\" fill=\"#000000\" fill-rule=\"nonzero\" fill-opacity=\"1\" /><path clip-path=\"url(#clip600)\" d=\"M1588.86 155.017 Q1588.15 154.601 1587.29 154.415 Q1586.46 154.207 1585.44 154.207 Q1581.83 154.207 1579.88 156.568 Q1577.96 158.906 1577.96 163.304 L1577.96 176.962 L1573.68 176.962 L1573.68 151.036 L1577.96 151.036 L1577.96 155.064 Q1579.3 152.702 1581.46 151.568 Q1583.61 150.411 1586.69 150.411 Q1587.13 150.411 1587.66 150.48 Q1588.19 150.527 1588.84 150.642 L1588.86 155.017 Z\" fill=\"#000000\" fill-rule=\"nonzero\" fill-opacity=\"1\" /><path clip-path=\"url(#clip600)\" d=\"M1593.33 151.036 L1597.59 151.036 L1597.59 176.962 L1593.33 176.962 L1593.33 151.036 M1593.33 140.943 L1597.59 140.943 L1597.59 146.337 L1593.33 146.337 L1593.33 140.943 Z\" fill=\"#000000\" fill-rule=\"nonzero\" fill-opacity=\"1\" /><path clip-path=\"url(#clip600)\" d=\"M1623.56 163.698 Q1623.56 159.068 1621.64 156.522 Q1619.74 153.976 1616.29 153.976 Q1612.87 153.976 1610.95 156.522 Q1609.05 159.068 1609.05 163.698 Q1609.05 168.304 1610.95 170.85 Q1612.87 173.397 1616.29 173.397 Q1619.74 173.397 1621.64 170.85 Q1623.56 168.304 1623.56 163.698 M1627.82 173.744 Q1627.82 180.364 1624.88 183.582 Q1621.94 186.823 1615.88 186.823 Q1613.63 186.823 1611.64 186.475 Q1609.65 186.151 1607.78 185.457 L1607.78 181.313 Q1609.65 182.332 1611.48 182.818 Q1613.31 183.304 1615.21 183.304 Q1619.4 183.304 1621.48 181.105 Q1623.56 178.929 1623.56 174.508 L1623.56 172.401 Q1622.24 174.693 1620.18 175.827 Q1618.12 176.962 1615.25 176.962 Q1610.48 176.962 1607.57 173.327 Q1604.65 169.693 1604.65 163.698 Q1604.65 157.679 1607.57 154.045 Q1610.48 150.411 1615.25 150.411 Q1618.12 150.411 1620.18 151.545 Q1622.24 152.679 1623.56 154.971 L1623.56 151.036 L1627.82 151.036 L1627.82 173.744 Z\" fill=\"#000000\" fill-rule=\"nonzero\" fill-opacity=\"1\" /><path clip-path=\"url(#clip600)\" d=\"M1636.59 151.036 L1640.85 151.036 L1640.85 176.962 L1636.59 176.962 L1636.59 151.036 M1636.59 140.943 L1640.85 140.943 L1640.85 146.337 L1636.59 146.337 L1636.59 140.943 Z\" fill=\"#000000\" fill-rule=\"nonzero\" fill-opacity=\"1\" /><path clip-path=\"url(#clip600)\" d=\"M1671.32 161.313 L1671.32 176.962 L1667.06 176.962 L1667.06 161.452 Q1667.06 157.772 1665.62 155.943 Q1664.19 154.114 1661.32 154.114 Q1657.87 154.114 1655.88 156.314 Q1653.89 158.513 1653.89 162.309 L1653.89 176.962 L1649.6 176.962 L1649.6 151.036 L1653.89 151.036 L1653.89 155.064 Q1655.41 152.726 1657.47 151.568 Q1659.56 150.411 1662.27 150.411 Q1666.73 150.411 1669.02 153.189 Q1671.32 155.943 1671.32 161.313 Z\" fill=\"#000000\" fill-rule=\"nonzero\" fill-opacity=\"1\" /><path clip-path=\"url(#clip600)\" d=\"M1691.59 163.929 Q1686.43 163.929 1684.44 165.11 Q1682.45 166.29 1682.45 169.138 Q1682.45 171.406 1683.93 172.749 Q1685.44 174.068 1688.01 174.068 Q1691.55 174.068 1693.68 171.568 Q1695.83 169.045 1695.83 164.878 L1695.83 163.929 L1691.59 163.929 M1700.09 162.17 L1700.09 176.962 L1695.83 176.962 L1695.83 173.026 Q1694.37 175.387 1692.2 176.522 Q1690.02 177.633 1686.87 177.633 Q1682.89 177.633 1680.53 175.411 Q1678.19 173.165 1678.19 169.415 Q1678.19 165.04 1681.11 162.818 Q1684.05 160.596 1689.86 160.596 L1695.83 160.596 L1695.83 160.179 Q1695.83 157.239 1693.89 155.642 Q1691.96 154.022 1688.47 154.022 Q1686.25 154.022 1684.14 154.554 Q1682.03 155.087 1680.09 156.151 L1680.09 152.216 Q1682.43 151.314 1684.63 150.874 Q1686.83 150.411 1688.91 150.411 Q1694.53 150.411 1697.31 153.327 Q1700.09 156.244 1700.09 162.17 Z\" fill=\"#000000\" fill-rule=\"nonzero\" fill-opacity=\"1\" /><path clip-path=\"url(#clip600)\" d=\"M1708.86 140.943 L1713.12 140.943 L1713.12 176.962 L1708.86 176.962 L1708.86 140.943 Z\" fill=\"#000000\" fill-rule=\"nonzero\" fill-opacity=\"1\" /><path clip-path=\"url(#clip600)\" d=\"M1741.96 146.244 L1741.96 159.23 L1747.84 159.23 Q1751.11 159.23 1752.89 157.54 Q1754.67 155.851 1754.67 152.726 Q1754.67 149.624 1752.89 147.934 Q1751.11 146.244 1747.84 146.244 L1741.96 146.244 M1737.29 142.402 L1747.84 142.402 Q1753.65 142.402 1756.62 145.04 Q1759.6 147.656 1759.6 152.726 Q1759.6 157.841 1756.62 160.457 Q1753.65 163.073 1747.84 163.073 L1741.96 163.073 L1741.96 176.962 L1737.29 176.962 L1737.29 142.402 Z\" fill=\"#000000\" fill-rule=\"nonzero\" fill-opacity=\"1\" /><path clip-path=\"url(#clip600)\" d=\"M1774.05 154.022 Q1770.62 154.022 1768.63 156.707 Q1766.64 159.369 1766.64 164.022 Q1766.64 168.675 1768.61 171.36 Q1770.6 174.022 1774.05 174.022 Q1777.45 174.022 1779.44 171.337 Q1781.43 168.651 1781.43 164.022 Q1781.43 159.415 1779.44 156.73 Q1777.45 154.022 1774.05 154.022 M1774.05 150.411 Q1779.6 150.411 1782.77 154.022 Q1785.95 157.633 1785.95 164.022 Q1785.95 170.388 1782.77 174.022 Q1779.6 177.633 1774.05 177.633 Q1768.47 177.633 1765.3 174.022 Q1762.15 170.388 1762.15 164.022 Q1762.15 157.633 1765.3 154.022 Q1768.47 150.411 1774.05 150.411 Z\" fill=\"#000000\" fill-rule=\"nonzero\" fill-opacity=\"1\" /><path clip-path=\"url(#clip600)\" d=\"M1793.01 151.036 L1797.26 151.036 L1797.26 176.962 L1793.01 176.962 L1793.01 151.036 M1793.01 140.943 L1797.26 140.943 L1797.26 146.337 L1793.01 146.337 L1793.01 140.943 Z\" fill=\"#000000\" fill-rule=\"nonzero\" fill-opacity=\"1\" /><path clip-path=\"url(#clip600)\" d=\"M1827.73 161.313 L1827.73 176.962 L1823.47 176.962 L1823.47 161.452 Q1823.47 157.772 1822.03 155.943 Q1820.6 154.114 1817.73 154.114 Q1814.28 154.114 1812.29 156.314 Q1810.3 158.513 1810.3 162.309 L1810.3 176.962 L1806.01 176.962 L1806.01 151.036 L1810.3 151.036 L1810.3 155.064 Q1811.82 152.726 1813.89 151.568 Q1815.97 150.411 1818.68 150.411 Q1823.14 150.411 1825.44 153.189 Q1827.73 155.943 1827.73 161.313 Z\" fill=\"#000000\" fill-rule=\"nonzero\" fill-opacity=\"1\" /><path clip-path=\"url(#clip600)\" d=\"M1840.44 143.675 L1840.44 151.036 L1849.21 151.036 L1849.21 154.346 L1840.44 154.346 L1840.44 168.42 Q1840.44 171.591 1841.29 172.494 Q1842.17 173.397 1844.83 173.397 L1849.21 173.397 L1849.21 176.962 L1844.83 176.962 Q1839.9 176.962 1838.03 175.133 Q1836.15 173.281 1836.15 168.42 L1836.15 154.346 L1833.03 154.346 L1833.03 151.036 L1836.15 151.036 L1836.15 143.675 L1840.44 143.675 Z\" fill=\"#000000\" fill-rule=\"nonzero\" fill-opacity=\"1\" /><path clip-path=\"url(#clip600)\" d=\"M1871.34 151.8 L1871.34 155.827 Q1869.53 154.901 1867.59 154.439 Q1865.64 153.976 1863.56 153.976 Q1860.39 153.976 1858.79 154.948 Q1857.22 155.92 1857.22 157.864 Q1857.22 159.346 1858.35 160.202 Q1859.49 161.036 1862.91 161.8 L1864.37 162.124 Q1868.91 163.096 1870.81 164.878 Q1872.73 166.638 1872.73 169.809 Q1872.73 173.42 1869.86 175.526 Q1867.01 177.633 1862.01 177.633 Q1859.93 177.633 1857.66 177.216 Q1855.41 176.823 1852.91 176.012 L1852.91 171.614 Q1855.27 172.841 1857.57 173.466 Q1859.86 174.068 1862.1 174.068 Q1865.11 174.068 1866.73 173.05 Q1868.35 172.008 1868.35 170.133 Q1868.35 168.397 1867.17 167.471 Q1866.01 166.545 1862.06 165.688 L1860.57 165.341 Q1856.62 164.508 1854.86 162.795 Q1853.1 161.059 1853.1 158.05 Q1853.1 154.392 1855.69 152.402 Q1858.28 150.411 1863.05 150.411 Q1865.41 150.411 1867.5 150.758 Q1869.58 151.105 1871.34 151.8 Z\" fill=\"#000000\" fill-rule=\"nonzero\" fill-opacity=\"1\" /><circle clip-path=\"url(#clip600)\" cx=\"1454.69\" cy=\"211.522\" r=\"20.48\" fill=\"#e26f46\" fill-rule=\"evenodd\" fill-opacity=\"1\" stroke=\"#000000\" stroke-opacity=\"1\" stroke-width=\"5.68889\"/>\n",
       "<path clip-path=\"url(#clip600)\" d=\"M1551.11 212.598 Q1552.61 213.107 1554.03 214.774 Q1555.46 216.441 1556.9 219.357 L1561.64 228.802 L1556.62 228.802 L1552.2 219.936 Q1550.48 216.464 1548.86 215.329 Q1547.27 214.195 1544.49 214.195 L1539.4 214.195 L1539.4 228.802 L1534.72 228.802 L1534.72 194.242 L1545.28 194.242 Q1551.2 194.242 1554.12 196.718 Q1557.03 199.195 1557.03 204.195 Q1557.03 207.459 1555.51 209.612 Q1554 211.765 1551.11 212.598 M1539.4 198.084 L1539.4 210.353 L1545.28 210.353 Q1548.65 210.353 1550.37 208.802 Q1552.1 207.228 1552.1 204.195 Q1552.1 201.163 1550.37 199.635 Q1548.65 198.084 1545.28 198.084 L1539.4 198.084 Z\" fill=\"#000000\" fill-rule=\"nonzero\" fill-opacity=\"1\" /><path clip-path=\"url(#clip600)\" d=\"M1575.39 205.862 Q1571.97 205.862 1569.97 208.547 Q1567.98 211.209 1567.98 215.862 Q1567.98 220.515 1569.95 223.2 Q1571.94 225.862 1575.39 225.862 Q1578.79 225.862 1580.78 223.177 Q1582.78 220.491 1582.78 215.862 Q1582.78 211.255 1580.78 208.57 Q1578.79 205.862 1575.39 205.862 M1575.39 202.251 Q1580.95 202.251 1584.12 205.862 Q1587.29 209.473 1587.29 215.862 Q1587.29 222.228 1584.12 225.862 Q1580.95 229.473 1575.39 229.473 Q1569.81 229.473 1566.64 225.862 Q1563.49 222.228 1563.49 215.862 Q1563.49 209.473 1566.64 205.862 Q1569.81 202.251 1575.39 202.251 Z\" fill=\"#000000\" fill-rule=\"nonzero\" fill-opacity=\"1\" /><path clip-path=\"url(#clip600)\" d=\"M1598.56 195.515 L1598.56 202.876 L1607.34 202.876 L1607.34 206.186 L1598.56 206.186 L1598.56 220.26 Q1598.56 223.431 1599.42 224.334 Q1600.3 225.237 1602.96 225.237 L1607.34 225.237 L1607.34 228.802 L1602.96 228.802 Q1598.03 228.802 1596.15 226.973 Q1594.28 225.121 1594.28 220.26 L1594.28 206.186 L1591.15 206.186 L1591.15 202.876 L1594.28 202.876 L1594.28 195.515 L1598.56 195.515 Z\" fill=\"#000000\" fill-rule=\"nonzero\" fill-opacity=\"1\" /><path clip-path=\"url(#clip600)\" d=\"M1624.72 215.769 Q1619.56 215.769 1617.57 216.95 Q1615.58 218.13 1615.58 220.978 Q1615.58 223.246 1617.06 224.589 Q1618.56 225.908 1621.13 225.908 Q1624.67 225.908 1626.8 223.408 Q1628.96 220.885 1628.96 216.718 L1628.96 215.769 L1624.72 215.769 M1633.21 214.01 L1633.21 228.802 L1628.96 228.802 L1628.96 224.866 Q1627.5 227.227 1625.32 228.362 Q1623.15 229.473 1620 229.473 Q1616.02 229.473 1613.65 227.251 Q1611.32 225.005 1611.32 221.255 Q1611.32 216.88 1614.23 214.658 Q1617.17 212.436 1622.98 212.436 L1628.96 212.436 L1628.96 212.019 Q1628.96 209.079 1627.01 207.482 Q1625.09 205.862 1621.59 205.862 Q1619.37 205.862 1617.27 206.394 Q1615.16 206.927 1613.21 207.991 L1613.21 204.056 Q1615.55 203.154 1617.75 202.714 Q1619.95 202.251 1622.03 202.251 Q1627.66 202.251 1630.44 205.167 Q1633.21 208.084 1633.21 214.01 Z\" fill=\"#000000\" fill-rule=\"nonzero\" fill-opacity=\"1\" /><path clip-path=\"url(#clip600)\" d=\"M1646.2 195.515 L1646.2 202.876 L1654.97 202.876 L1654.97 206.186 L1646.2 206.186 L1646.2 220.26 Q1646.2 223.431 1647.06 224.334 Q1647.94 225.237 1650.6 225.237 L1654.97 225.237 L1654.97 228.802 L1650.6 228.802 Q1645.67 228.802 1643.79 226.973 Q1641.92 225.121 1641.92 220.26 L1641.92 206.186 L1638.79 206.186 L1638.79 202.876 L1641.92 202.876 L1641.92 195.515 L1646.2 195.515 Z\" fill=\"#000000\" fill-rule=\"nonzero\" fill-opacity=\"1\" /><path clip-path=\"url(#clip600)\" d=\"M1682.75 214.774 L1682.75 216.857 L1663.17 216.857 Q1663.45 221.255 1665.81 223.57 Q1668.19 225.862 1672.43 225.862 Q1674.88 225.862 1677.17 225.26 Q1679.49 224.658 1681.76 223.454 L1681.76 227.482 Q1679.46 228.454 1677.06 228.964 Q1674.65 229.473 1672.17 229.473 Q1665.97 229.473 1662.33 225.862 Q1658.72 222.251 1658.72 216.093 Q1658.72 209.728 1662.15 206.001 Q1665.6 202.251 1671.43 202.251 Q1676.66 202.251 1679.7 205.63 Q1682.75 208.987 1682.75 214.774 M1678.49 213.524 Q1678.45 210.029 1676.52 207.945 Q1674.63 205.862 1671.48 205.862 Q1667.91 205.862 1665.76 207.876 Q1663.63 209.89 1663.31 213.547 L1678.49 213.524 Z\" fill=\"#000000\" fill-rule=\"nonzero\" fill-opacity=\"1\" /><path clip-path=\"url(#clip600)\" d=\"M1706.8 206.811 L1706.8 192.783 L1711.06 192.783 L1711.06 228.802 L1706.8 228.802 L1706.8 224.913 Q1705.46 227.227 1703.4 228.362 Q1701.36 229.473 1698.49 229.473 Q1693.79 229.473 1690.83 225.723 Q1687.89 221.973 1687.89 215.862 Q1687.89 209.751 1690.83 206.001 Q1693.79 202.251 1698.49 202.251 Q1701.36 202.251 1703.4 203.385 Q1705.46 204.496 1706.8 206.811 M1692.29 215.862 Q1692.29 220.561 1694.21 223.246 Q1696.15 225.908 1699.53 225.908 Q1702.91 225.908 1704.86 223.246 Q1706.8 220.561 1706.8 215.862 Q1706.8 211.163 1704.86 208.501 Q1702.91 205.816 1699.53 205.816 Q1696.15 205.816 1694.21 208.501 Q1692.29 211.163 1692.29 215.862 Z\" fill=\"#000000\" fill-rule=\"nonzero\" fill-opacity=\"1\" /><path clip-path=\"url(#clip600)\" d=\"M1739.77 198.084 L1739.77 211.07 L1745.64 211.07 Q1748.91 211.07 1750.69 209.38 Q1752.47 207.691 1752.47 204.566 Q1752.47 201.464 1750.69 199.774 Q1748.91 198.084 1745.64 198.084 L1739.77 198.084 M1735.09 194.242 L1745.64 194.242 Q1751.45 194.242 1754.42 196.88 Q1757.4 199.496 1757.4 204.566 Q1757.4 209.681 1754.42 212.297 Q1751.45 214.913 1745.64 214.913 L1739.77 214.913 L1739.77 228.802 L1735.09 228.802 L1735.09 194.242 Z\" fill=\"#000000\" fill-rule=\"nonzero\" fill-opacity=\"1\" /><path clip-path=\"url(#clip600)\" d=\"M1771.85 205.862 Q1768.42 205.862 1766.43 208.547 Q1764.44 211.209 1764.44 215.862 Q1764.44 220.515 1766.41 223.2 Q1768.4 225.862 1771.85 225.862 Q1775.25 225.862 1777.24 223.177 Q1779.23 220.491 1779.23 215.862 Q1779.23 211.255 1777.24 208.57 Q1775.25 205.862 1771.85 205.862 M1771.85 202.251 Q1777.4 202.251 1780.58 205.862 Q1783.75 209.473 1783.75 215.862 Q1783.75 222.228 1780.58 225.862 Q1777.4 229.473 1771.85 229.473 Q1766.27 229.473 1763.1 225.862 Q1759.95 222.228 1759.95 215.862 Q1759.95 209.473 1763.1 205.862 Q1766.27 202.251 1771.85 202.251 Z\" fill=\"#000000\" fill-rule=\"nonzero\" fill-opacity=\"1\" /><path clip-path=\"url(#clip600)\" d=\"M1790.81 202.876 L1795.07 202.876 L1795.07 228.802 L1790.81 228.802 L1790.81 202.876 M1790.81 192.783 L1795.07 192.783 L1795.07 198.177 L1790.81 198.177 L1790.81 192.783 Z\" fill=\"#000000\" fill-rule=\"nonzero\" fill-opacity=\"1\" /><path clip-path=\"url(#clip600)\" d=\"M1825.53 213.153 L1825.53 228.802 L1821.27 228.802 L1821.27 213.292 Q1821.27 209.612 1819.83 207.783 Q1818.4 205.954 1815.53 205.954 Q1812.08 205.954 1810.09 208.154 Q1808.1 210.353 1808.1 214.149 L1808.1 228.802 L1803.82 228.802 L1803.82 202.876 L1808.1 202.876 L1808.1 206.904 Q1809.63 204.566 1811.69 203.408 Q1813.77 202.251 1816.48 202.251 Q1820.95 202.251 1823.24 205.029 Q1825.53 207.783 1825.53 213.153 Z\" fill=\"#000000\" fill-rule=\"nonzero\" fill-opacity=\"1\" /><path clip-path=\"url(#clip600)\" d=\"M1838.24 195.515 L1838.24 202.876 L1847.01 202.876 L1847.01 206.186 L1838.24 206.186 L1838.24 220.26 Q1838.24 223.431 1839.09 224.334 Q1839.97 225.237 1842.63 225.237 L1847.01 225.237 L1847.01 228.802 L1842.63 228.802 Q1837.7 228.802 1835.83 226.973 Q1833.95 225.121 1833.95 220.26 L1833.95 206.186 L1830.83 206.186 L1830.83 202.876 L1833.95 202.876 L1833.95 195.515 L1838.24 195.515 Z\" fill=\"#000000\" fill-rule=\"nonzero\" fill-opacity=\"1\" /><path clip-path=\"url(#clip600)\" d=\"M1869.14 203.64 L1869.14 207.667 Q1867.33 206.741 1865.39 206.279 Q1863.44 205.816 1861.36 205.816 Q1858.19 205.816 1856.59 206.788 Q1855.02 207.76 1855.02 209.704 Q1855.02 211.186 1856.15 212.042 Q1857.29 212.876 1860.71 213.64 L1862.17 213.964 Q1866.71 214.936 1868.61 216.718 Q1870.53 218.478 1870.53 221.649 Q1870.53 225.26 1867.66 227.366 Q1864.81 229.473 1859.81 229.473 Q1857.73 229.473 1855.46 229.056 Q1853.21 228.663 1850.71 227.852 L1850.71 223.454 Q1853.07 224.681 1855.37 225.306 Q1857.66 225.908 1859.9 225.908 Q1862.91 225.908 1864.53 224.89 Q1866.15 223.848 1866.15 221.973 Q1866.15 220.237 1864.97 219.311 Q1863.82 218.385 1859.86 217.528 L1858.38 217.181 Q1854.42 216.348 1852.66 214.635 Q1850.9 212.899 1850.9 209.89 Q1850.9 206.232 1853.49 204.242 Q1856.08 202.251 1860.85 202.251 Q1863.21 202.251 1865.3 202.598 Q1867.38 202.945 1869.14 203.64 Z\" fill=\"#000000\" fill-rule=\"nonzero\" fill-opacity=\"1\" /></svg>\n"
      ],
      "text/html": [
       "<?xml version=\"1.0\" encoding=\"utf-8\"?>\n",
       "<svg xmlns=\"http://www.w3.org/2000/svg\" xmlns:xlink=\"http://www.w3.org/1999/xlink\" width=\"500\" height=\"500\" viewBox=\"0 0 2000 2000\">\n",
       "<defs>\n",
       "  <clipPath id=\"clip650\">\n",
       "    <rect x=\"0\" y=\"0\" width=\"2000\" height=\"2000\"/>\n",
       "  </clipPath>\n",
       "</defs>\n",
       "<path clip-path=\"url(#clip650)\" d=\"M0 2000 L2000 2000 L2000 0 L0 0  Z\" fill=\"#ffffff\" fill-rule=\"evenodd\" fill-opacity=\"1\"/>\n",
       "<defs>\n",
       "  <clipPath id=\"clip651\">\n",
       "    <rect x=\"400\" y=\"200\" width=\"1401\" height=\"1401\"/>\n",
       "  </clipPath>\n",
       "</defs>\n",
       "<path clip-path=\"url(#clip650)\" d=\"M152.112 1865.17 L1952.76 1865.17 L1952.76 47.2441 L152.112 47.2441  Z\" fill=\"#ffffff\" fill-rule=\"evenodd\" fill-opacity=\"1\"/>\n",
       "<defs>\n",
       "  <clipPath id=\"clip652\">\n",
       "    <rect x=\"152\" y=\"47\" width=\"1802\" height=\"1819\"/>\n",
       "  </clipPath>\n",
       "</defs>\n",
       "<polyline clip-path=\"url(#clip652)\" style=\"stroke:#000000; stroke-linecap:round; stroke-linejoin:round; stroke-width:2; stroke-opacity:0.1; fill:none\" points=\"233.96,1865.17 233.96,47.2441 \"/>\n",
       "<polyline clip-path=\"url(#clip652)\" style=\"stroke:#000000; stroke-linecap:round; stroke-linejoin:round; stroke-width:2; stroke-opacity:0.1; fill:none\" points=\"643.197,1865.17 643.197,47.2441 \"/>\n",
       "<polyline clip-path=\"url(#clip652)\" style=\"stroke:#000000; stroke-linecap:round; stroke-linejoin:round; stroke-width:2; stroke-opacity:0.1; fill:none\" points=\"1052.43,1865.17 1052.43,47.2441 \"/>\n",
       "<polyline clip-path=\"url(#clip652)\" style=\"stroke:#000000; stroke-linecap:round; stroke-linejoin:round; stroke-width:2; stroke-opacity:0.1; fill:none\" points=\"1461.67,1865.17 1461.67,47.2441 \"/>\n",
       "<polyline clip-path=\"url(#clip652)\" style=\"stroke:#000000; stroke-linecap:round; stroke-linejoin:round; stroke-width:2; stroke-opacity:0.1; fill:none\" points=\"1870.91,1865.17 1870.91,47.2441 \"/>\n",
       "<polyline clip-path=\"url(#clip650)\" style=\"stroke:#000000; stroke-linecap:round; stroke-linejoin:round; stroke-width:4; stroke-opacity:1; fill:none\" points=\"152.112,1865.17 1952.76,1865.17 \"/>\n",
       "<polyline clip-path=\"url(#clip650)\" style=\"stroke:#000000; stroke-linecap:round; stroke-linejoin:round; stroke-width:4; stroke-opacity:1; fill:none\" points=\"233.96,1865.17 233.96,1846.27 \"/>\n",
       "<polyline clip-path=\"url(#clip650)\" style=\"stroke:#000000; stroke-linecap:round; stroke-linejoin:round; stroke-width:4; stroke-opacity:1; fill:none\" points=\"643.197,1865.17 643.197,1846.27 \"/>\n",
       "<polyline clip-path=\"url(#clip650)\" style=\"stroke:#000000; stroke-linecap:round; stroke-linejoin:round; stroke-width:4; stroke-opacity:1; fill:none\" points=\"1052.43,1865.17 1052.43,1846.27 \"/>\n",
       "<polyline clip-path=\"url(#clip650)\" style=\"stroke:#000000; stroke-linecap:round; stroke-linejoin:round; stroke-width:4; stroke-opacity:1; fill:none\" points=\"1461.67,1865.17 1461.67,1846.27 \"/>\n",
       "<polyline clip-path=\"url(#clip650)\" style=\"stroke:#000000; stroke-linecap:round; stroke-linejoin:round; stroke-width:4; stroke-opacity:1; fill:none\" points=\"1870.91,1865.17 1870.91,1846.27 \"/>\n",
       "<path clip-path=\"url(#clip650)\" d=\"M211.344 1892.89 Q207.733 1892.89 205.904 1896.45 Q204.099 1899.99 204.099 1907.12 Q204.099 1914.23 205.904 1917.79 Q207.733 1921.34 211.344 1921.34 Q214.978 1921.34 216.784 1917.79 Q218.612 1914.23 218.612 1907.12 Q218.612 1899.99 216.784 1896.45 Q214.978 1892.89 211.344 1892.89 M211.344 1889.18 Q217.154 1889.18 220.21 1893.79 Q223.288 1898.37 223.288 1907.12 Q223.288 1915.85 220.21 1920.46 Q217.154 1925.04 211.344 1925.04 Q205.534 1925.04 202.455 1920.46 Q199.4 1915.85 199.4 1907.12 Q199.4 1898.37 202.455 1893.79 Q205.534 1889.18 211.344 1889.18 Z\" fill=\"#000000\" fill-rule=\"nonzero\" fill-opacity=\"1\" /><path clip-path=\"url(#clip650)\" d=\"M231.506 1918.49 L236.39 1918.49 L236.39 1924.37 L231.506 1924.37 L231.506 1918.49 Z\" fill=\"#000000\" fill-rule=\"nonzero\" fill-opacity=\"1\" /><path clip-path=\"url(#clip650)\" d=\"M256.575 1892.89 Q252.964 1892.89 251.135 1896.45 Q249.33 1899.99 249.33 1907.12 Q249.33 1914.23 251.135 1917.79 Q252.964 1921.34 256.575 1921.34 Q260.209 1921.34 262.015 1917.79 Q263.844 1914.23 263.844 1907.12 Q263.844 1899.99 262.015 1896.45 Q260.209 1892.89 256.575 1892.89 M256.575 1889.18 Q262.385 1889.18 265.441 1893.79 Q268.52 1898.37 268.52 1907.12 Q268.52 1915.85 265.441 1920.46 Q262.385 1925.04 256.575 1925.04 Q250.765 1925.04 247.686 1920.46 Q244.631 1915.85 244.631 1907.12 Q244.631 1898.37 247.686 1893.79 Q250.765 1889.18 256.575 1889.18 Z\" fill=\"#000000\" fill-rule=\"nonzero\" fill-opacity=\"1\" /><path clip-path=\"url(#clip650)\" d=\"M621.079 1892.89 Q617.468 1892.89 615.639 1896.45 Q613.834 1899.99 613.834 1907.12 Q613.834 1914.23 615.639 1917.79 Q617.468 1921.34 621.079 1921.34 Q624.713 1921.34 626.519 1917.79 Q628.347 1914.23 628.347 1907.12 Q628.347 1899.99 626.519 1896.45 Q624.713 1892.89 621.079 1892.89 M621.079 1889.18 Q626.889 1889.18 629.945 1893.79 Q633.023 1898.37 633.023 1907.12 Q633.023 1915.85 629.945 1920.46 Q626.889 1925.04 621.079 1925.04 Q615.269 1925.04 612.19 1920.46 Q609.134 1915.85 609.134 1907.12 Q609.134 1898.37 612.19 1893.79 Q615.269 1889.18 621.079 1889.18 Z\" fill=\"#000000\" fill-rule=\"nonzero\" fill-opacity=\"1\" /><path clip-path=\"url(#clip650)\" d=\"M641.241 1918.49 L646.125 1918.49 L646.125 1924.37 L641.241 1924.37 L641.241 1918.49 Z\" fill=\"#000000\" fill-rule=\"nonzero\" fill-opacity=\"1\" /><path clip-path=\"url(#clip650)\" d=\"M656.356 1889.81 L674.713 1889.81 L674.713 1893.74 L660.639 1893.74 L660.639 1902.22 Q661.657 1901.87 662.676 1901.71 Q663.694 1901.52 664.713 1901.52 Q670.5 1901.52 673.879 1904.69 Q677.259 1907.86 677.259 1913.28 Q677.259 1918.86 673.787 1921.96 Q670.315 1925.04 663.995 1925.04 Q661.819 1925.04 659.551 1924.67 Q657.306 1924.3 654.898 1923.56 L654.898 1918.86 Q656.981 1919.99 659.204 1920.55 Q661.426 1921.1 663.903 1921.1 Q667.907 1921.1 670.245 1919 Q672.583 1916.89 672.583 1913.28 Q672.583 1909.67 670.245 1907.56 Q667.907 1905.46 663.903 1905.46 Q662.028 1905.46 660.153 1905.87 Q658.301 1906.29 656.356 1907.17 L656.356 1889.81 Z\" fill=\"#000000\" fill-rule=\"nonzero\" fill-opacity=\"1\" /><path clip-path=\"url(#clip650)\" d=\"M1019.59 1920.43 L1027.23 1920.43 L1027.23 1894.07 L1018.92 1895.73 L1018.92 1891.47 L1027.18 1889.81 L1031.86 1889.81 L1031.86 1920.43 L1039.49 1920.43 L1039.49 1924.37 L1019.59 1924.37 L1019.59 1920.43 Z\" fill=\"#000000\" fill-rule=\"nonzero\" fill-opacity=\"1\" /><path clip-path=\"url(#clip650)\" d=\"M1048.94 1918.49 L1053.82 1918.49 L1053.82 1924.37 L1048.94 1924.37 L1048.94 1918.49 Z\" fill=\"#000000\" fill-rule=\"nonzero\" fill-opacity=\"1\" /><path clip-path=\"url(#clip650)\" d=\"M1074.01 1892.89 Q1070.4 1892.89 1068.57 1896.45 Q1066.76 1899.99 1066.76 1907.12 Q1066.76 1914.23 1068.57 1917.79 Q1070.4 1921.34 1074.01 1921.34 Q1077.64 1921.34 1079.45 1917.79 Q1081.28 1914.23 1081.28 1907.12 Q1081.28 1899.99 1079.45 1896.45 Q1077.64 1892.89 1074.01 1892.89 M1074.01 1889.18 Q1079.82 1889.18 1082.87 1893.79 Q1085.95 1898.37 1085.95 1907.12 Q1085.95 1915.85 1082.87 1920.46 Q1079.82 1925.04 1074.01 1925.04 Q1068.2 1925.04 1065.12 1920.46 Q1062.06 1915.85 1062.06 1907.12 Q1062.06 1898.37 1065.12 1893.79 Q1068.2 1889.18 1074.01 1889.18 Z\" fill=\"#000000\" fill-rule=\"nonzero\" fill-opacity=\"1\" /><path clip-path=\"url(#clip650)\" d=\"M1429.32 1920.43 L1436.96 1920.43 L1436.96 1894.07 L1428.65 1895.73 L1428.65 1891.47 L1436.91 1889.81 L1441.59 1889.81 L1441.59 1920.43 L1449.23 1920.43 L1449.23 1924.37 L1429.32 1924.37 L1429.32 1920.43 Z\" fill=\"#000000\" fill-rule=\"nonzero\" fill-opacity=\"1\" /><path clip-path=\"url(#clip650)\" d=\"M1458.67 1918.49 L1463.56 1918.49 L1463.56 1924.37 L1458.67 1924.37 L1458.67 1918.49 Z\" fill=\"#000000\" fill-rule=\"nonzero\" fill-opacity=\"1\" /><path clip-path=\"url(#clip650)\" d=\"M1473.79 1889.81 L1492.15 1889.81 L1492.15 1893.74 L1478.07 1893.74 L1478.07 1902.22 Q1479.09 1901.87 1480.11 1901.71 Q1481.13 1901.52 1482.15 1901.52 Q1487.93 1901.52 1491.31 1904.69 Q1494.69 1907.86 1494.69 1913.28 Q1494.69 1918.86 1491.22 1921.96 Q1487.75 1925.04 1481.43 1925.04 Q1479.25 1925.04 1476.98 1924.67 Q1474.74 1924.3 1472.33 1923.56 L1472.33 1918.86 Q1474.41 1919.99 1476.64 1920.55 Q1478.86 1921.1 1481.34 1921.1 Q1485.34 1921.1 1487.68 1919 Q1490.02 1916.89 1490.02 1913.28 Q1490.02 1909.67 1487.68 1907.56 Q1485.34 1905.46 1481.34 1905.46 Q1479.46 1905.46 1477.59 1905.87 Q1475.73 1906.29 1473.79 1907.17 L1473.79 1889.81 Z\" fill=\"#000000\" fill-rule=\"nonzero\" fill-opacity=\"1\" /><path clip-path=\"url(#clip650)\" d=\"M1842.15 1920.43 L1858.47 1920.43 L1858.47 1924.37 L1836.52 1924.37 L1836.52 1920.43 Q1839.18 1917.68 1843.77 1913.05 Q1848.37 1908.4 1849.55 1907.05 Q1851.8 1904.53 1852.68 1902.79 Q1853.58 1901.03 1853.58 1899.34 Q1853.58 1896.59 1851.64 1894.85 Q1849.72 1893.12 1846.61 1893.12 Q1844.42 1893.12 1841.96 1893.88 Q1839.53 1894.65 1836.75 1896.2 L1836.75 1891.47 Q1839.58 1890.34 1842.03 1889.76 Q1844.48 1889.18 1846.52 1889.18 Q1851.89 1889.18 1855.09 1891.87 Q1858.28 1894.55 1858.28 1899.04 Q1858.28 1901.17 1857.47 1903.09 Q1856.68 1904.99 1854.58 1907.59 Q1854 1908.26 1850.9 1911.47 Q1847.8 1914.67 1842.15 1920.43 Z\" fill=\"#000000\" fill-rule=\"nonzero\" fill-opacity=\"1\" /><path clip-path=\"url(#clip650)\" d=\"M1868.28 1918.49 L1873.17 1918.49 L1873.17 1924.37 L1868.28 1924.37 L1868.28 1918.49 Z\" fill=\"#000000\" fill-rule=\"nonzero\" fill-opacity=\"1\" /><path clip-path=\"url(#clip650)\" d=\"M1893.35 1892.89 Q1889.74 1892.89 1887.91 1896.45 Q1886.11 1899.99 1886.11 1907.12 Q1886.11 1914.23 1887.91 1917.79 Q1889.74 1921.34 1893.35 1921.34 Q1896.98 1921.34 1898.79 1917.79 Q1900.62 1914.23 1900.62 1907.12 Q1900.62 1899.99 1898.79 1896.45 Q1896.98 1892.89 1893.35 1892.89 M1893.35 1889.18 Q1899.16 1889.18 1902.22 1893.79 Q1905.29 1898.37 1905.29 1907.12 Q1905.29 1915.85 1902.22 1920.46 Q1899.16 1925.04 1893.35 1925.04 Q1887.54 1925.04 1884.46 1920.46 Q1881.41 1915.85 1881.41 1907.12 Q1881.41 1898.37 1884.46 1893.79 Q1887.54 1889.18 1893.35 1889.18 Z\" fill=\"#000000\" fill-rule=\"nonzero\" fill-opacity=\"1\" /><polyline clip-path=\"url(#clip652)\" style=\"stroke:#000000; stroke-linecap:round; stroke-linejoin:round; stroke-width:2; stroke-opacity:0.1; fill:none\" points=\"152.112,1782.53 1952.76,1782.53 \"/>\n",
       "<polyline clip-path=\"url(#clip652)\" style=\"stroke:#000000; stroke-linecap:round; stroke-linejoin:round; stroke-width:2; stroke-opacity:0.1; fill:none\" points=\"152.112,1369.37 1952.76,1369.37 \"/>\n",
       "<polyline clip-path=\"url(#clip652)\" style=\"stroke:#000000; stroke-linecap:round; stroke-linejoin:round; stroke-width:2; stroke-opacity:0.1; fill:none\" points=\"152.112,956.206 1952.76,956.206 \"/>\n",
       "<polyline clip-path=\"url(#clip652)\" style=\"stroke:#000000; stroke-linecap:round; stroke-linejoin:round; stroke-width:2; stroke-opacity:0.1; fill:none\" points=\"152.112,543.041 1952.76,543.041 \"/>\n",
       "<polyline clip-path=\"url(#clip652)\" style=\"stroke:#000000; stroke-linecap:round; stroke-linejoin:round; stroke-width:2; stroke-opacity:0.1; fill:none\" points=\"152.112,129.877 1952.76,129.877 \"/>\n",
       "<polyline clip-path=\"url(#clip650)\" style=\"stroke:#000000; stroke-linecap:round; stroke-linejoin:round; stroke-width:4; stroke-opacity:1; fill:none\" points=\"152.112,1865.17 152.112,47.2441 \"/>\n",
       "<polyline clip-path=\"url(#clip650)\" style=\"stroke:#000000; stroke-linecap:round; stroke-linejoin:round; stroke-width:4; stroke-opacity:1; fill:none\" points=\"152.112,1782.53 171.01,1782.53 \"/>\n",
       "<polyline clip-path=\"url(#clip650)\" style=\"stroke:#000000; stroke-linecap:round; stroke-linejoin:round; stroke-width:4; stroke-opacity:1; fill:none\" points=\"152.112,1369.37 171.01,1369.37 \"/>\n",
       "<polyline clip-path=\"url(#clip650)\" style=\"stroke:#000000; stroke-linecap:round; stroke-linejoin:round; stroke-width:4; stroke-opacity:1; fill:none\" points=\"152.112,956.206 171.01,956.206 \"/>\n",
       "<polyline clip-path=\"url(#clip650)\" style=\"stroke:#000000; stroke-linecap:round; stroke-linejoin:round; stroke-width:4; stroke-opacity:1; fill:none\" points=\"152.112,543.041 171.01,543.041 \"/>\n",
       "<polyline clip-path=\"url(#clip650)\" style=\"stroke:#000000; stroke-linecap:round; stroke-linejoin:round; stroke-width:4; stroke-opacity:1; fill:none\" points=\"152.112,129.877 171.01,129.877 \"/>\n",
       "<path clip-path=\"url(#clip650)\" d=\"M64.9365 1768.33 Q61.3254 1768.33 59.4967 1771.9 Q57.6912 1775.44 57.6912 1782.57 Q57.6912 1789.68 59.4967 1793.24 Q61.3254 1796.78 64.9365 1796.78 Q68.5707 1796.78 70.3763 1793.24 Q72.205 1789.68 72.205 1782.57 Q72.205 1775.44 70.3763 1771.9 Q68.5707 1768.33 64.9365 1768.33 M64.9365 1764.63 Q70.7467 1764.63 73.8022 1769.24 Q76.8809 1773.82 76.8809 1782.57 Q76.8809 1791.3 73.8022 1795.9 Q70.7467 1800.49 64.9365 1800.49 Q59.1264 1800.49 56.0477 1795.9 Q52.9921 1791.3 52.9921 1782.57 Q52.9921 1773.82 56.0477 1769.24 Q59.1264 1764.63 64.9365 1764.63 Z\" fill=\"#000000\" fill-rule=\"nonzero\" fill-opacity=\"1\" /><path clip-path=\"url(#clip650)\" d=\"M85.0984 1793.94 L89.9827 1793.94 L89.9827 1799.81 L85.0984 1799.81 L85.0984 1793.94 Z\" fill=\"#000000\" fill-rule=\"nonzero\" fill-opacity=\"1\" /><path clip-path=\"url(#clip650)\" d=\"M110.168 1768.33 Q106.557 1768.33 104.728 1771.9 Q102.922 1775.44 102.922 1782.57 Q102.922 1789.68 104.728 1793.24 Q106.557 1796.78 110.168 1796.78 Q113.802 1796.78 115.608 1793.24 Q117.436 1789.68 117.436 1782.57 Q117.436 1775.44 115.608 1771.9 Q113.802 1768.33 110.168 1768.33 M110.168 1764.63 Q115.978 1764.63 119.033 1769.24 Q122.112 1773.82 122.112 1782.57 Q122.112 1791.3 119.033 1795.9 Q115.978 1800.49 110.168 1800.49 Q104.358 1800.49 101.279 1795.9 Q98.2234 1791.3 98.2234 1782.57 Q98.2234 1773.82 101.279 1769.24 Q104.358 1764.63 110.168 1764.63 Z\" fill=\"#000000\" fill-rule=\"nonzero\" fill-opacity=\"1\" /><path clip-path=\"url(#clip650)\" d=\"M65.9319 1355.17 Q62.3208 1355.17 60.4921 1358.73 Q58.6865 1362.28 58.6865 1369.41 Q58.6865 1376.51 60.4921 1380.08 Q62.3208 1383.62 65.9319 1383.62 Q69.5661 1383.62 71.3717 1380.08 Q73.2004 1376.51 73.2004 1369.41 Q73.2004 1362.28 71.3717 1358.73 Q69.5661 1355.17 65.9319 1355.17 M65.9319 1351.47 Q71.742 1351.47 74.7976 1356.07 Q77.8763 1360.66 77.8763 1369.41 Q77.8763 1378.13 74.7976 1382.74 Q71.742 1387.32 65.9319 1387.32 Q60.1217 1387.32 57.043 1382.74 Q53.9875 1378.13 53.9875 1369.41 Q53.9875 1360.66 57.043 1356.07 Q60.1217 1351.47 65.9319 1351.47 Z\" fill=\"#000000\" fill-rule=\"nonzero\" fill-opacity=\"1\" /><path clip-path=\"url(#clip650)\" d=\"M86.0938 1380.77 L90.978 1380.77 L90.978 1386.65 L86.0938 1386.65 L86.0938 1380.77 Z\" fill=\"#000000\" fill-rule=\"nonzero\" fill-opacity=\"1\" /><path clip-path=\"url(#clip650)\" d=\"M101.209 1352.09 L119.566 1352.09 L119.566 1356.03 L105.492 1356.03 L105.492 1364.5 Q106.51 1364.15 107.529 1363.99 Q108.547 1363.8 109.566 1363.8 Q115.353 1363.8 118.733 1366.97 Q122.112 1370.15 122.112 1375.56 Q122.112 1381.14 118.64 1384.24 Q115.168 1387.32 108.848 1387.32 Q106.672 1387.32 104.404 1386.95 Q102.159 1386.58 99.7511 1385.84 L99.7511 1381.14 Q101.834 1382.28 104.057 1382.83 Q106.279 1383.39 108.756 1383.39 Q112.76 1383.39 115.098 1381.28 Q117.436 1379.17 117.436 1375.56 Q117.436 1371.95 115.098 1369.85 Q112.76 1367.74 108.756 1367.74 Q106.881 1367.74 105.006 1368.16 Q103.154 1368.57 101.209 1369.45 L101.209 1352.09 Z\" fill=\"#000000\" fill-rule=\"nonzero\" fill-opacity=\"1\" /><path clip-path=\"url(#clip650)\" d=\"M55.7467 969.551 L63.3856 969.551 L63.3856 943.185 L55.0754 944.852 L55.0754 940.593 L63.3393 938.926 L68.0152 938.926 L68.0152 969.551 L75.654 969.551 L75.654 973.486 L55.7467 973.486 L55.7467 969.551 Z\" fill=\"#000000\" fill-rule=\"nonzero\" fill-opacity=\"1\" /><path clip-path=\"url(#clip650)\" d=\"M85.0984 967.606 L89.9827 967.606 L89.9827 973.486 L85.0984 973.486 L85.0984 967.606 Z\" fill=\"#000000\" fill-rule=\"nonzero\" fill-opacity=\"1\" /><path clip-path=\"url(#clip650)\" d=\"M110.168 942.005 Q106.557 942.005 104.728 945.569 Q102.922 949.111 102.922 956.241 Q102.922 963.347 104.728 966.912 Q106.557 970.454 110.168 970.454 Q113.802 970.454 115.608 966.912 Q117.436 963.347 117.436 956.241 Q117.436 949.111 115.608 945.569 Q113.802 942.005 110.168 942.005 M110.168 938.301 Q115.978 938.301 119.033 942.907 Q122.112 947.491 122.112 956.241 Q122.112 964.968 119.033 969.574 Q115.978 974.157 110.168 974.157 Q104.358 974.157 101.279 969.574 Q98.2234 964.968 98.2234 956.241 Q98.2234 947.491 101.279 942.907 Q104.358 938.301 110.168 938.301 Z\" fill=\"#000000\" fill-rule=\"nonzero\" fill-opacity=\"1\" /><path clip-path=\"url(#clip650)\" d=\"M56.7421 556.386 L64.381 556.386 L64.381 530.021 L56.0708 531.687 L56.0708 527.428 L64.3347 525.761 L69.0106 525.761 L69.0106 556.386 L76.6494 556.386 L76.6494 560.321 L56.7421 560.321 L56.7421 556.386 Z\" fill=\"#000000\" fill-rule=\"nonzero\" fill-opacity=\"1\" /><path clip-path=\"url(#clip650)\" d=\"M86.0938 554.442 L90.978 554.442 L90.978 560.321 L86.0938 560.321 L86.0938 554.442 Z\" fill=\"#000000\" fill-rule=\"nonzero\" fill-opacity=\"1\" /><path clip-path=\"url(#clip650)\" d=\"M101.209 525.761 L119.566 525.761 L119.566 529.697 L105.492 529.697 L105.492 538.169 Q106.51 537.822 107.529 537.66 Q108.547 537.474 109.566 537.474 Q115.353 537.474 118.733 540.646 Q122.112 543.817 122.112 549.234 Q122.112 554.812 118.64 557.914 Q115.168 560.993 108.848 560.993 Q106.672 560.993 104.404 560.622 Q102.159 560.252 99.7511 559.511 L99.7511 554.812 Q101.834 555.947 104.057 556.502 Q106.279 557.058 108.756 557.058 Q112.76 557.058 115.098 554.951 Q117.436 552.845 117.436 549.234 Q117.436 545.622 115.098 543.516 Q112.76 541.41 108.756 541.41 Q106.881 541.41 105.006 541.826 Q103.154 542.243 101.209 543.123 L101.209 525.761 Z\" fill=\"#000000\" fill-rule=\"nonzero\" fill-opacity=\"1\" /><path clip-path=\"url(#clip650)\" d=\"M58.9643 143.222 L75.2837 143.222 L75.2837 147.157 L53.3393 147.157 L53.3393 143.222 Q56.0014 140.467 60.5847 135.838 Q65.1911 131.185 66.3717 129.842 Q68.617 127.319 69.4967 125.583 Q70.3994 123.824 70.3994 122.134 Q70.3994 119.379 68.455 117.643 Q66.5337 115.907 63.4319 115.907 Q61.2328 115.907 58.7791 116.671 Q56.3486 117.435 53.5708 118.986 L53.5708 114.264 Q56.3949 113.129 58.8486 112.551 Q61.3023 111.972 63.3393 111.972 Q68.7096 111.972 71.9041 114.657 Q75.0985 117.342 75.0985 121.833 Q75.0985 123.963 74.2883 125.884 Q73.5013 127.782 71.3948 130.375 Q70.8161 131.046 67.7143 134.264 Q64.6124 137.458 58.9643 143.222 Z\" fill=\"#000000\" fill-rule=\"nonzero\" fill-opacity=\"1\" /><path clip-path=\"url(#clip650)\" d=\"M85.0984 141.277 L89.9827 141.277 L89.9827 147.157 L85.0984 147.157 L85.0984 141.277 Z\" fill=\"#000000\" fill-rule=\"nonzero\" fill-opacity=\"1\" /><path clip-path=\"url(#clip650)\" d=\"M110.168 115.676 Q106.557 115.676 104.728 119.24 Q102.922 122.782 102.922 129.912 Q102.922 137.018 104.728 140.583 Q106.557 144.125 110.168 144.125 Q113.802 144.125 115.608 140.583 Q117.436 137.018 117.436 129.912 Q117.436 122.782 115.608 119.24 Q113.802 115.676 110.168 115.676 M110.168 111.972 Q115.978 111.972 119.033 116.578 Q122.112 121.162 122.112 129.912 Q122.112 138.639 119.033 143.245 Q115.978 147.828 110.168 147.828 Q104.358 147.828 101.279 143.245 Q98.2234 138.639 98.2234 129.912 Q98.2234 121.162 101.279 116.578 Q104.358 111.972 110.168 111.972 Z\" fill=\"#000000\" fill-rule=\"nonzero\" fill-opacity=\"1\" /><circle clip-path=\"url(#clip652)\" cx=\"1052.43\" cy=\"1782.53\" r=\"14.4\" fill=\"#009af9\" fill-rule=\"evenodd\" fill-opacity=\"1\" stroke=\"#000000\" stroke-opacity=\"1\" stroke-width=\"4\"/>\n",
       "<circle clip-path=\"url(#clip652)\" cx=\"1461.67\" cy=\"1782.53\" r=\"14.4\" fill=\"#009af9\" fill-rule=\"evenodd\" fill-opacity=\"1\" stroke=\"#000000\" stroke-opacity=\"1\" stroke-width=\"4\"/>\n",
       "<circle clip-path=\"url(#clip652)\" cx=\"1870.91\" cy=\"1782.53\" r=\"14.4\" fill=\"#009af9\" fill-rule=\"evenodd\" fill-opacity=\"1\" stroke=\"#000000\" stroke-opacity=\"1\" stroke-width=\"4\"/>\n",
       "<circle clip-path=\"url(#clip652)\" cx=\"1052.43\" cy=\"1575.95\" r=\"14.4\" fill=\"#009af9\" fill-rule=\"evenodd\" fill-opacity=\"1\" stroke=\"#000000\" stroke-opacity=\"1\" stroke-width=\"4\"/>\n",
       "<circle clip-path=\"url(#clip652)\" cx=\"1461.67\" cy=\"1575.95\" r=\"14.4\" fill=\"#009af9\" fill-rule=\"evenodd\" fill-opacity=\"1\" stroke=\"#000000\" stroke-opacity=\"1\" stroke-width=\"4\"/>\n",
       "<circle clip-path=\"url(#clip652)\" cx=\"1052.43\" cy=\"1369.37\" r=\"14.4\" fill=\"#009af9\" fill-rule=\"evenodd\" fill-opacity=\"1\" stroke=\"#000000\" stroke-opacity=\"1\" stroke-width=\"4\"/>\n",
       "<circle clip-path=\"url(#clip652)\" cx=\"643.197\" cy=\"1066.91\" r=\"14.4\" fill=\"#e26f46\" fill-rule=\"evenodd\" fill-opacity=\"1\" stroke=\"#000000\" stroke-opacity=\"1\" stroke-width=\"4\"/>\n",
       "<circle clip-path=\"url(#clip652)\" cx=\"847.815\" cy=\"709.102\" r=\"14.4\" fill=\"#e26f46\" fill-rule=\"evenodd\" fill-opacity=\"1\" stroke=\"#000000\" stroke-opacity=\"1\" stroke-width=\"4\"/>\n",
       "<circle clip-path=\"url(#clip652)\" cx=\"1052.43\" cy=\"351.291\" r=\"14.4\" fill=\"#e26f46\" fill-rule=\"evenodd\" fill-opacity=\"1\" stroke=\"#000000\" stroke-opacity=\"1\" stroke-width=\"4\"/>\n",
       "<circle clip-path=\"url(#clip652)\" cx=\"465.992\" cy=\"963.622\" r=\"14.4\" fill=\"#e26f46\" fill-rule=\"evenodd\" fill-opacity=\"1\" stroke=\"#000000\" stroke-opacity=\"1\" stroke-width=\"4\"/>\n",
       "<circle clip-path=\"url(#clip652)\" cx=\"670.61\" cy=\"605.811\" r=\"14.4\" fill=\"#e26f46\" fill-rule=\"evenodd\" fill-opacity=\"1\" stroke=\"#000000\" stroke-opacity=\"1\" stroke-width=\"4\"/>\n",
       "<circle clip-path=\"url(#clip652)\" cx=\"288.787\" cy=\"860.331\" r=\"14.4\" fill=\"#e26f46\" fill-rule=\"evenodd\" fill-opacity=\"1\" stroke=\"#000000\" stroke-opacity=\"1\" stroke-width=\"4\"/>\n",
       "<path clip-path=\"url(#clip650)\" d=\"M1374.66 263.362 L1892.73 263.362 L1892.73 107.842 L1374.66 107.842  Z\" fill=\"#ffffff\" fill-rule=\"evenodd\" fill-opacity=\"1\"/>\n",
       "<polyline clip-path=\"url(#clip650)\" style=\"stroke:#000000; stroke-linecap:round; stroke-linejoin:round; stroke-width:4; stroke-opacity:1; fill:none\" points=\"1374.66,263.362 1892.73,263.362 1892.73,107.842 1374.66,107.842 1374.66,263.362 \"/>\n",
       "<circle clip-path=\"url(#clip650)\" cx=\"1454.69\" cy=\"159.682\" r=\"20.48\" fill=\"#009af9\" fill-rule=\"evenodd\" fill-opacity=\"1\" stroke=\"#000000\" stroke-opacity=\"1\" stroke-width=\"5.68889\"/>\n",
       "<path clip-path=\"url(#clip650)\" d=\"M1550.74 145.573 Q1545.65 145.573 1542.64 149.369 Q1539.65 153.165 1539.65 159.716 Q1539.65 166.244 1542.64 170.04 Q1545.65 173.837 1550.74 173.837 Q1555.83 173.837 1558.79 170.04 Q1561.78 166.244 1561.78 159.716 Q1561.78 153.165 1558.79 149.369 Q1555.83 145.573 1550.74 145.573 M1550.74 141.777 Q1558.01 141.777 1562.36 146.661 Q1566.71 151.522 1566.71 159.716 Q1566.71 167.888 1562.36 172.772 Q1558.01 177.633 1550.74 177.633 Q1543.45 177.633 1539.07 172.772 Q1534.72 167.911 1534.72 159.716 Q1534.72 151.522 1539.07 146.661 Q1543.45 141.777 1550.74 141.777 Z\" fill=\"#000000\" fill-rule=\"nonzero\" fill-opacity=\"1\" /><path clip-path=\"url(#clip650)\" d=\"M1588.86 155.017 Q1588.15 154.601 1587.29 154.415 Q1586.46 154.207 1585.44 154.207 Q1581.83 154.207 1579.88 156.568 Q1577.96 158.906 1577.96 163.304 L1577.96 176.962 L1573.68 176.962 L1573.68 151.036 L1577.96 151.036 L1577.96 155.064 Q1579.3 152.702 1581.46 151.568 Q1583.61 150.411 1586.69 150.411 Q1587.13 150.411 1587.66 150.48 Q1588.19 150.527 1588.84 150.642 L1588.86 155.017 Z\" fill=\"#000000\" fill-rule=\"nonzero\" fill-opacity=\"1\" /><path clip-path=\"url(#clip650)\" d=\"M1593.33 151.036 L1597.59 151.036 L1597.59 176.962 L1593.33 176.962 L1593.33 151.036 M1593.33 140.943 L1597.59 140.943 L1597.59 146.337 L1593.33 146.337 L1593.33 140.943 Z\" fill=\"#000000\" fill-rule=\"nonzero\" fill-opacity=\"1\" /><path clip-path=\"url(#clip650)\" d=\"M1623.56 163.698 Q1623.56 159.068 1621.64 156.522 Q1619.74 153.976 1616.29 153.976 Q1612.87 153.976 1610.95 156.522 Q1609.05 159.068 1609.05 163.698 Q1609.05 168.304 1610.95 170.85 Q1612.87 173.397 1616.29 173.397 Q1619.74 173.397 1621.64 170.85 Q1623.56 168.304 1623.56 163.698 M1627.82 173.744 Q1627.82 180.364 1624.88 183.582 Q1621.94 186.823 1615.88 186.823 Q1613.63 186.823 1611.64 186.475 Q1609.65 186.151 1607.78 185.457 L1607.78 181.313 Q1609.65 182.332 1611.48 182.818 Q1613.31 183.304 1615.21 183.304 Q1619.4 183.304 1621.48 181.105 Q1623.56 178.929 1623.56 174.508 L1623.56 172.401 Q1622.24 174.693 1620.18 175.827 Q1618.12 176.962 1615.25 176.962 Q1610.48 176.962 1607.57 173.327 Q1604.65 169.693 1604.65 163.698 Q1604.65 157.679 1607.57 154.045 Q1610.48 150.411 1615.25 150.411 Q1618.12 150.411 1620.18 151.545 Q1622.24 152.679 1623.56 154.971 L1623.56 151.036 L1627.82 151.036 L1627.82 173.744 Z\" fill=\"#000000\" fill-rule=\"nonzero\" fill-opacity=\"1\" /><path clip-path=\"url(#clip650)\" d=\"M1636.59 151.036 L1640.85 151.036 L1640.85 176.962 L1636.59 176.962 L1636.59 151.036 M1636.59 140.943 L1640.85 140.943 L1640.85 146.337 L1636.59 146.337 L1636.59 140.943 Z\" fill=\"#000000\" fill-rule=\"nonzero\" fill-opacity=\"1\" /><path clip-path=\"url(#clip650)\" d=\"M1671.32 161.313 L1671.32 176.962 L1667.06 176.962 L1667.06 161.452 Q1667.06 157.772 1665.62 155.943 Q1664.19 154.114 1661.32 154.114 Q1657.87 154.114 1655.88 156.314 Q1653.89 158.513 1653.89 162.309 L1653.89 176.962 L1649.6 176.962 L1649.6 151.036 L1653.89 151.036 L1653.89 155.064 Q1655.41 152.726 1657.47 151.568 Q1659.56 150.411 1662.27 150.411 Q1666.73 150.411 1669.02 153.189 Q1671.32 155.943 1671.32 161.313 Z\" fill=\"#000000\" fill-rule=\"nonzero\" fill-opacity=\"1\" /><path clip-path=\"url(#clip650)\" d=\"M1691.59 163.929 Q1686.43 163.929 1684.44 165.11 Q1682.45 166.29 1682.45 169.138 Q1682.45 171.406 1683.93 172.749 Q1685.44 174.068 1688.01 174.068 Q1691.55 174.068 1693.68 171.568 Q1695.83 169.045 1695.83 164.878 L1695.83 163.929 L1691.59 163.929 M1700.09 162.17 L1700.09 176.962 L1695.83 176.962 L1695.83 173.026 Q1694.37 175.387 1692.2 176.522 Q1690.02 177.633 1686.87 177.633 Q1682.89 177.633 1680.53 175.411 Q1678.19 173.165 1678.19 169.415 Q1678.19 165.04 1681.11 162.818 Q1684.05 160.596 1689.86 160.596 L1695.83 160.596 L1695.83 160.179 Q1695.83 157.239 1693.89 155.642 Q1691.96 154.022 1688.47 154.022 Q1686.25 154.022 1684.14 154.554 Q1682.03 155.087 1680.09 156.151 L1680.09 152.216 Q1682.43 151.314 1684.63 150.874 Q1686.83 150.411 1688.91 150.411 Q1694.53 150.411 1697.31 153.327 Q1700.09 156.244 1700.09 162.17 Z\" fill=\"#000000\" fill-rule=\"nonzero\" fill-opacity=\"1\" /><path clip-path=\"url(#clip650)\" d=\"M1708.86 140.943 L1713.12 140.943 L1713.12 176.962 L1708.86 176.962 L1708.86 140.943 Z\" fill=\"#000000\" fill-rule=\"nonzero\" fill-opacity=\"1\" /><path clip-path=\"url(#clip650)\" d=\"M1741.96 146.244 L1741.96 159.23 L1747.84 159.23 Q1751.11 159.23 1752.89 157.54 Q1754.67 155.851 1754.67 152.726 Q1754.67 149.624 1752.89 147.934 Q1751.11 146.244 1747.84 146.244 L1741.96 146.244 M1737.29 142.402 L1747.84 142.402 Q1753.65 142.402 1756.62 145.04 Q1759.6 147.656 1759.6 152.726 Q1759.6 157.841 1756.62 160.457 Q1753.65 163.073 1747.84 163.073 L1741.96 163.073 L1741.96 176.962 L1737.29 176.962 L1737.29 142.402 Z\" fill=\"#000000\" fill-rule=\"nonzero\" fill-opacity=\"1\" /><path clip-path=\"url(#clip650)\" d=\"M1774.05 154.022 Q1770.62 154.022 1768.63 156.707 Q1766.64 159.369 1766.64 164.022 Q1766.64 168.675 1768.61 171.36 Q1770.6 174.022 1774.05 174.022 Q1777.45 174.022 1779.44 171.337 Q1781.43 168.651 1781.43 164.022 Q1781.43 159.415 1779.44 156.73 Q1777.45 154.022 1774.05 154.022 M1774.05 150.411 Q1779.6 150.411 1782.77 154.022 Q1785.95 157.633 1785.95 164.022 Q1785.95 170.388 1782.77 174.022 Q1779.6 177.633 1774.05 177.633 Q1768.47 177.633 1765.3 174.022 Q1762.15 170.388 1762.15 164.022 Q1762.15 157.633 1765.3 154.022 Q1768.47 150.411 1774.05 150.411 Z\" fill=\"#000000\" fill-rule=\"nonzero\" fill-opacity=\"1\" /><path clip-path=\"url(#clip650)\" d=\"M1793.01 151.036 L1797.26 151.036 L1797.26 176.962 L1793.01 176.962 L1793.01 151.036 M1793.01 140.943 L1797.26 140.943 L1797.26 146.337 L1793.01 146.337 L1793.01 140.943 Z\" fill=\"#000000\" fill-rule=\"nonzero\" fill-opacity=\"1\" /><path clip-path=\"url(#clip650)\" d=\"M1827.73 161.313 L1827.73 176.962 L1823.47 176.962 L1823.47 161.452 Q1823.47 157.772 1822.03 155.943 Q1820.6 154.114 1817.73 154.114 Q1814.28 154.114 1812.29 156.314 Q1810.3 158.513 1810.3 162.309 L1810.3 176.962 L1806.01 176.962 L1806.01 151.036 L1810.3 151.036 L1810.3 155.064 Q1811.82 152.726 1813.89 151.568 Q1815.97 150.411 1818.68 150.411 Q1823.14 150.411 1825.44 153.189 Q1827.73 155.943 1827.73 161.313 Z\" fill=\"#000000\" fill-rule=\"nonzero\" fill-opacity=\"1\" /><path clip-path=\"url(#clip650)\" d=\"M1840.44 143.675 L1840.44 151.036 L1849.21 151.036 L1849.21 154.346 L1840.44 154.346 L1840.44 168.42 Q1840.44 171.591 1841.29 172.494 Q1842.17 173.397 1844.83 173.397 L1849.21 173.397 L1849.21 176.962 L1844.83 176.962 Q1839.9 176.962 1838.03 175.133 Q1836.15 173.281 1836.15 168.42 L1836.15 154.346 L1833.03 154.346 L1833.03 151.036 L1836.15 151.036 L1836.15 143.675 L1840.44 143.675 Z\" fill=\"#000000\" fill-rule=\"nonzero\" fill-opacity=\"1\" /><path clip-path=\"url(#clip650)\" d=\"M1871.34 151.8 L1871.34 155.827 Q1869.53 154.901 1867.59 154.439 Q1865.64 153.976 1863.56 153.976 Q1860.39 153.976 1858.79 154.948 Q1857.22 155.92 1857.22 157.864 Q1857.22 159.346 1858.35 160.202 Q1859.49 161.036 1862.91 161.8 L1864.37 162.124 Q1868.91 163.096 1870.81 164.878 Q1872.73 166.638 1872.73 169.809 Q1872.73 173.42 1869.86 175.526 Q1867.01 177.633 1862.01 177.633 Q1859.93 177.633 1857.66 177.216 Q1855.41 176.823 1852.91 176.012 L1852.91 171.614 Q1855.27 172.841 1857.57 173.466 Q1859.86 174.068 1862.1 174.068 Q1865.11 174.068 1866.73 173.05 Q1868.35 172.008 1868.35 170.133 Q1868.35 168.397 1867.17 167.471 Q1866.01 166.545 1862.06 165.688 L1860.57 165.341 Q1856.62 164.508 1854.86 162.795 Q1853.1 161.059 1853.1 158.05 Q1853.1 154.392 1855.69 152.402 Q1858.28 150.411 1863.05 150.411 Q1865.41 150.411 1867.5 150.758 Q1869.58 151.105 1871.34 151.8 Z\" fill=\"#000000\" fill-rule=\"nonzero\" fill-opacity=\"1\" /><circle clip-path=\"url(#clip650)\" cx=\"1454.69\" cy=\"211.522\" r=\"20.48\" fill=\"#e26f46\" fill-rule=\"evenodd\" fill-opacity=\"1\" stroke=\"#000000\" stroke-opacity=\"1\" stroke-width=\"5.68889\"/>\n",
       "<path clip-path=\"url(#clip650)\" d=\"M1551.11 212.598 Q1552.61 213.107 1554.03 214.774 Q1555.46 216.441 1556.9 219.357 L1561.64 228.802 L1556.62 228.802 L1552.2 219.936 Q1550.48 216.464 1548.86 215.329 Q1547.27 214.195 1544.49 214.195 L1539.4 214.195 L1539.4 228.802 L1534.72 228.802 L1534.72 194.242 L1545.28 194.242 Q1551.2 194.242 1554.12 196.718 Q1557.03 199.195 1557.03 204.195 Q1557.03 207.459 1555.51 209.612 Q1554 211.765 1551.11 212.598 M1539.4 198.084 L1539.4 210.353 L1545.28 210.353 Q1548.65 210.353 1550.37 208.802 Q1552.1 207.228 1552.1 204.195 Q1552.1 201.163 1550.37 199.635 Q1548.65 198.084 1545.28 198.084 L1539.4 198.084 Z\" fill=\"#000000\" fill-rule=\"nonzero\" fill-opacity=\"1\" /><path clip-path=\"url(#clip650)\" d=\"M1575.39 205.862 Q1571.97 205.862 1569.97 208.547 Q1567.98 211.209 1567.98 215.862 Q1567.98 220.515 1569.95 223.2 Q1571.94 225.862 1575.39 225.862 Q1578.79 225.862 1580.78 223.177 Q1582.78 220.491 1582.78 215.862 Q1582.78 211.255 1580.78 208.57 Q1578.79 205.862 1575.39 205.862 M1575.39 202.251 Q1580.95 202.251 1584.12 205.862 Q1587.29 209.473 1587.29 215.862 Q1587.29 222.228 1584.12 225.862 Q1580.95 229.473 1575.39 229.473 Q1569.81 229.473 1566.64 225.862 Q1563.49 222.228 1563.49 215.862 Q1563.49 209.473 1566.64 205.862 Q1569.81 202.251 1575.39 202.251 Z\" fill=\"#000000\" fill-rule=\"nonzero\" fill-opacity=\"1\" /><path clip-path=\"url(#clip650)\" d=\"M1598.56 195.515 L1598.56 202.876 L1607.34 202.876 L1607.34 206.186 L1598.56 206.186 L1598.56 220.26 Q1598.56 223.431 1599.42 224.334 Q1600.3 225.237 1602.96 225.237 L1607.34 225.237 L1607.34 228.802 L1602.96 228.802 Q1598.03 228.802 1596.15 226.973 Q1594.28 225.121 1594.28 220.26 L1594.28 206.186 L1591.15 206.186 L1591.15 202.876 L1594.28 202.876 L1594.28 195.515 L1598.56 195.515 Z\" fill=\"#000000\" fill-rule=\"nonzero\" fill-opacity=\"1\" /><path clip-path=\"url(#clip650)\" d=\"M1624.72 215.769 Q1619.56 215.769 1617.57 216.95 Q1615.58 218.13 1615.58 220.978 Q1615.58 223.246 1617.06 224.589 Q1618.56 225.908 1621.13 225.908 Q1624.67 225.908 1626.8 223.408 Q1628.96 220.885 1628.96 216.718 L1628.96 215.769 L1624.72 215.769 M1633.21 214.01 L1633.21 228.802 L1628.96 228.802 L1628.96 224.866 Q1627.5 227.227 1625.32 228.362 Q1623.15 229.473 1620 229.473 Q1616.02 229.473 1613.65 227.251 Q1611.32 225.005 1611.32 221.255 Q1611.32 216.88 1614.23 214.658 Q1617.17 212.436 1622.98 212.436 L1628.96 212.436 L1628.96 212.019 Q1628.96 209.079 1627.01 207.482 Q1625.09 205.862 1621.59 205.862 Q1619.37 205.862 1617.27 206.394 Q1615.16 206.927 1613.21 207.991 L1613.21 204.056 Q1615.55 203.154 1617.75 202.714 Q1619.95 202.251 1622.03 202.251 Q1627.66 202.251 1630.44 205.167 Q1633.21 208.084 1633.21 214.01 Z\" fill=\"#000000\" fill-rule=\"nonzero\" fill-opacity=\"1\" /><path clip-path=\"url(#clip650)\" d=\"M1646.2 195.515 L1646.2 202.876 L1654.97 202.876 L1654.97 206.186 L1646.2 206.186 L1646.2 220.26 Q1646.2 223.431 1647.06 224.334 Q1647.94 225.237 1650.6 225.237 L1654.97 225.237 L1654.97 228.802 L1650.6 228.802 Q1645.67 228.802 1643.79 226.973 Q1641.92 225.121 1641.92 220.26 L1641.92 206.186 L1638.79 206.186 L1638.79 202.876 L1641.92 202.876 L1641.92 195.515 L1646.2 195.515 Z\" fill=\"#000000\" fill-rule=\"nonzero\" fill-opacity=\"1\" /><path clip-path=\"url(#clip650)\" d=\"M1682.75 214.774 L1682.75 216.857 L1663.17 216.857 Q1663.45 221.255 1665.81 223.57 Q1668.19 225.862 1672.43 225.862 Q1674.88 225.862 1677.17 225.26 Q1679.49 224.658 1681.76 223.454 L1681.76 227.482 Q1679.46 228.454 1677.06 228.964 Q1674.65 229.473 1672.17 229.473 Q1665.97 229.473 1662.33 225.862 Q1658.72 222.251 1658.72 216.093 Q1658.72 209.728 1662.15 206.001 Q1665.6 202.251 1671.43 202.251 Q1676.66 202.251 1679.7 205.63 Q1682.75 208.987 1682.75 214.774 M1678.49 213.524 Q1678.45 210.029 1676.52 207.945 Q1674.63 205.862 1671.48 205.862 Q1667.91 205.862 1665.76 207.876 Q1663.63 209.89 1663.31 213.547 L1678.49 213.524 Z\" fill=\"#000000\" fill-rule=\"nonzero\" fill-opacity=\"1\" /><path clip-path=\"url(#clip650)\" d=\"M1706.8 206.811 L1706.8 192.783 L1711.06 192.783 L1711.06 228.802 L1706.8 228.802 L1706.8 224.913 Q1705.46 227.227 1703.4 228.362 Q1701.36 229.473 1698.49 229.473 Q1693.79 229.473 1690.83 225.723 Q1687.89 221.973 1687.89 215.862 Q1687.89 209.751 1690.83 206.001 Q1693.79 202.251 1698.49 202.251 Q1701.36 202.251 1703.4 203.385 Q1705.46 204.496 1706.8 206.811 M1692.29 215.862 Q1692.29 220.561 1694.21 223.246 Q1696.15 225.908 1699.53 225.908 Q1702.91 225.908 1704.86 223.246 Q1706.8 220.561 1706.8 215.862 Q1706.8 211.163 1704.86 208.501 Q1702.91 205.816 1699.53 205.816 Q1696.15 205.816 1694.21 208.501 Q1692.29 211.163 1692.29 215.862 Z\" fill=\"#000000\" fill-rule=\"nonzero\" fill-opacity=\"1\" /><path clip-path=\"url(#clip650)\" d=\"M1739.77 198.084 L1739.77 211.07 L1745.64 211.07 Q1748.91 211.07 1750.69 209.38 Q1752.47 207.691 1752.47 204.566 Q1752.47 201.464 1750.69 199.774 Q1748.91 198.084 1745.64 198.084 L1739.77 198.084 M1735.09 194.242 L1745.64 194.242 Q1751.45 194.242 1754.42 196.88 Q1757.4 199.496 1757.4 204.566 Q1757.4 209.681 1754.42 212.297 Q1751.45 214.913 1745.64 214.913 L1739.77 214.913 L1739.77 228.802 L1735.09 228.802 L1735.09 194.242 Z\" fill=\"#000000\" fill-rule=\"nonzero\" fill-opacity=\"1\" /><path clip-path=\"url(#clip650)\" d=\"M1771.85 205.862 Q1768.42 205.862 1766.43 208.547 Q1764.44 211.209 1764.44 215.862 Q1764.44 220.515 1766.41 223.2 Q1768.4 225.862 1771.85 225.862 Q1775.25 225.862 1777.24 223.177 Q1779.23 220.491 1779.23 215.862 Q1779.23 211.255 1777.24 208.57 Q1775.25 205.862 1771.85 205.862 M1771.85 202.251 Q1777.4 202.251 1780.58 205.862 Q1783.75 209.473 1783.75 215.862 Q1783.75 222.228 1780.58 225.862 Q1777.4 229.473 1771.85 229.473 Q1766.27 229.473 1763.1 225.862 Q1759.95 222.228 1759.95 215.862 Q1759.95 209.473 1763.1 205.862 Q1766.27 202.251 1771.85 202.251 Z\" fill=\"#000000\" fill-rule=\"nonzero\" fill-opacity=\"1\" /><path clip-path=\"url(#clip650)\" d=\"M1790.81 202.876 L1795.07 202.876 L1795.07 228.802 L1790.81 228.802 L1790.81 202.876 M1790.81 192.783 L1795.07 192.783 L1795.07 198.177 L1790.81 198.177 L1790.81 192.783 Z\" fill=\"#000000\" fill-rule=\"nonzero\" fill-opacity=\"1\" /><path clip-path=\"url(#clip650)\" d=\"M1825.53 213.153 L1825.53 228.802 L1821.27 228.802 L1821.27 213.292 Q1821.27 209.612 1819.83 207.783 Q1818.4 205.954 1815.53 205.954 Q1812.08 205.954 1810.09 208.154 Q1808.1 210.353 1808.1 214.149 L1808.1 228.802 L1803.82 228.802 L1803.82 202.876 L1808.1 202.876 L1808.1 206.904 Q1809.63 204.566 1811.69 203.408 Q1813.77 202.251 1816.48 202.251 Q1820.95 202.251 1823.24 205.029 Q1825.53 207.783 1825.53 213.153 Z\" fill=\"#000000\" fill-rule=\"nonzero\" fill-opacity=\"1\" /><path clip-path=\"url(#clip650)\" d=\"M1838.24 195.515 L1838.24 202.876 L1847.01 202.876 L1847.01 206.186 L1838.24 206.186 L1838.24 220.26 Q1838.24 223.431 1839.09 224.334 Q1839.97 225.237 1842.63 225.237 L1847.01 225.237 L1847.01 228.802 L1842.63 228.802 Q1837.7 228.802 1835.83 226.973 Q1833.95 225.121 1833.95 220.26 L1833.95 206.186 L1830.83 206.186 L1830.83 202.876 L1833.95 202.876 L1833.95 195.515 L1838.24 195.515 Z\" fill=\"#000000\" fill-rule=\"nonzero\" fill-opacity=\"1\" /><path clip-path=\"url(#clip650)\" d=\"M1869.14 203.64 L1869.14 207.667 Q1867.33 206.741 1865.39 206.279 Q1863.44 205.816 1861.36 205.816 Q1858.19 205.816 1856.59 206.788 Q1855.02 207.76 1855.02 209.704 Q1855.02 211.186 1856.15 212.042 Q1857.29 212.876 1860.71 213.64 L1862.17 213.964 Q1866.71 214.936 1868.61 216.718 Q1870.53 218.478 1870.53 221.649 Q1870.53 225.26 1867.66 227.366 Q1864.81 229.473 1859.81 229.473 Q1857.73 229.473 1855.46 229.056 Q1853.21 228.663 1850.71 227.852 L1850.71 223.454 Q1853.07 224.681 1855.37 225.306 Q1857.66 225.908 1859.9 225.908 Q1862.91 225.908 1864.53 224.89 Q1866.15 223.848 1866.15 221.973 Q1866.15 220.237 1864.97 219.311 Q1863.82 218.385 1859.86 217.528 L1858.38 217.181 Q1854.42 216.348 1852.66 214.635 Q1850.9 212.899 1850.9 209.89 Q1850.9 206.232 1853.49 204.242 Q1856.08 202.251 1860.85 202.251 Q1863.21 202.251 1865.3 202.598 Q1867.38 202.945 1869.14 203.64 Z\" fill=\"#000000\" fill-rule=\"nonzero\" fill-opacity=\"1\" /></svg>\n"
      ]
     },
     "metadata": {},
     "output_type": "display_data"
    }
   ],
   "source": [
    "using Plots\n",
    "scatter([c[1] for c in points], [c[2] for c in points], label=\"Original Points\")\n",
    "scatter!([c[1] for c in rpoints], [c[2] for c in rpoints], label=\"Rotated Points\")\n",
    "plot!(lims=(-0.1, 2.1), size=(500, 500), legend=true)"
   ]
  },
  {
   "cell_type": "markdown",
   "metadata": {},
   "source": [
    "In conclution, this notebook offers a thorough explanation of the power approach for eigenvalue and eigenvector estimation, along with useful Julia implementations.\n",
    "Additionally, it covers a number of fundamental ideas in linear algebra and shows how to use Julia's robust linear algebra library to perform computations quickly and effectively. The notebook seeks to improve knowledge of numerical linear algebra methods and Julia's abilities in this area through practical examples and explanations."
   ]
  }
 ],
 "metadata": {
  "kernelspec": {
   "display_name": "Julia 1.8.3",
   "language": "julia",
   "name": "julia-1.8"
  },
  "language_info": {
   "file_extension": ".jl",
   "mimetype": "application/julia",
   "name": "julia",
   "version": "1.8.3"
  }
 },
 "nbformat": 4,
 "nbformat_minor": 2
}
