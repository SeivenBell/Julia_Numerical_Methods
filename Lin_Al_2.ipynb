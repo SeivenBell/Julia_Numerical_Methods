{
 "cells": [
  {
   "cell_type": "markdown",
   "metadata": {},
   "source": [
    "#bench mark tools\n",
    "# SPD symetric positive definite matrix\n",
    "\"\"\"\n",
    "Ax = b\n",
    "\n",
    "x* : true solution\n",
    "x : approx solution\n",
    "e := x-x* : error\n",
    "\\theta := b-Ax : residual\n",
    "\n",
    "\n",
    "\n",
    "Optimization problem:\n",
    "\n",
    "Ax = b -----  loss function: 1/2 x^T A x - b^T x\n",
    "Grad_G =  Ax -b \n",
    "\n",
    "\n",
    "\n",
    "\"\"\"\n",
    "\n",
    "\n",
    "\n",
    "\n"
   ]
  },
  {
   "cell_type": "code",
   "execution_count": null,
   "metadata": {},
   "outputs": [],
   "source": [
    "#bench mark tools\n",
    "# SPD symetric positive definite matrix\n",
    "\"\"\"\n",
    "Ax = b\n",
    "\n",
    "x* : true solution\n",
    "x : approx solution\n",
    "e := x-x* : error\n",
    "\\theta := b-Ax : residual\n",
    "\n",
    "\n",
    "\n",
    "Optimization problem:\n",
    "\n",
    "Ax = b -----  loss function: 1/2 x^T A x - b^T x\n",
    "Grad_G =  Ax - b \n",
    "\n",
    "re read this optimize problem ****\n",
    "\n",
    "\n",
    "Gradian descent method:\n",
    "When we located at some point we use linear approximation to find the next point\n",
    "OR Steaperst descent method\n",
    "\n",
    "how to understand simmetric positive definite matrix and we need to find the minimum of the loss function. \n",
    "\n",
    "\n",
    "\"\"\"\n",
    "\n",
    "\n",
    "\n",
    "\n"
   ]
  },
  {
   "cell_type": "code",
   "execution_count": 3,
   "metadata": {},
   "outputs": [
    {
     "ename": "ErrorException",
     "evalue": "syntax: incomplete: premature end of input",
     "output_type": "error",
     "traceback": [
      "syntax: incomplete: premature end of input\n",
      "\n",
      "Stacktrace:\n",
      " [1] top-level scope\n",
      "   @ c:\\Users\\Seiven\\Documents\\GitHub\\Julia_Projects\\Lin_Al_2.ipynb:16"
     ]
    }
   ],
   "source": [
    "function GDGradiant_Decent(A, b, n)\n",
    "    x = zeros(b)\n",
    "    for i in 1:n\n",
    "        r = b - A * x\n",
    "        α = -(x * A * r - b * r) / (r * A * r)\n",
    "        x = x + α * r\n",
    "    end\n",
    "    return x\n",
    "end\n",
    "\n",
    "A = randn(10, 10)\n",
    "A = A + A'\n",
    "A = A * A\n",
    "b = randn(10)\n",
    "n = 100\n",
    "tr = function (A,b,n)"
   ]
  },
  {
   "cell_type": "code",
   "execution_count": null,
   "metadata": {},
   "outputs": [],
   "source": []
  }
 ],
 "metadata": {
  "kernelspec": {
   "display_name": "Julia 1.8.3",
   "language": "julia",
   "name": "julia-1.8"
  },
  "language_info": {
   "file_extension": ".jl",
   "mimetype": "application/julia",
   "name": "julia",
   "version": "1.8.3"
  }
 },
 "nbformat": 4,
 "nbformat_minor": 2
}
