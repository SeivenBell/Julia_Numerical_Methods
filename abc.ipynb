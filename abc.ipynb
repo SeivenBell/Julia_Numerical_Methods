{
 "cells": [
  {
   "cell_type": "code",
   "execution_count": null,
   "metadata": {},
   "outputs": [],
   "source": [
    "using WGLMakie\n",
    "\n",
    "fig = Figure()\n",
    "ax = Axis(fig[1, 1],\n",
    "    title = \"Tut_1 plotting\",\n",
    "    ylabel = \"Voltage\",\n",
    "    xlabel = \"Time\"\n",
    ")\n",
    "\n",
    "x = range(-4 * pi, 4 * pi, length=100)\n",
    "y = sin.(x) ./ x\n",
    "lines!(ax, x, y)\n",
    "fig"
   ]
  }
 ],
 "metadata": {
  "kernelspec": {
   "display_name": "Julia 1.8.3",
   "language": "julia",
   "name": "julia-1.8"
  },
  "language_info": {
   "file_extension": ".jl",
   "mimetype": "application/julia",
   "name": "julia",
   "version": "1.8.3"
  }
 },
 "nbformat": 4,
 "nbformat_minor": 2
}
