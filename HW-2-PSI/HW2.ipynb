{
 "cells": [
  {
   "cell_type": "markdown",
   "metadata": {},
   "source": [
    "Certainly! Let's outline a comprehensive approach to tackle tasks A, B, C, and D of your homework, combining the calculation and code structure in Julia. We aim to solve the scalar wave equation on a sphere using spherical harmonics and then evolve this system in time. Here's how to systematically approach each task:\n",
    "\n",
    "### Task A: Numerical Discretization using Spherical Harmonics\n",
    "\n",
    "You need to expand both φ(t, θ, ϕ) and its time derivative ψ(t, θ, ϕ)  in terms of spherical harmonics. This involves calculating coefficients \\(a^{lm}(t)\\) and \\(b^{lm}(t)\\) that represent your scalar field and its time derivative in the spherical harmonics basis.\n",
    "\n",
    "- **Code Structure**:\n",
    "  - Define a function for spherical harmonics \\Y_{lm}     (θ, ϕ)\\).\n",
    "  - Implement functions to compute \\a^{lm}\\    ) and \\(b^{lm}\\) through integration over the sphere using the scalar fields \\(\\varphi\\) and \\(\\psi\\).\n",
    "\n",
    "### Task B: Initial Condition\n",
    "\n",
    "For an initial condition peaked around the North Pole, you might use a Gaussian-like function in \\(\\theta\\). This initial condition applies to \\(\\varphi\\), and you'll need to derive an appropriate form for \\(\\psi\\), possibly setting \\(\\psi = 0\\) everywhere at \\(t = 0\\) if \\(\\varphi\\) is initially stationary.\n",
    "\n",
    "- **Code Structure**:\n",
    "  - Define your Gaussian-peaked function \\(\\varphi(\\theta)\\) and set \\(\\psi\\) accordingly.\n",
    "  - Calculate initial \\(a^{lm}\\) and \\(b^{lm}\\) using these definitions.\n",
    "\n",
    "### Task C: Time Evolution\n",
    "\n",
    "The system of ODEs comes from discretizing the wave equation in time. Use an ODE solver to evolve \\(a^{lm}(t)\\) and \\(b^{lm}(t)\\) in time.\n",
    "\n",
    "- **Code Structure**:\n",
    "  - Set up the ODE system for \\(a^{lm}(t)\\) and \\(b^{lm}(t)\\) based on the discretized equations.\n",
    "  - Choose a numerical ODE solver available in Julia (e.g., from the `DifferentialEquations.jl` package).\n",
    "  - Define the time span and initial conditions for the solver.\n",
    "  - Solve the ODEs to get \\(a^{lm}(t)\\) and \\(b^{lm}(t)\\) for \\(t = 0\\) to \\(t = 10\\).\n",
    "\n",
    "### Task D: Visualization\n",
    "\n",
    "To visualize \\(\\varphi(t, \\theta, \\phi)\\) over time on the sphere, convert the evolved coefficients back into the spatial domain using spherical harmonics and plot the results.\n",
    "\n",
    "- **Code Structure**:\n",
    "  - For selected time points, reconstruct \\(\\varphi(t, \\theta, \\phi)\\) from the evolved \\(a^{lm}(t)\\) using spherical harmonics.\n",
    "  - Use a plotting library that supports spherical coordinates (e.g., `Plots.jl` with a 3D surface plot).\n",
    "  - Generate and save plots or animations showing the evolution of \\(\\varphi\\) over the sphere.\n",
    "\n",
    "```\n",
    "\n",
    "This outline is quite high-level and abstracts many details, assuming the existence of several utility functions (`Y_lm`, `compute_spherical_harmonic_coefficients`, `initial_condition_definitions`, `setup_odes`, `reconstruct_field_from_solution`, `plot_sphere`) that you would need to implement based on the specifics of your problem and tasks.\n",
    "\n",
    "### Implementation Tips:\n",
    "\n",
    "- **Spherical Harmonics Expansion**: Use existing libraries or implement a function for \\(Y_{lm}(\\theta, \\phi)\\) based on mathematical definitions.\n",
    "- **ODE Solver**: `DifferentialEquations.jl` is a powerful package in Julia for solving ODEs with various solvers available.\n",
    "- **Visualization**: For plotting on a sphere, you might need to"
   ]
  },
  {
   "cell_type": "code",
   "execution_count": 4,
   "metadata": {},
   "outputs": [
    {
     "name": "stderr",
     "output_type": "stream",
     "text": [
      "\u001b[32m\u001b[1m   Resolving\u001b[22m\u001b[39m package versions...\n"
     ]
    },
    {
     "name": "stderr",
     "output_type": "stream",
     "text": [
      "\u001b[32m\u001b[1m    Updating\u001b[22m\u001b[39m `C:\\Users\\Seiven\\.julia\\environments\\v1.8\\Project.toml`\n",
      "\u001b[33m⌅\u001b[39m\u001b[90m [91a5bcdd] \u001b[39m\u001b[92m+ Plots v1.39.0\u001b[39m\n",
      "\u001b[32m\u001b[1m    Updating\u001b[22m\u001b[39m `C:\\Users\\Seiven\\.julia\\environments\\v1.8\\Manifest.toml`\n"
     ]
    },
    {
     "name": "stderr",
     "output_type": "stream",
     "text": [
      " \u001b[90m [c87230d0] \u001b[39m\u001b[92m+ FFMPEG v0.4.1\u001b[39m\n",
      "\u001b[33m⌅\u001b[39m\u001b[90m [28b8d3ca] \u001b[39m\u001b[92m+ GR v0.72.10\u001b[39m\n",
      " \u001b[90m [1019f520] \u001b[39m\u001b[92m+ JLFzf v0.1.7\u001b[39m\n",
      " \u001b[90m [23fbe1c1] \u001b[39m\u001b[92m+ Latexify v0.16.1\u001b[39m\n",
      " \u001b[90m [442fdcdd] \u001b[39m\u001b[92m+ Measures v0.3.2\u001b[39m\n",
      " \u001b[90m [b98c9c47] \u001b[39m\u001b[92m+ Pipe v1.3.0\u001b[39m\n",
      " \u001b[90m [ccf2f8ad] \u001b[39m\u001b[92m+ PlotThemes v3.1.0\u001b[39m\n",
      "\u001b[33m⌅\u001b[39m\u001b[90m [91a5bcdd] \u001b[39m\u001b[92m+ Plots v1.39.0\u001b[39m\n",
      " \u001b[90m [01d81517] \u001b[39m\u001b[92m+ RecipesPipeline v0.6.12\u001b[39m\n",
      " \u001b[90m [45397f5d] \u001b[39m\u001b[92m+ UnitfulLatexify v1.6.3\u001b[39m\n",
      " \u001b[90m [41fe7b60] \u001b[39m\u001b[92m+ Unzip v0.2.0\u001b[39m\n",
      " \u001b[90m [2702e6a9] \u001b[39m\u001b[92m+ EpollShim_jll v0.0.20230411+0\u001b[39m\n",
      "\u001b[33m⌅\u001b[39m\u001b[90m [d2c73de3] \u001b[39m\u001b[92m+ GR_jll v0.72.10+0\u001b[39m\n",
      " \u001b[90m [88015f11] \u001b[39m\u001b[92m+ LERC_jll v3.0.0+1\u001b[39m\n",
      "\u001b[33m⌅\u001b[39m\u001b[90m [89763e89] \u001b[39m\u001b[92m+ Libtiff_jll v4.5.1+1\u001b[39m\n",
      " \u001b[90m [c0090381] \u001b[39m\u001b[92m+ Qt6Base_jll v6.5.3+1\u001b[39m\n",
      " \u001b[90m [a44049a8] \u001b[39m\u001b[92m+ Vulkan_Loader_jll v1.3.243+0\u001b[39m\n",
      " \u001b[90m [a2964d1f] \u001b[39m\u001b[92m+ Wayland_jll v1.21.0+1\u001b[39m\n",
      " \u001b[90m [2381bf8a] \u001b[39m\u001b[92m+ Wayland_protocols_jll v1.31.0+0\u001b[39m\n",
      " \u001b[90m [ffd25f8a] \u001b[39m\u001b[92m+ XZ_jll v5.4.5+0\u001b[39m\n",
      " \u001b[90m [f67eecfb] \u001b[39m\u001b[92m+ Xorg_libICE_jll v1.0.10+1\u001b[39m\n",
      " \u001b[90m [c834827a] \u001b[39m\u001b[92m+ Xorg_libSM_jll v1.2.3+0\u001b[39m\n",
      " \u001b[90m [cc61e674] \u001b[39m\u001b[92m+ Xorg_libxkbfile_jll v1.1.2+0\u001b[39m\n",
      " \u001b[90m [e920d4aa] \u001b[39m\u001b[92m+ Xorg_xcb_util_cursor_jll v0.1.4+0\u001b[39m\n",
      " \u001b[90m [12413925] \u001b[39m\u001b[92m+ Xorg_xcb_util_image_jll v0.4.0+1\u001b[39m\n",
      " \u001b[90m [2def613f] \u001b[39m\u001b[92m+ Xorg_xcb_util_jll v0.4.0+1\u001b[39m\n",
      " \u001b[90m [975044d2] \u001b[39m\u001b[92m+ Xorg_xcb_util_keysyms_jll v0.4.0+1\u001b[39m\n",
      " \u001b[90m [0d47668e] \u001b[39m\u001b[92m+ Xorg_xcb_util_renderutil_jll v0.3.9+1\u001b[39m\n",
      " \u001b[90m [c22f9ab0] \u001b[39m\u001b[92m+ Xorg_xcb_util_wm_jll v0.4.1+1\u001b[39m\n",
      " \u001b[90m [35661453] \u001b[39m\u001b[92m+ Xorg_xkbcomp_jll v1.4.6+0\u001b[39m\n",
      " \u001b[90m [33bec58e] \u001b[39m\u001b[92m+ Xorg_xkeyboard_config_jll v2.39.0+0\u001b[39m\n",
      " \u001b[90m [3161d3a3] \u001b[39m\u001b[92m+ Zstd_jll v1.5.5+0\u001b[39m\n",
      " \u001b[90m [35ca27e7] \u001b[39m\u001b[92m+ eudev_jll v3.2.9+0\u001b[39m\n",
      " \u001b[90m [214eeab7] \u001b[39m\u001b[92m+ fzf_jll v0.43.0+0\u001b[39m\n",
      " \u001b[90m [1a1c6b14] \u001b[39m\u001b[92m+ gperf_jll v3.1.1+0\u001b[39m\n",
      " \u001b[90m [2db6ffa8] \u001b[39m\u001b[92m+ libevdev_jll v1.11.0+0\u001b[39m\n",
      " \u001b[90m [36db933b] \u001b[39m\u001b[92m+ libinput_jll v1.18.0+0\u001b[39m\n",
      " \u001b[90m [009596ad] \u001b[39m\u001b[92m+ mtdev_jll v1.1.6+0\u001b[39m\n",
      " \u001b[90m [d8fb68d0] \u001b[39m\u001b[92m+ xkbcommon_jll v1.4.1+1\u001b[39m\n",
      " \u001b[90m [8bb1440f] \u001b[39m\u001b[92m+ DelimitedFiles\u001b[39m\n",
      "\u001b[36m\u001b[1m        Info\u001b[22m\u001b[39m Packages marked with \u001b[33m⌅\u001b[39m have new versions available but compatibility constraints restrict them from upgrading. To see why use `status --outdated -m`\n"
     ]
    }
   ],
   "source": [
    "import Pkg;\n",
    "# Pkg.add(\"DifferentialEquations\");\n",
    "# Pkg.add(\"SpecialFunctions\")\n",
    "Pkg.add(\"Plots\")\n"
   ]
  },
  {
   "cell_type": "code",
   "execution_count": 3,
   "metadata": {},
   "outputs": [
    {
     "ename": "ArgumentError",
     "evalue": "ArgumentError: Package Plots not found in current path.\n- Run `import Pkg; Pkg.add(\"Plots\")` to install the Plots package.",
     "output_type": "error",
     "traceback": [
      "ArgumentError: Package Plots not found in current path.\n",
      "- Run `import Pkg; Pkg.add(\"Plots\")` to install the Plots package.\n",
      "\n",
      "Stacktrace:\n",
      "  [1] macro expansion\n",
      "    @ .\\loading.jl:1163 [inlined]\n",
      "  [2] macro expansion\n",
      "    @ .\\lock.jl:223 [inlined]\n",
      "  [3] require(into::Module, mod::Symbol)\n",
      "    @ Base .\\loading.jl:1144\n",
      "  [4] eval\n",
      "    @ .\\boot.jl:368 [inlined]\n",
      "  [5] include_string(mapexpr::typeof(REPL.softscope), mod::Module, code::String, filename::String)\n",
      "    @ Base .\\loading.jl:1428\n",
      "  [6] #invokelatest#2\n",
      "    @ .\\essentials.jl:729 [inlined]\n",
      "  [7] invokelatest\n",
      "    @ .\\essentials.jl:726 [inlined]\n",
      "  [8] (::VSCodeServer.var\"#208#209\"{VSCodeServer.NotebookRunCellArguments, String})()\n",
      "    @ VSCodeServer c:\\Users\\Seiven\\.vscode\\extensions\\julialang.language-julia-1.66.2\\scripts\\packages\\VSCodeServer\\src\\serve_notebook.jl:19\n",
      "  [9] withpath(f::VSCodeServer.var\"#208#209\"{VSCodeServer.NotebookRunCellArguments, String}, path::String)\n",
      "    @ VSCodeServer c:\\Users\\Seiven\\.vscode\\extensions\\julialang.language-julia-1.66.2\\scripts\\packages\\VSCodeServer\\src\\repl.jl:274\n",
      " [10] notebook_runcell_request(conn::VSCodeServer.JSONRPC.JSONRPCEndpoint{Base.PipeEndpoint, Base.PipeEndpoint}, params::VSCodeServer.NotebookRunCellArguments)\n",
      "    @ VSCodeServer c:\\Users\\Seiven\\.vscode\\extensions\\julialang.language-julia-1.66.2\\scripts\\packages\\VSCodeServer\\src\\serve_notebook.jl:13\n",
      " [11] dispatch_msg(x::VSCodeServer.JSONRPC.JSONRPCEndpoint{Base.PipeEndpoint, Base.PipeEndpoint}, dispatcher::VSCodeServer.JSONRPC.MsgDispatcher, msg::Dict{String, Any})\n",
      "    @ VSCodeServer.JSONRPC c:\\Users\\Seiven\\.vscode\\extensions\\julialang.language-julia-1.66.2\\scripts\\packages\\JSONRPC\\src\\typed.jl:67\n",
      " [12] serve_notebook(pipename::String, outputchannel_logger::Base.CoreLogging.SimpleLogger; crashreporting_pipename::String)\n",
      "    @ VSCodeServer c:\\Users\\Seiven\\.vscode\\extensions\\julialang.language-julia-1.66.2\\scripts\\packages\\VSCodeServer\\src\\serve_notebook.jl:139\n",
      " [13] top-level scope\n",
      "    @ c:\\Users\\Seiven\\.vscode\\extensions\\julialang.language-julia-1.66.2\\scripts\\notebook\\notebook.jl:32"
     ]
    }
   ],
   "source": [
    "using DifferentialEquations, Plots, SpecialFunctions\n",
    "\n",
    "# Assume Y_lm, compute_spherical_harmonic_coefficients, and initial_condition_definitions are defined\n",
    "\n",
    "function main()\n",
    "    # Define initial conditions\n",
    "    a_lm_initial, b_lm_initial = initial_condition_definitions()\n",
    "\n",
    "    # Set up and solve the ODE system\n",
    "    odes = setup_odes(a_lm_initial, b_lm_initial)\n",
    "    sol = solve(odes, RK4(), tspan=(0.0, 10.0))\n",
    "\n",
    "    # Visualization over selected time points\n",
    "    times = 0:0.5:10\n",
    "    for t in times\n",
    "        phi_t = reconstruct_field_from_solution(sol, t)\n",
    "        plot_sphere(phi_t)  # Implement visualization of phi_t on the sphere\n",
    "    end\n",
    "end\n",
    "\n",
    "# Placeholder functions for setup_odes, reconstruct_field_from_solution, and plot_sphere need to be implemented\n",
    "\n",
    "main()\n"
   ]
  }
 ],
 "metadata": {
  "kernelspec": {
   "display_name": "Julia 1.8.3",
   "language": "julia",
   "name": "julia-1.8"
  },
  "language_info": {
   "file_extension": ".jl",
   "mimetype": "application/julia",
   "name": "julia",
   "version": "1.8.3"
  }
 },
 "nbformat": 4,
 "nbformat_minor": 2
}
