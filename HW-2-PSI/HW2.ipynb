{
 "cells": [
  {
   "cell_type": "code",
   "execution_count": 9,
   "metadata": {},
   "outputs": [
    {
     "name": "stderr",
     "output_type": "stream",
     "text": [
      "\u001b[32m\u001b[1m   Resolving\u001b[22m\u001b[39m package versions..."
     ]
    },
    {
     "name": "stderr",
     "output_type": "stream",
     "text": [
      "\n",
      "\u001b[32m\u001b[1m  No Changes\u001b[22m\u001b[39m to `C:\\Users\\Seiven\\.julia\\environments\\v1.8\\Project.toml`\n",
      "\u001b[32m\u001b[1m  No Changes\u001b[22m\u001b[39m to `C:\\Users\\Seiven\\.julia\\environments\\v1.8\\Manifest.toml`\n"
     ]
    },
    {
     "name": "stderr",
     "output_type": "stream",
     "text": [
      "\u001b[32m\u001b[1m   Resolving\u001b[22m\u001b[39m package versions..."
     ]
    },
    {
     "name": "stderr",
     "output_type": "stream",
     "text": [
      "\n",
      "\u001b[32m\u001b[1m  No Changes\u001b[22m\u001b[39m to `C:\\Users\\Seiven\\.julia\\environments\\v1.8\\Project.toml`\n",
      "\u001b[32m\u001b[1m  No Changes\u001b[22m\u001b[39m to `C:\\Users\\Seiven\\.julia\\environments\\v1.8\\Manifest.toml`"
     ]
    },
    {
     "name": "stderr",
     "output_type": "stream",
     "text": [
      "\n"
     ]
    },
    {
     "name": "stderr",
     "output_type": "stream",
     "text": [
      "\u001b[32m\u001b[1m   Resolving\u001b[22m\u001b[39m package versions...\n"
     ]
    },
    {
     "name": "stderr",
     "output_type": "stream",
     "text": [
      "\u001b[32m\u001b[1m  No Changes\u001b[22m\u001b[39m to `C:\\Users\\Seiven\\.julia\\environments\\v1.8\\Project.toml`\n",
      "\u001b[32m\u001b[1m  No Changes\u001b[22m\u001b[39m to `C:\\Users\\Seiven\\.julia\\environments\\v1.8\\Manifest.toml`\n"
     ]
    },
    {
     "name": "stderr",
     "output_type": "stream",
     "text": [
      "\u001b[32m\u001b[1m   Resolving\u001b[22m\u001b[39m package versions...\n"
     ]
    },
    {
     "name": "stderr",
     "output_type": "stream",
     "text": [
      "\u001b[32m\u001b[1m  No Changes\u001b[22m\u001b[39m to `C:\\Users\\Seiven\\.julia\\environments\\v1.8\\Project.toml`\n",
      "\u001b[32m\u001b[1m  No Changes\u001b[22m\u001b[39m to `C:\\Users\\Seiven\\.julia\\environments\\v1.8\\Manifest.toml`"
     ]
    },
    {
     "name": "stderr",
     "output_type": "stream",
     "text": [
      "\n"
     ]
    },
    {
     "name": "stderr",
     "output_type": "stream",
     "text": [
      "\u001b[32m\u001b[1m   Resolving\u001b[22m\u001b[39m package versions...\n"
     ]
    },
    {
     "name": "stderr",
     "output_type": "stream",
     "text": [
      "\u001b[32m\u001b[1m   Installed\u001b[22m\u001b[39m Quadmath ───────────── v0.5.9\n",
      "\u001b[32m\u001b[1m   Installed\u001b[22m\u001b[39m GenericLinearAlgebra ─ v0.3.11\n",
      "\u001b[32m\u001b[1m   Installed\u001b[22m\u001b[39m Hwloc ──────────────── v3.0.1\n",
      "\u001b[32m\u001b[1m   Installed\u001b[22m\u001b[39m Quaternionic ───────── v1.4.0\n",
      "\u001b[32m\u001b[1m   Installed\u001b[22m\u001b[39m SphericalFunctions ─── v2.2.1\n",
      "\u001b[32m\u001b[1m   Installed\u001b[22m\u001b[39m DoubleFloats ───────── v1.3.5\n"
     ]
    },
    {
     "name": "stderr",
     "output_type": "stream",
     "text": [
      "\u001b[32m\u001b[1m   Installed\u001b[22m\u001b[39m Hwloc_jll ──────────── v2.10.0+0\n"
     ]
    },
    {
     "name": "stderr",
     "output_type": "stream",
     "text": [
      "\u001b[32m\u001b[1m    Updating\u001b[22m\u001b[39m `C:\\Users\\Seiven\\.julia\\environments\\v1.8\\Project.toml`\n",
      " \u001b[90m [af6d55de] \u001b[39m\u001b[92m+ SphericalFunctions v2.2.1\u001b[39m\n",
      "\u001b[32m\u001b[1m    Updating\u001b[22m\u001b[39m `C:\\Users\\Seiven\\.julia\\environments\\v1.8\\Manifest.toml`"
     ]
    },
    {
     "name": "stderr",
     "output_type": "stream",
     "text": [
      "\n",
      " \u001b[90m [497a8b3b] \u001b[39m\u001b[92m+ DoubleFloats v1.3.5\u001b[39m\n",
      " \u001b[90m [14197337] \u001b[39m\u001b[92m+ GenericLinearAlgebra v0.3.11\u001b[39m\n",
      " \u001b[90m [0e44f5e4] \u001b[39m\u001b[92m+ Hwloc v3.0.1\u001b[39m\n",
      " \u001b[90m [be4d8f0f] \u001b[39m\u001b[92m+ Quadmath v0.5.9\u001b[39m\n",
      " \u001b[90m [0756cd96] \u001b[39m\u001b[92m+ Quaternionic v1.4.0\u001b[39m\n",
      " \u001b[90m [af6d55de] \u001b[39m\u001b[92m+ SphericalFunctions v2.2.1\u001b[39m\n",
      " \u001b[90m [e33a78d0] \u001b[39m"
     ]
    },
    {
     "name": "stderr",
     "output_type": "stream",
     "text": [
      "\u001b[92m+ Hwloc_jll v2.10.0+0\u001b[39m\n",
      "\u001b[32m\u001b[1mPrecompiling\u001b[22m\u001b[39m project..."
     ]
    },
    {
     "name": "stderr",
     "output_type": "stream",
     "text": [
      "\n"
     ]
    },
    {
     "name": "stderr",
     "output_type": "stream",
     "text": [
      "\u001b[32m  ✓ \u001b[39m\u001b[90mQuadmath\u001b[39m"
     ]
    },
    {
     "name": "stderr",
     "output_type": "stream",
     "text": [
      "\n"
     ]
    },
    {
     "name": "stderr",
     "output_type": "stream",
     "text": [
      "\u001b[32m  ✓ \u001b[39m\u001b[90mHwloc_jll\u001b[39m\n",
      "\u001b[32m  ✓ \u001b[39m\u001b[90mGenericLinearAlgebra\u001b[39m\n"
     ]
    },
    {
     "name": "stderr",
     "output_type": "stream",
     "text": [
      "\u001b[32m  ✓ \u001b[39m\u001b[90mHwloc\u001b[39m\n"
     ]
    },
    {
     "name": "stderr",
     "output_type": "stream",
     "text": [
      "\u001b[32m  ✓ \u001b[39m\u001b[90mQuaternionic\u001b[39m\n"
     ]
    },
    {
     "name": "stderr",
     "output_type": "stream",
     "text": [
      "\u001b[32m  ✓ \u001b[39m\u001b[90mDoubleFloats\u001b[39m\n"
     ]
    },
    {
     "name": "stderr",
     "output_type": "stream",
     "text": [
      "\u001b[32m  ✓ \u001b[39mSphericalFunctions\n",
      "  7 dependencies successfully precompiled in 12 seconds. 407 already precompiled.\n"
     ]
    }
   ],
   "source": [
    "using Pkg\n",
    "Pkg.add(\"DifferentialEquations\")\n",
    "Pkg.add(\"Plots\")\n",
    "Pkg.add(\"SpecialFunctions\")\n",
    "Pkg.add(\"LegendrePolynomials\")\n",
    "Pkg.add(\"SphericalFunctions\")\n",
    "\n"
   ]
  },
  {
   "cell_type": "code",
   "execution_count": 10,
   "metadata": {},
   "outputs": [
    {
     "ename": "UndefVarError",
     "evalue": "UndefVarError: SphericalHarmonicY not defined",
     "output_type": "error",
     "traceback": [
      "UndefVarError: SphericalHarmonicY not defined\n",
      "\n",
      "Stacktrace:\n",
      " [1] spherical_harmonics(m::Int64, l::Int64, ϕ::Float64, θ::Float64)\n",
      "   @ Main c:\\Users\\Seiven\\Documents\\GitHub\\Julia_Projects\\HW-2-PSI\\HW2.ipynb:32\n",
      " [2] project_initial_condition(l::Int64, m::Int64, σ::Float64, θ_vals::StepRangeLen{Float64, Base.TwicePrecision{Float64}, Base.TwicePrecision{Float64}, Int64}, ϕ_vals::StepRangeLen{Float64, Base.TwicePrecision{Float64}, Base.TwicePrecision{Float64}, Int64})\n",
      "   @ Main c:\\Users\\Seiven\\Documents\\GitHub\\Julia_Projects\\HW-2-PSI\\HW2.ipynb:40\n",
      " [3] solve_ode(l_max::Int64, σ::Float64, t_max::Float64)\n",
      "   @ Main c:\\Users\\Seiven\\Documents\\GitHub\\Julia_Projects\\HW-2-PSI\\HW2.ipynb:68\n",
      " [4] top-level scope\n",
      "   @ c:\\Users\\Seiven\\Documents\\GitHub\\Julia_Projects\\HW-2-PSI\\HW2.ipynb:99"
     ]
    }
   ],
   "source": [
    "using DifferentialEquations\n",
    "using Plots\n",
    "using SpecialFunctions\n",
    "using LegendrePolynomials\n",
    "using SphericalFunctions\n",
    "\n",
    "# Parameters\n",
    "l_max = 4\n",
    "sigma = 0.2\n",
    "t_max = 10.0\n",
    "n_points = 100\n",
    "\n",
    "# Define theta and phi arrays\n",
    "theta = range(0, stop=π, length=n_points)\n",
    "phi = range(0, stop=2π, length=n_points)\n",
    "Theta, Phi = [t for p in phi, t in theta], [p for p in phi, t in theta]\n",
    "\n",
    "# Initial condition function\n",
    "function initial_condition(θ, σ)\n",
    "    return exp(-θ^2 / (2 * σ^2))\n",
    "end\n",
    "\n",
    "# Associated Legendre function\n",
    "function assoc_legendre(l, m, x)\n",
    "    coeff = ((-1)^m) * sqrt((2l + 1) / (4π) * factorial(l - m) / factorial(l + m))\n",
    "    return coeff * Plm(x, l, abs(m))\n",
    "end\n",
    "\n",
    "function spherical_harmonics(m, l, ϕ, θ)\n",
    "    # SphericalHarmonicY takes arguments (l, m, θ, ϕ)\n",
    "    # Note: SphericalFunctions.jl uses physicists' convention by default\n",
    "    return SphericalHarmonicY(l, m, θ, ϕ)\n",
    "end\n",
    "\n",
    "# Project initial condition onto spherical harmonics basis\n",
    "function project_initial_condition(l, m, σ, θ_vals, ϕ_vals)\n",
    "    integral = 0.0\n",
    "    for θ_val in θ_vals\n",
    "        for ϕ_val in ϕ_vals\n",
    "            Y_lm = conj(spherical_harmonics(m, l, ϕ_val, θ_val))\n",
    "            integral += initial_condition(θ_val, σ) * Y_lm * sin(θ_val)\n",
    "        end\n",
    "    end\n",
    "    Δθ = θ_vals[2] - θ_vals[1]\n",
    "    Δϕ = ϕ_vals[2] - ϕ_vals[1]\n",
    "    return integral * Δθ * Δϕ\n",
    "end\n",
    "\n",
    "# ODE system for c_lm(t) and psi_lm(t)\n",
    "function ode_system(du, u, p, t)\n",
    "    l_max = p\n",
    "    for l in 0:l_max\n",
    "        for m in -l:l\n",
    "            idx = l^2 + l + m + 1\n",
    "            du[idx] = u[idx+1]\n",
    "            du[idx+1] = -l * (l + 1) * u[idx]\n",
    "        end\n",
    "    end\n",
    "end\n",
    "\n",
    "# Solve the ODE system\n",
    "function solve_ode(l_max, σ, t_max)\n",
    "    n_coeffs = (l_max + 1)^2\n",
    "    y0 = zeros(2 * n_coeffs)  # Expected to be real\n",
    "    for l in 0:l_max\n",
    "        for m in -l:l\n",
    "            idx = l^2 + l + m + 1\n",
    "            y0[idx] = real(project_initial_condition(l, m, σ, theta, phi))\n",
    "        end\n",
    "    end\n",
    "    tspan = (0.0, t_max)\n",
    "    prob = ODEProblem(ode_system, y0, tspan, l_max)\n",
    "    sol = solve(prob, Tsit5(), reltol=1e-8)\n",
    "    return sol\n",
    "end\n",
    "\n",
    "\n",
    "# Visualization of the solution at a given time t\n",
    "function visualize_solution(sol, t, l_max)\n",
    "    Z = zeros(length(theta), length(phi))  # Ensure Z is for real numbers\n",
    "    for l in 0:l_max\n",
    "        for m in -l:l\n",
    "            idx = l^2 + l + m + 1\n",
    "            for i in 1:length(theta)\n",
    "                for j in 1:length(phi)\n",
    "                    # Explicitly take the real part of the spherical harmonics calculation\n",
    "                    Z[i, j] += real(spherical_harmonics(m, l, phi[j], theta[i]) * sol(t)[idx])\n",
    "                end\n",
    "            end\n",
    "        end\n",
    "    end\n",
    "    contourf(phi, theta, Z, title=\"Solution at t=$t\", xlabel=\"Phi\", ylabel=\"Theta\", color=:viridis)\n",
    "end\n",
    "\n",
    "\n",
    "# Main execution\n",
    "l_max_values = [4, 8, 12]  # Different l_max values for comparison\n",
    "for l_max_val in l_max_values\n",
    "    sol = solve_ode(l_max_val, sigma, t_max)\n",
    "    # Visualize at different time steps\n",
    "    for t in range(0, stop=t_max, length=5)\n",
    "        visualize_solution(sol, t, l_max_val)\n",
    "    end\n",
    "end\n"
   ]
  }
 ],
 "metadata": {
  "kernelspec": {
   "display_name": "Julia 1.8.3",
   "language": "julia",
   "name": "julia-1.8"
  },
  "language_info": {
   "file_extension": ".jl",
   "mimetype": "application/julia",
   "name": "julia",
   "version": "1.8.3"
  }
 },
 "nbformat": 4,
 "nbformat_minor": 2
}
