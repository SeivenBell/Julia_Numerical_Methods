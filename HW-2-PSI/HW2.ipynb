{
 "cells": [
  {
   "cell_type": "code",
   "execution_count": 1,
   "metadata": {},
   "outputs": [
    {
     "name": "stderr",
     "output_type": "stream",
     "text": [
      "\u001b[32m\u001b[1m    Updating\u001b[22m\u001b[39m registry at `C:\\Users\\Seiven\\.julia\\registries\\General.toml`\n"
     ]
    },
    {
     "name": "stderr",
     "output_type": "stream",
     "text": [
      "\u001b[32m\u001b[1m   Resolving\u001b[22m\u001b[39m package versions..."
     ]
    },
    {
     "name": "stderr",
     "output_type": "stream",
     "text": [
      "\n",
      "\u001b[32m\u001b[1m  No Changes\u001b[22m\u001b[39m to `C:\\Users\\Seiven\\.julia\\environments\\v1.8\\Project.toml`\n",
      "\u001b[32m\u001b[1m  No Changes\u001b[22m\u001b[39m to `C:\\Users\\Seiven\\.julia\\environments\\v1.8\\Manifest.toml`"
     ]
    },
    {
     "name": "stderr",
     "output_type": "stream",
     "text": [
      "\n"
     ]
    },
    {
     "name": "stderr",
     "output_type": "stream",
     "text": [
      "\u001b[32m\u001b[1m   Resolving\u001b[22m\u001b[39m package versions..."
     ]
    },
    {
     "name": "stderr",
     "output_type": "stream",
     "text": [
      "\n",
      "\u001b[32m\u001b[1m  No Changes\u001b[22m\u001b[39m to `C:\\Users\\Seiven\\.julia\\environments\\v1.8\\Project.toml`\n",
      "\u001b[32m\u001b[1m  No Changes\u001b[22m\u001b[39m to `C:\\Users\\Seiven\\.julia\\environments\\v1.8\\Manifest.toml`\n"
     ]
    },
    {
     "name": "stderr",
     "output_type": "stream",
     "text": [
      "\u001b[32m\u001b[1m   Resolving\u001b[22m\u001b[39m package versions..."
     ]
    },
    {
     "name": "stderr",
     "output_type": "stream",
     "text": [
      "\n",
      "\u001b[32m\u001b[1m  No Changes\u001b[22m\u001b[39m to `C:\\Users\\Seiven\\.julia\\environments\\v1.8\\Project.toml`\n",
      "\u001b[32m\u001b[1m  No Changes\u001b[22m\u001b[39m to `C:\\Users\\Seiven\\.julia\\environments\\v1.8\\Manifest.toml`"
     ]
    },
    {
     "name": "stderr",
     "output_type": "stream",
     "text": [
      "\n"
     ]
    }
   ],
   "source": [
    "using Pkg\n",
    "Pkg.add(\"Plots\")\n",
    "Pkg.add(\"DifferentialEquations\")\n",
    "Pkg.add(\"SpecialFunctions\")"
   ]
  },
  {
   "cell_type": "code",
   "execution_count": 6,
   "metadata": {},
   "outputs": [
    {
     "name": "stderr",
     "output_type": "stream",
     "text": [
      "\u001b[32m\u001b[1m   Resolving\u001b[22m\u001b[39m package versions..."
     ]
    },
    {
     "name": "stderr",
     "output_type": "stream",
     "text": [
      "\n"
     ]
    },
    {
     "name": "stderr",
     "output_type": "stream",
     "text": [
      "\u001b[32m\u001b[1m   Installed\u001b[22m\u001b[39m ComputedFieldTypes ───── v1.0.2\n"
     ]
    },
    {
     "name": "stderr",
     "output_type": "stream",
     "text": [
      "\u001b[32m\u001b[1m   Installed\u001b[22m\u001b[39m FastTransforms_jll ───── v0.6.2+0\n",
      "\u001b[32m\u001b[1m   Installed\u001b[22m\u001b[39m GenericFFT ───────────── v0.1.6\n",
      "\u001b[32m\u001b[1m   Installed\u001b[22m\u001b[39m ToeplitzMatrices ─────── v0.8.3\n"
     ]
    },
    {
     "name": "stderr",
     "output_type": "stream",
     "text": [
      "\u001b[32m\u001b[1m   Installed\u001b[22m\u001b[39m FastSphericalHarmonics ─ v1.3.1\n"
     ]
    },
    {
     "name": "stderr",
     "output_type": "stream",
     "text": [
      "\u001b[32m\u001b[1m   Installed\u001b[22m\u001b[39m FastTransforms ───────── v0.15.16\n",
      "\u001b[32m\u001b[1m   Installed\u001b[22m\u001b[39m DSP ──────────────────── v0.7.9\n",
      "\u001b[32m\u001b[1m   Installed\u001b[22m\u001b[39m FastGaussQuadrature ──── v1.0.2\n"
     ]
    },
    {
     "name": "stderr",
     "output_type": "stream",
     "text": [
      "\u001b[32m\u001b[1m    Updating\u001b[22m\u001b[39m `C:\\Users\\Seiven\\.julia\\environments\\v1.8\\Project.toml`\n",
      " \u001b[90m [d335c211] \u001b[39m\u001b[92m+ FastSphericalHarmonics v1.3.1\u001b[39m\n",
      "\u001b[32m\u001b[1m    Updating\u001b[22m\u001b[39m `C:\\Users\\Seiven\\.julia\\environments\\v1.8\\Manifest.toml`\n"
     ]
    },
    {
     "name": "stderr",
     "output_type": "stream",
     "text": [
      " \u001b[90m [459fdd68] \u001b[39m\u001b[92m+ ComputedFieldTypes v1.0.2\u001b[39m\n",
      " \u001b[90m [717857b8] \u001b[39m\u001b[92m+ DSP v0.7.9\u001b[39m\n",
      " \u001b[90m [442a2c76] \u001b[39m\u001b[92m+ FastGaussQuadrature v1.0.2\u001b[39m\n",
      " \u001b[90m [d335c211] \u001b[39m\u001b[92m+ FastSphericalHarmonics v1.3.1\u001b[39m\n",
      " \u001b[90m [057dd010] \u001b[39m\u001b[92m+ FastTransforms v0.15.16\u001b[39m\n",
      " \u001b[90m [a8297547] \u001b[39m\u001b[92m+ GenericFFT v0.1.6\u001b[39m\n",
      " \u001b[90m [c751599d] \u001b[39m\u001b[92m+ ToeplitzMatrices v0.8.3\u001b[39m\n",
      " \u001b[90m [34b6f7d7] \u001b[39m\u001b[92m+ FastTransforms_jll v0.6.2+0\u001b[39m\n",
      " \u001b[90m [781609d7] \u001b[39m\u001b[92m+ GMP_jll v6.2.1+2\u001b[39m\n",
      " \u001b[90m [3a97d323] \u001b[39m\u001b[92m+ MPFR_jll v4.1.1+1\u001b[39m\n",
      "\u001b[32m\u001b[1m    Building\u001b[22m\u001b[39m FastTransforms → `C:\\Users\\Seiven\\.julia\\scratchspaces\\44cfe95a-1eb2-52ea-b672-e2afdf69b78f\\8416e56a10d453adf33b3a60ae4d68e721c115d9\\build.log`"
     ]
    },
    {
     "name": "stderr",
     "output_type": "stream",
     "text": [
      "\n"
     ]
    },
    {
     "name": "stderr",
     "output_type": "stream",
     "text": [
      "\u001b[32m\u001b[1mPrecompiling\u001b[22m\u001b[39m project..."
     ]
    },
    {
     "name": "stderr",
     "output_type": "stream",
     "text": [
      "\n"
     ]
    },
    {
     "name": "stderr",
     "output_type": "stream",
     "text": [
      "\u001b[32m  ✓ \u001b[39m\u001b[90mComputedFieldTypes\u001b[39m"
     ]
    },
    {
     "name": "stderr",
     "output_type": "stream",
     "text": [
      "\n"
     ]
    },
    {
     "name": "stderr",
     "output_type": "stream",
     "text": [
      "\u001b[32m  ✓ \u001b[39m\u001b[90mGMP_jll\u001b[39m\n"
     ]
    },
    {
     "name": "stderr",
     "output_type": "stream",
     "text": [
      "\u001b[32m  ✓ \u001b[39m\u001b[90mGenericFFT\u001b[39m\n"
     ]
    },
    {
     "name": "stderr",
     "output_type": "stream",
     "text": [
      "\u001b[32m  ✓ \u001b[39m\u001b[90mMPFR_jll\u001b[39m\n"
     ]
    },
    {
     "name": "stderr",
     "output_type": "stream",
     "text": [
      "\u001b[32m  ✓ \u001b[39m\u001b[90mFastTransforms_jll\u001b[39m\n"
     ]
    },
    {
     "name": "stderr",
     "output_type": "stream",
     "text": [
      "\u001b[32m  ✓ \u001b[39m\u001b[90mFastGaussQuadrature\u001b[39m\n"
     ]
    },
    {
     "name": "stderr",
     "output_type": "stream",
     "text": [
      "\u001b[32m  ✓ \u001b[39m\u001b[90mDSP\u001b[39m\n"
     ]
    },
    {
     "name": "stderr",
     "output_type": "stream",
     "text": [
      "\u001b[32m  ✓ \u001b[39m\u001b[90mToeplitzMatrices\u001b[39m\n"
     ]
    },
    {
     "name": "stderr",
     "output_type": "stream",
     "text": [
      "\u001b[32m  ✓ \u001b[39m\u001b[90mFastTransforms\u001b[39m\n"
     ]
    },
    {
     "name": "stderr",
     "output_type": "stream",
     "text": [
      "\u001b[32m  ✓ \u001b[39mFastSphericalHarmonics\n",
      "  10 dependencies successfully precompiled in 19 seconds. 396 already precompiled.\n"
     ]
    }
   ],
   "source": [
    "import Pkg;\n",
    "Pkg.add(\"FastSphericalHarmonics\");"
   ]
  },
  {
   "cell_type": "code",
   "execution_count": 7,
   "metadata": {},
   "outputs": [
    {
     "ename": "UndefVarError",
     "evalue": "UndefVarError: sph_harm not defined",
     "output_type": "error",
     "traceback": [
      "UndefVarError: sph_harm not defined\n",
      "\n",
      "Stacktrace:\n",
      " [1] project_initial_condition(l::Int64, m::Int64, sigma::Float64, theta::StepRangeLen{Float64, Base.TwicePrecision{Float64}, Base.TwicePrecision{Float64}, Int64}, phi::StepRangeLen{Float64, Base.TwicePrecision{Float64}, Base.TwicePrecision{Float64}, Int64})\n",
      "   @ Main c:\\Users\\Seiven\\Documents\\GitHub\\Julia_Projects\\HW-2-PSI\\HW2.ipynb:37\n",
      " [2] solve_ode(l_max::Int64, sigma::Float64, t_max::Int64, theta::StepRangeLen{Float64, Base.TwicePrecision{Float64}, Base.TwicePrecision{Float64}, Int64}, phi::StepRangeLen{Float64, Base.TwicePrecision{Float64}, Base.TwicePrecision{Float64}, Int64})\n",
      "   @ Main c:\\Users\\Seiven\\Documents\\GitHub\\Julia_Projects\\HW-2-PSI\\HW2.ipynb:66\n",
      " [3] top-level scope\n",
      "   @ c:\\Users\\Seiven\\Documents\\GitHub\\Julia_Projects\\HW-2-PSI\\HW2.ipynb:99"
     ]
    }
   ],
   "source": [
    "using LinearAlgebra\n",
    "using Plots\n",
    "using DifferentialEquations\n",
    "using FastSphericalHarmonics\n",
    "\n",
    "# Parameters\n",
    "l_max = 4  # Maximum degree of spherical harmonics\n",
    "sigma = 0.2  # Width of the initial condition\n",
    "t_max = 10  # Maximum time\n",
    "n_points = 100  # Number of points for theta and phi\n",
    "\n",
    "# Define theta and phi arrays\n",
    "theta = range(0, stop=π, length=n_points)\n",
    "phi = range(0, stop=2π, length=n_points)\n",
    "\n",
    "# Custom meshgrid function for Julia\n",
    "function meshgrid(x, y)\n",
    "    X = repeat(reshape(x, 1, :), length(y), 1)\n",
    "    Y = repeat(reshape(y, :, 1), 1, length(x))\n",
    "    return X, Y\n",
    "end\n",
    "\n",
    "Theta, Phi = meshgrid(theta, phi)\n",
    "\n",
    "# Initial condition function\n",
    "function initial_condition(theta, sigma)\n",
    "    return exp.(-theta .^ 2 / (2 * sigma^2))\n",
    "end\n",
    "\n",
    "# Project initial condition onto spherical harmonics basis\n",
    "function project_initial_condition(l, m, sigma, theta, phi)\n",
    "    integral = 0.0\n",
    "    for theta_val in theta\n",
    "        for phi_val in phi\n",
    "            # Adjust this call to match the actual spherical harmonics function\n",
    "            Y_lm = conj(FastSphericalHarmonics.sph_harm(m, l, phi_val, theta_val))\n",
    "            integral += initial_condition(theta_val, sigma) * Y_lm * sin(theta_val)\n",
    "        end\n",
    "    end\n",
    "    return integral * (theta[2] - theta[1]) * (phi[2] - phi[1])\n",
    "end\n",
    "\n",
    "\n",
    "# ODE system for c_lm(t) and psi_lm(t)\n",
    "function ode_system(du, u, p, t)\n",
    "    l_max = p\n",
    "    for l in 0:l_max\n",
    "        for m in -l:l\n",
    "            idx = l^2 + l + m + 1  # Adjust index for 1-based indexing\n",
    "            du[idx] = u[idx+l_max^2+l_max]  # d/dt c_lm(t) = psi_lm(t)\n",
    "            du[idx+l_max^2+l_max] = -l * (l + 1) * u[idx]  # d/dt psi_lm(t) = -l(l+1)c_lm(t)\n",
    "        end\n",
    "    end\n",
    "end\n",
    "\n",
    "# Solve the ODE system\n",
    "function solve_ode(l_max, sigma, t_max, theta, phi)\n",
    "    # Number of coefficients\n",
    "    n_coeffs = (l_max + 1)^2\n",
    "    # Initial conditions for c_lm(0) and psi_lm(0)\n",
    "    y0 = zeros(Float64, 2 * n_coeffs)\n",
    "    for l in 0:l_max\n",
    "        for m in -l:l\n",
    "            idx = l^2 + l + m + 1  # Adjust index for 1-based indexing\n",
    "            y0[idx] = project_initial_condition(l, m, sigma, theta, phi)\n",
    "        end\n",
    "    end\n",
    "    # Time span\n",
    "    tspan = (0.0, t_max)\n",
    "    # Solve ODE\n",
    "    prob = ODEProblem(ode_system, y0, tspan, l_max)\n",
    "    sol = solve(prob, Tsit5(), reltol=1e-8)\n",
    "    return sol\n",
    "end\n",
    "\n",
    "# Visualization of the solution at a given time t\n",
    "function visualize_solution(sol, t, l_max, theta, phi)\n",
    "    Theta_plot, Phi_plot = meshgrid(theta, phi)\n",
    "    Z = zeros(Float64, length(theta), length(phi))\n",
    "    for l in 0:l_max\n",
    "        for m in -l:l\n",
    "            idx = l^2 + l + m + 1  # Adjust index for 1-based indexing\n",
    "            c_lm = sol(t)[idx]\n",
    "            for (i, theta_val) in enumerate(theta)\n",
    "                for (j, phi_val) in enumerate(phi)\n",
    "                    Z[i, j] += c_lm * real(sph_harm(m, l, phi_val, theta_val))\n",
    "                end\n",
    "            end\n",
    "        end\n",
    "    end\n",
    "    p = contourf(Phi_plot', Theta_plot', Z, title=\"Solution at t=$t\", xlabel=\"Phi\", ylabel=\"Theta\", color=:viridis)\n",
    "    display(p)\n",
    "end\n",
    "\n",
    "# Main execution\n",
    "l_max_values = [4, 8, 12]  # Different l_max values for comparison\n",
    "for l_max_val in l_max_values\n",
    "    sol = solve_ode(l_max_val, sigma, t_max, theta, phi)\n",
    "    # Visualize at different time steps\n",
    "    for t in range(0, stop=t_max, length=5)\n",
    "        visualize_solution(sol, t, l_max_val, theta, phi)\n",
    "    end\n",
    "end\n"
   ]
  }
 ],
 "metadata": {
  "kernelspec": {
   "display_name": "Julia 1.8.3",
   "language": "julia",
   "name": "julia-1.8"
  },
  "language_info": {
   "file_extension": ".jl",
   "mimetype": "application/julia",
   "name": "julia",
   "version": "1.8.3"
  }
 },
 "nbformat": 4,
 "nbformat_minor": 2
}
