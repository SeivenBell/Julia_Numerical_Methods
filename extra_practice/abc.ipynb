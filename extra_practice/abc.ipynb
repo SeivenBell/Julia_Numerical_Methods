{
 "cells": [
  {
   "cell_type": "code",
   "execution_count": 1,
   "metadata": {},
   "outputs": [
    {
     "data": {
      "text/html": [
       "<div class=\"bonito-fragment\" id=\"57d78ef9-eb93-44b3-9cde-36332fc20d47\" data-jscall-id=\"root\">\n",
       "  <div>\n",
       "    <script src=\"http://localhost:9384/assets/c133f14d527cbd9dfa148058bbc9d9e826537e80-Bonito.bundled.js\" type=\"module\"></script>\n",
       "    <style></style>\n",
       "    <div></div>\n",
       "  </div>\n",
       "  <div>\n",
       "    <script type=\"module\">    Bonito.lock_loading(() => {\n",
       "        return Bonito.fetch_binary('http://localhost:9384/assets/1c4c2cb769d028a6e809eb424495a6acd05ccb33-7304836757954300028.bin').then(msgs=> Bonito.init_session('57d78ef9-eb93-44b3-9cde-36332fc20d47', msgs, 'root'));\n",
       "    })\n",
       "</script>\n",
       "    <script type=\"module\">    import('http://localhost:9384/assets/9b61b2c2f11de3302ffdb636c3527e6083f58814-Websocket.bundled.js').then(WS => {\n",
       "        WS.setup_connection({proxy_url: 'http://localhost:9384', session_id: '57d78ef9-eb93-44b3-9cde-36332fc20d47', compression_enabled: false})\n",
       "    })\n",
       "</script>\n",
       "    <div style=\"width: 100%; height: 100%\" data-jscall-id=\"1\">\n",
       "      <canvas style=\"display: block\" data-jscall-id=\"2\" tabindex=\"0\"></canvas>\n",
       "    </div>\n",
       "  </div>\n",
       "</div>"
      ]
     },
     "metadata": {},
     "output_type": "display_data"
    }
   ],
   "source": [
    "using WGLMakie\n",
    "\n",
    "fig = Figure()\n",
    "ax = Axis(fig[1, 1],\n",
    "    title=\"Tut_1 plotting\",\n",
    "    ylabel=\"Voltage\",\n",
    "    xlabel=\"Time\"\n",
    ")\n",
    "\n",
    "x = range(-4 * pi, 4 * pi, length=100)\n",
    "y = sin.(x) ./ x\n",
    "lines!(ax, x, y)\n",
    "fig"
   ]
  }
 ],
 "metadata": {
  "kernelspec": {
   "display_name": "Julia 1.8.3",
   "language": "julia",
   "name": "julia-1.8"
  },
  "language_info": {
   "file_extension": ".jl",
   "mimetype": "application/julia",
   "name": "julia",
   "version": "1.8.3"
  }
 },
 "nbformat": 4,
 "nbformat_minor": 2
}
