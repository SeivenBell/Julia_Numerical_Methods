{
 "cells": [
  {
   "cell_type": "markdown",
   "id": "41fb7e22-274a-4920-a2c5-6250d4d11e6b",
   "metadata": {},
   "source": [
    "# PSI Numerical Methods, Tutorial for Jan 19, 2024"
   ]
  },
  {
   "cell_type": "markdown",
   "id": "b4d430a9-c51d-48b0-9669-b730840a9640",
   "metadata": {},
   "source": [
    "This will build on the notes from class.\n",
    "\n",
    "You can start by going to the Github repository where the notes are,\n",
    "https://github.com/dstndstn/FittingAModel2024\n",
    "\n",
    "and find the `FORK` button.\n",
    "\n",
    "This will create a _copy_ of my repository in your Github account.  You can then work on your own copy of it.\n",
    "\n",
    "After you have `Forked` your copy of the repository, you can `git clone` it to your laptop or to Symmetry's Jupyterhub.\n"
   ]
  },
  {
   "cell_type": "markdown",
   "id": "c5400073-a021-479f-a3dd-f39f60af38e1",
   "metadata": {},
   "source": [
    "### Examining the jack-knife estimated covariance matrix\n",
    "\n",
    "At the end of the `Notes-from-class.ipynb` notebook, we computed the jack-knife variance and covariance estimates for the `b` and `m` parameters.  These were called `var_b`, `var_m`, and `cov_bm` in the notebook.\n",
    "\n",
    "Start by creating the covariance matrix,\n",
    "```cov = [var_b cov_bm ; cov_bm var_m]```\n",
    "\n",
    "I would like you to make a plot of the `b`,`m` plane, showing an ellipse centered on the the maximum-likelihood (optimized) `b_opt` and `m_opt` values, and where the covariance of the ellipse is the `cov` above.  This should have the same orientation as the contour map we plotted in class.\n",
    "\n",
    "Next, I would like you to draw random samples in `b,m`, from a Gaussian distribution with that `cov` covariance matrix (and mean `b_opt, m_opt`).  If you draw 100 samples and plot them, you should see that they scatter in a way that traces out the ellipses you have plotted.\n",
    "\n",
    "Finally, please take 10 or 20 of those random samples in `b,m` and plot the resulting lines over the data in `x,y` space.  If you look at that set of lines, do they all seem like fairly reasonable fits to the data?  We have seen that `b` and `m` are anti-correlated -- can you describe what that implies about these okay-fit lines?"
   ]
  }
 ],
 "metadata": {
  "kernelspec": {
   "display_name": "Julia 1.9.3",
   "language": "julia",
   "name": "julia-1.9"
  },
  "language_info": {
   "file_extension": ".jl",
   "mimetype": "application/julia",
   "name": "julia",
   "version": "1.9.3"
  }
 },
 "nbformat": 4,
 "nbformat_minor": 5
}
