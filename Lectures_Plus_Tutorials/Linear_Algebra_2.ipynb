{
 "cells": [
  {
   "cell_type": "markdown",
   "id": "3d47bcb4-2f19-4347-91a4-989722130e31",
   "metadata": {
    "tags": []
   },
   "source": [
    "# Linear Algebra 2"
   ]
  },
  {
   "cell_type": "markdown",
   "id": "aaeff0ac-b842-4a41-bc7b-0209698bd66b",
   "metadata": {},
   "source": [
    "## Benchmarking"
   ]
  },
  {
   "cell_type": "code",
   "execution_count": 1,
   "id": "964ef0eb-5291-469c-b8ac-5ba38955fe11",
   "metadata": {},
   "outputs": [
    {
     "data": {
      "text/plain": [
       "0.0:0.01:3.14"
      ]
     },
     "execution_count": 1,
     "metadata": {},
     "output_type": "execute_result"
    }
   ],
   "source": [
    "xs = 0:0.01:pi"
   ]
  },
  {
   "cell_type": "code",
   "execution_count": 7,
   "id": "9bb5e73e-f4c4-4b10-a4c7-2ef01326be7d",
   "metadata": {},
   "outputs": [
    {
     "name": "stdout",
     "output_type": "stream",
     "text": [
      "  0.000016 seconds (2 allocations: 2.688 KiB)\n"
     ]
    },
    {
     "data": {
      "text/plain": [
       "315-element Vector{Float64}:\n",
       " 0.0\n",
       " 0.009999833334166664\n",
       " 0.01999866669333308\n",
       " 0.02999550020249566\n",
       " 0.03998933418663416\n",
       " 0.04997916927067833\n",
       " 0.059964006479444595\n",
       " 0.06994284733753277\n",
       " 0.0799146939691727\n",
       " 0.08987854919801104\n",
       " 0.09983341664682815\n",
       " 0.10977830083717481\n",
       " 0.11971220728891936\n",
       " ⋮\n",
       " 0.11136118868664958\n",
       " 0.10141798631660187\n",
       " 0.09146464223243675\n",
       " 0.08150215176026912\n",
       " 0.07153151114084326\n",
       " 0.06155371742991315\n",
       " 0.05156976839853464\n",
       " 0.04158066243329049\n",
       " 0.031587398436453896\n",
       " 0.02159097572609596\n",
       " 0.011592393936158275\n",
       " 0.0015926529164868282"
      ]
     },
     "execution_count": 7,
     "metadata": {},
     "output_type": "execute_result"
    }
   ],
   "source": [
    "@time ys = sin.(xs)"
   ]
  },
  {
   "cell_type": "code",
   "execution_count": 4,
   "id": "1d22e00b-ffc7-499e-8aa7-aac4f6214c41",
   "metadata": {},
   "outputs": [],
   "source": [
    "using BenchmarkTools"
   ]
  },
  {
   "cell_type": "code",
   "execution_count": 8,
   "id": "07bdfc9d-7d2b-45e5-a211-28bb72b82b06",
   "metadata": {},
   "outputs": [
    {
     "data": {
      "text/plain": [
       "BenchmarkTools.Trial: 10000 samples with 8 evaluations.\n",
       " Range \u001b[90m(\u001b[39m\u001b[36m\u001b[1mmin\u001b[22m\u001b[39m … \u001b[35mmax\u001b[39m\u001b[90m):  \u001b[39m\u001b[36m\u001b[1m3.537 μs\u001b[22m\u001b[39m … \u001b[35m277.045 μs\u001b[39m  \u001b[90m┊\u001b[39m GC \u001b[90m(\u001b[39mmin … max\u001b[90m): \u001b[39m0.00% … 95.36%\n",
       " Time  \u001b[90m(\u001b[39m\u001b[34m\u001b[1mmedian\u001b[22m\u001b[39m\u001b[90m):     \u001b[39m\u001b[34m\u001b[1m3.713 μs               \u001b[22m\u001b[39m\u001b[90m┊\u001b[39m GC \u001b[90m(\u001b[39mmedian\u001b[90m):    \u001b[39m0.00%\n",
       " Time  \u001b[90m(\u001b[39m\u001b[32m\u001b[1mmean\u001b[22m\u001b[39m ± \u001b[32mσ\u001b[39m\u001b[90m):   \u001b[39m\u001b[32m\u001b[1m4.035 μs\u001b[22m\u001b[39m ± \u001b[32m  3.740 μs\u001b[39m  \u001b[90m┊\u001b[39m GC \u001b[90m(\u001b[39mmean ± σ\u001b[90m):  \u001b[39m1.26% ±  1.35%\n",
       "\n",
       "  \u001b[39m \u001b[39m \u001b[39m▂\u001b[39m▃\u001b[39m█\u001b[34m▇\u001b[39m\u001b[39m \u001b[39m \u001b[39m \u001b[39m \u001b[39m \u001b[39m \u001b[39m \u001b[39m \u001b[39m \u001b[32m \u001b[39m\u001b[39m \u001b[39m \u001b[39m \u001b[39m \u001b[39m \u001b[39m \u001b[39m \u001b[39m \u001b[39m \u001b[39m \u001b[39m \u001b[39m \u001b[39m \u001b[39m \u001b[39m \u001b[39m \u001b[39m \u001b[39m \u001b[39m \u001b[39m \u001b[39m \u001b[39m \u001b[39m \u001b[39m \u001b[39m \u001b[39m \u001b[39m \u001b[39m \u001b[39m \u001b[39m \u001b[39m \u001b[39m \u001b[39m \u001b[39m \u001b[39m \u001b[39m \u001b[39m \u001b[39m \u001b[39m \u001b[39m \u001b[39m \u001b[39m \u001b[39m \u001b[39m \u001b[39m \n",
       "  \u001b[39m▄\u001b[39m▅\u001b[39m█\u001b[39m█\u001b[39m█\u001b[34m█\u001b[39m\u001b[39m█\u001b[39m▄\u001b[39m▃\u001b[39m▃\u001b[39m▂\u001b[39m▂\u001b[39m▁\u001b[39m▁\u001b[39m▁\u001b[32m▁\u001b[39m\u001b[39m▁\u001b[39m▁\u001b[39m▁\u001b[39m▁\u001b[39m▁\u001b[39m▁\u001b[39m▁\u001b[39m▁\u001b[39m▁\u001b[39m▁\u001b[39m▁\u001b[39m▁\u001b[39m▁\u001b[39m▁\u001b[39m▁\u001b[39m▁\u001b[39m▁\u001b[39m▁\u001b[39m▁\u001b[39m▁\u001b[39m▁\u001b[39m▁\u001b[39m▂\u001b[39m▂\u001b[39m▂\u001b[39m▁\u001b[39m▃\u001b[39m▂\u001b[39m▂\u001b[39m▂\u001b[39m▃\u001b[39m▂\u001b[39m▂\u001b[39m▂\u001b[39m▃\u001b[39m▂\u001b[39m▁\u001b[39m▁\u001b[39m▁\u001b[39m▁\u001b[39m▁\u001b[39m▁\u001b[39m▁\u001b[39m \u001b[39m▂\n",
       "  3.54 μs\u001b[90m         Histogram: frequency by time\u001b[39m         5.5 μs \u001b[0m\u001b[1m<\u001b[22m\n",
       "\n",
       " Memory estimate\u001b[90m: \u001b[39m\u001b[33m2.69 KiB\u001b[39m, allocs estimate\u001b[90m: \u001b[39m\u001b[33m2\u001b[39m."
      ]
     },
     "execution_count": 8,
     "metadata": {},
     "output_type": "execute_result"
    }
   ],
   "source": [
    "@benchmark ys = sin.(xs)"
   ]
  },
  {
   "cell_type": "markdown",
   "id": "7151f12e-bdf4-4c04-b346-7f39becc6098",
   "metadata": {},
   "source": [
    "## Sparse Matrices"
   ]
  },
  {
   "cell_type": "code",
   "execution_count": 10,
   "id": "a88921ee-69ec-4bdd-a3b2-9af09d49eadf",
   "metadata": {},
   "outputs": [],
   "source": [
    "using LinearAlgebra\n",
    "using SparseArrays"
   ]
  },
  {
   "cell_type": "code",
   "execution_count": 13,
   "id": "bde8d382-cdff-4278-81f1-ed024d7dc6a6",
   "metadata": {},
   "outputs": [
    {
     "data": {
      "text/plain": [
       "10×10 SparseMatrixCSC{Float64, Int64} with 18 stored entries:\n",
       "  ⋅          ⋅         ⋅   0.00586887  …  0.937074   ⋅    ⋅        0.820368\n",
       " 0.0285838   ⋅         ⋅    ⋅              ⋅         ⋅   0.382854  0.504618\n",
       " 0.0176372  0.520039   ⋅    ⋅              ⋅         ⋅    ⋅         ⋅ \n",
       "  ⋅          ⋅         ⋅    ⋅              ⋅         ⋅   0.251513   ⋅ \n",
       " 0.488654    ⋅         ⋅   0.556611        ⋅         ⋅    ⋅         ⋅ \n",
       "  ⋅          ⋅         ⋅    ⋅          …   ⋅         ⋅    ⋅         ⋅ \n",
       "  ⋅          ⋅         ⋅    ⋅              ⋅         ⋅    ⋅         ⋅ \n",
       "  ⋅          ⋅         ⋅    ⋅              ⋅         ⋅    ⋅        0.962364\n",
       "  ⋅          ⋅         ⋅    ⋅              ⋅         ⋅    ⋅         ⋅ \n",
       " 0.680894    ⋅         ⋅    ⋅              ⋅         ⋅    ⋅         ⋅ "
      ]
     },
     "execution_count": 13,
     "metadata": {},
     "output_type": "execute_result"
    }
   ],
   "source": [
    "A = sprand(10, 10, 0.2)"
   ]
  },
  {
   "cell_type": "code",
   "execution_count": 16,
   "id": "3b553c95-7801-442c-956f-4afe0f996181",
   "metadata": {},
   "outputs": [
    {
     "data": {
      "text/plain": [
       "10×10 Matrix{Float64}:\n",
       "  0.0577932     0.221219      0.164213     …  -0.231032     0.0   0.862024\n",
       " -0.0216246     1.07853       1.86149         -0.522485     0.0   0.128425\n",
       "  1.62602e-16  -4.06114e-16  -1.34701e-16     -1.10676e-16  0.0   2.56886e-17\n",
       " -0.0507372    -0.19421      -0.144164         0.202825     0.0  -0.75678\n",
       " -0.0829747    -0.317608     -0.235763         0.331697     0.0   0.870955\n",
       "  0.016606     -0.917114      0.0471841    …   0.447837     0.0  -0.133139\n",
       "  1.05344      -0.789497     -0.038966        -0.468424     0.0   0.182963\n",
       "  0.0           0.0           0.0              0.0          0.0   0.0\n",
       " -0.0254399     1.40499      -0.0722846       -0.686072     0.0   0.203964\n",
       "  0.0160276     0.9032        0.0455406        0.53361      0.0  -0.203577"
      ]
     },
     "execution_count": 16,
     "metadata": {},
     "output_type": "execute_result"
    }
   ],
   "source": [
    "pinv(Matrix(A))"
   ]
  },
  {
   "cell_type": "code",
   "execution_count": 17,
   "id": "3b8ce651-4233-40ad-bb59-c6ff69972f57",
   "metadata": {},
   "outputs": [
    {
     "data": {
      "text/plain": [
       "10×10 SparseMatrixCSC{Float64, Int64} with 0 stored entries:\n",
       "  ⋅    ⋅    ⋅    ⋅    ⋅    ⋅    ⋅    ⋅    ⋅    ⋅ \n",
       "  ⋅    ⋅    ⋅    ⋅    ⋅    ⋅    ⋅    ⋅    ⋅    ⋅ \n",
       "  ⋅    ⋅    ⋅    ⋅    ⋅    ⋅    ⋅    ⋅    ⋅    ⋅ \n",
       "  ⋅    ⋅    ⋅    ⋅    ⋅    ⋅    ⋅    ⋅    ⋅    ⋅ \n",
       "  ⋅    ⋅    ⋅    ⋅    ⋅    ⋅    ⋅    ⋅    ⋅    ⋅ \n",
       "  ⋅    ⋅    ⋅    ⋅    ⋅    ⋅    ⋅    ⋅    ⋅    ⋅ \n",
       "  ⋅    ⋅    ⋅    ⋅    ⋅    ⋅    ⋅    ⋅    ⋅    ⋅ \n",
       "  ⋅    ⋅    ⋅    ⋅    ⋅    ⋅    ⋅    ⋅    ⋅    ⋅ \n",
       "  ⋅    ⋅    ⋅    ⋅    ⋅    ⋅    ⋅    ⋅    ⋅    ⋅ \n",
       "  ⋅    ⋅    ⋅    ⋅    ⋅    ⋅    ⋅    ⋅    ⋅    ⋅ "
      ]
     },
     "execution_count": 17,
     "metadata": {},
     "output_type": "execute_result"
    }
   ],
   "source": [
    "spzeros(10, 10)"
   ]
  },
  {
   "cell_type": "code",
   "execution_count": 19,
   "id": "97dcc8be-ca7b-459a-850a-2fa97f617492",
   "metadata": {},
   "outputs": [
    {
     "data": {
      "text/plain": [
       "10×10 SparseMatrixCSC{Int64, Int64} with 10 stored entries:\n",
       " 1  ⋅  ⋅  ⋅  ⋅  ⋅  ⋅  ⋅  ⋅   ⋅\n",
       " ⋅  2  ⋅  ⋅  ⋅  ⋅  ⋅  ⋅  ⋅   ⋅\n",
       " ⋅  ⋅  3  ⋅  ⋅  ⋅  ⋅  ⋅  ⋅   ⋅\n",
       " ⋅  ⋅  ⋅  4  ⋅  ⋅  ⋅  ⋅  ⋅   ⋅\n",
       " ⋅  ⋅  ⋅  ⋅  5  ⋅  ⋅  ⋅  ⋅   ⋅\n",
       " ⋅  ⋅  ⋅  ⋅  ⋅  6  ⋅  ⋅  ⋅   ⋅\n",
       " ⋅  ⋅  ⋅  ⋅  ⋅  ⋅  7  ⋅  ⋅   ⋅\n",
       " ⋅  ⋅  ⋅  ⋅  ⋅  ⋅  ⋅  8  ⋅   ⋅\n",
       " ⋅  ⋅  ⋅  ⋅  ⋅  ⋅  ⋅  ⋅  9   ⋅\n",
       " ⋅  ⋅  ⋅  ⋅  ⋅  ⋅  ⋅  ⋅  ⋅  10"
      ]
     },
     "execution_count": 19,
     "metadata": {},
     "output_type": "execute_result"
    }
   ],
   "source": [
    "sparse(Diagonal(1:10))"
   ]
  },
  {
   "cell_type": "code",
   "execution_count": 24,
   "id": "0cc6b8fd-fcfc-4229-b10e-182f872f0e20",
   "metadata": {},
   "outputs": [
    {
     "data": {
      "text/plain": [
       "10×10 Bidiagonal{Int64, UnitRange{Int64}}:\n",
       " 1  1  ⋅  ⋅  ⋅  ⋅  ⋅  ⋅  ⋅   ⋅\n",
       " ⋅  2  2  ⋅  ⋅  ⋅  ⋅  ⋅  ⋅   ⋅\n",
       " ⋅  ⋅  3  3  ⋅  ⋅  ⋅  ⋅  ⋅   ⋅\n",
       " ⋅  ⋅  ⋅  4  4  ⋅  ⋅  ⋅  ⋅   ⋅\n",
       " ⋅  ⋅  ⋅  ⋅  5  5  ⋅  ⋅  ⋅   ⋅\n",
       " ⋅  ⋅  ⋅  ⋅  ⋅  6  6  ⋅  ⋅   ⋅\n",
       " ⋅  ⋅  ⋅  ⋅  ⋅  ⋅  7  7  ⋅   ⋅\n",
       " ⋅  ⋅  ⋅  ⋅  ⋅  ⋅  ⋅  8  8   ⋅\n",
       " ⋅  ⋅  ⋅  ⋅  ⋅  ⋅  ⋅  ⋅  9   9\n",
       " ⋅  ⋅  ⋅  ⋅  ⋅  ⋅  ⋅  ⋅  ⋅  10"
      ]
     },
     "execution_count": 24,
     "metadata": {},
     "output_type": "execute_result"
    }
   ],
   "source": [
    "Bidiagonal(1:10, 1:9, :U)"
   ]
  },
  {
   "cell_type": "code",
   "execution_count": 29,
   "id": "950ad25c-62e2-407f-b7ff-3f29fbb38f76",
   "metadata": {},
   "outputs": [
    {
     "data": {
      "text/plain": [
       "10×10 Tridiagonal{Int64, UnitRange{Int64}}:\n",
       " 1  3  ⋅  ⋅  ⋅  ⋅  ⋅  ⋅   ⋅   ⋅\n",
       " 2  2  4  ⋅  ⋅  ⋅  ⋅  ⋅   ⋅   ⋅\n",
       " ⋅  3  3  5  ⋅  ⋅  ⋅  ⋅   ⋅   ⋅\n",
       " ⋅  ⋅  4  4  6  ⋅  ⋅  ⋅   ⋅   ⋅\n",
       " ⋅  ⋅  ⋅  5  5  7  ⋅  ⋅   ⋅   ⋅\n",
       " ⋅  ⋅  ⋅  ⋅  6  6  8  ⋅   ⋅   ⋅\n",
       " ⋅  ⋅  ⋅  ⋅  ⋅  7  7  9   ⋅   ⋅\n",
       " ⋅  ⋅  ⋅  ⋅  ⋅  ⋅  8  8  10   ⋅\n",
       " ⋅  ⋅  ⋅  ⋅  ⋅  ⋅  ⋅  9   9  11\n",
       " ⋅  ⋅  ⋅  ⋅  ⋅  ⋅  ⋅  ⋅  10  10"
      ]
     },
     "execution_count": 29,
     "metadata": {},
     "output_type": "execute_result"
    }
   ],
   "source": [
    "Tridiagonal(2:10, 1:10, 3:11)"
   ]
  },
  {
   "cell_type": "code",
   "execution_count": 32,
   "id": "e50e0abe-197f-41a0-a5b3-a1dfecd6fd30",
   "metadata": {},
   "outputs": [
    {
     "data": {
      "text/plain": [
       "100×100 SparseMatrixCSC{Float64, Int64} with 1019 stored entries:\n",
       "⎡⠄⠑⢀⠄⡠⠄⠀⠔⡀⠁⠁⠁⠀⡀⠄⠁⡈⡃⠈⠁⠀⠡⠨⠀⠀⠀⠀⠀⠑⠀⠀⠀⠀⠀⠐⠆⠀⠌⠀⠁⎤\n",
       "⎢⠀⢤⠀⣥⠐⠤⠀⡡⠀⠀⠀⠁⠀⠀⠄⠐⠐⡀⠀⠤⢀⡀⠀⢀⠌⠀⠐⠖⡠⠀⡄⠀⠀⠀⠀⠊⠚⠀⠢⠀⎥\n",
       "⎢⡡⠁⠠⠀⠑⡀⠠⡉⠀⢀⢄⠀⠀⠄⠀⠈⠁⠀⠀⠀⠀⠤⠀⠀⠔⠠⠠⠢⢐⠀⡰⠀⠨⡀⢈⠰⢀⠀⠐⠈⎥\n",
       "⎢⠂⠀⠠⡄⠰⢆⠈⣀⠠⡃⠀⠰⠘⠀⠰⠈⠀⡀⠀⡠⠡⠀⢸⠄⢠⠀⠨⠈⠜⠠⠰⠀⡀⠀⠠⠁⢈⠔⠨⠀⎥\n",
       "⎢⠄⡢⢀⡀⠈⡀⠁⠈⠀⠁⠄⠄⠨⡐⠀⠤⠀⡂⠉⠩⠌⡀⢀⠀⠁⠀⢐⠀⢀⢠⠄⡈⢸⠄⠀⠠⠄⢔⠢⠀⎥\n",
       "⎢⠀⠌⣠⠌⠄⠀⡠⠤⠆⢁⢁⠀⠁⠄⠀⠠⠂⠁⠀⠄⠀⡀⢄⠀⠀⠀⠄⠢⠀⢈⠐⠀⠠⠇⢱⠀⠰⡩⠄⠀⎥\n",
       "⎢⠀⠄⠀⡢⠰⠄⡀⠀⠬⡔⠀⠂⠠⠃⠐⢠⡁⡂⠈⢠⢐⠀⠈⠌⡐⡀⢉⠀⢠⢀⠀⠠⠔⡂⠈⠀⠄⠄⠁⠤⎥\n",
       "⎢⠄⠣⠄⠂⠠⠃⠀⠆⠀⠂⢀⠤⢠⠠⠀⠅⠄⠅⠤⢤⠀⠠⢄⠀⢣⠘⠄⢂⡤⠠⠄⢲⠀⠂⠀⠀⠔⠀⠀⠄⎥\n",
       "⎢⠂⢁⠀⠀⠆⢄⡀⠄⠁⠐⠢⠀⠃⠠⠫⠐⠠⠄⠠⠦⠱⠎⠢⠄⠚⢀⣄⠠⢄⡈⢐⠀⠀⠀⢨⠠⠂⠴⠠⠄⎥\n",
       "⎢⠀⠄⡈⡠⠄⠀⢣⢄⠀⢖⠄⠦⠀⡌⠀⠞⠌⠔⠲⠀⢀⢄⣀⢄⢀⢀⠀⡠⠠⠏⠠⠄⠁⠕⠈⠌⠀⠄⡠⠀⎥\n",
       "⎢⠀⣄⠸⠐⠱⠃⠰⠀⠀⢀⠀⠀⠊⠌⠂⠂⠀⠂⠀⠀⠀⠈⠀⠀⠠⢒⡄⠀⠀⠠⠰⠂⣢⡐⢁⠄⠐⠐⠀⠀⎥\n",
       "⎢⠀⠀⠁⡚⠐⠌⠠⠀⠀⠒⢈⠀⠂⠄⠄⢂⠈⡂⠐⠒⠐⠂⠐⢆⠀⢃⠲⠄⠘⢀⠈⠀⢬⠀⢈⠈⢠⠐⠨⢀⎥\n",
       "⎢⡀⠆⠀⠀⢐⠄⠡⠁⠐⡃⠠⢂⠘⠐⣎⣂⠀⠀⠄⠂⡁⠄⠩⠀⢀⢐⢈⢑⠀⠠⢐⠠⢀⢈⢐⡀⠐⠤⠀⠄⎥\n",
       "⎢⠀⢄⠀⠐⠀⠆⠐⠃⡐⠐⠁⡀⠀⠏⠐⣂⢂⠀⡈⠁⢐⡖⠀⠀⠂⢀⠀⠘⠈⠄⠘⠀⣀⠀⠁⠀⠀⠀⠑⢆⎥\n",
       "⎢⠀⠚⠂⠄⠚⠀⠀⠊⠐⠃⠀⠈⠀⠠⢰⠢⢀⠂⡀⡁⠈⠋⠄⠱⠀⠀⠑⠐⠔⠒⠐⠂⠂⠀⠀⠂⠐⠀⢠⠰⎥\n",
       "⎢⠂⠆⠠⠀⠀⠌⡀⠀⠂⠀⠂⠱⠀⡇⠁⠀⠒⡀⢀⠄⠀⠐⠐⢀⠀⢑⠀⠀⠘⠀⠔⠂⢂⠀⢀⠀⡞⠁⢐⠀⎥\n",
       "⎢⠆⠄⠐⠊⢐⠀⠀⠂⠠⠆⢀⡆⠀⠄⠁⠄⠀⠀⠂⠄⠄⠈⠀⠀⠀⠀⠐⡂⠊⠀⠒⠀⠀⠁⠀⠈⠠⠀⡸⠐⎥\n",
       "⎢⠠⠖⠂⠂⠀⠂⠀⠐⠀⠁⠐⠆⡀⢐⠀⡀⢰⡁⠁⡐⣘⠀⠰⠐⢋⣘⢀⠀⠂⠀⠔⠐⠔⠀⢀⡀⡀⠀⠀⠀⎥\n",
       "⎢⠘⠡⠢⡀⠈⢁⠀⠂⠄⠂⠀⠂⠑⠀⠈⡂⠀⠊⢈⡁⢂⠀⠐⠀⡀⠀⢀⠀⠀⡀⢠⠀⠠⠈⠐⢐⢐⢨⠑⠠⎥\n",
       "⎣⠀⠳⠀⠂⡀⠇⠐⣀⠀⠈⠀⠉⠂⡀⢈⣀⠀⠄⠀⠀⠰⠀⢀⡢⠀⠆⠐⡼⡀⠄⡂⡂⠐⠂⠔⠀⠵⠂⠂⡈⎦"
      ]
     },
     "execution_count": 32,
     "metadata": {},
     "output_type": "execute_result"
    }
   ],
   "source": [
    "sprandn(100, 100, 0.1)"
   ]
  }
 ],
 "metadata": {
  "kernelspec": {
   "display_name": "Julia 1.8.2",
   "language": "julia",
   "name": "julia-1.8"
  },
  "language_info": {
   "file_extension": ".jl",
   "mimetype": "application/julia",
   "name": "julia",
   "version": "1.8.2"
  }
 },
 "nbformat": 4,
 "nbformat_minor": 5
}
