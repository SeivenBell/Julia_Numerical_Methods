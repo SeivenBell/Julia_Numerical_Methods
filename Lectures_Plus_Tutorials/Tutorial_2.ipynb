{
 "cells": [
  {
   "cell_type": "code",
   "execution_count": null,
   "metadata": {},
   "outputs": [],
   "source": [
    "## Eigenvectors with the Power Method\n",
    "\n",
    "# Zura my guy\n",
    "\n",
    "\n",
    "\n",
    "using LinearAlgebra"
   ]
  },
  {
   "cell_type": "code",
   "execution_count": 10,
   "metadata": {},
   "outputs": [
    {
     "name": "stdout",
     "output_type": "stream",
     "text": [
      "Second largest eigenvector: [0.8488767711631275, -0.5285907938847054]\n",
      "Approximated dominant eigenvector: [-0.5766235034510265, -0.8170099970427928]\n",
      "True dominant eigenvector: [0.5285847383369611, 0.8488805418886962]\n",
      "Estimated largest eigenvalue: 11.485255715466712\n"
     ]
    }
   ],
   "source": [
    "\n",
    "# Power Method Function (Question a)\n",
    "function power_method(A, n)\n",
    "    x = randn(size(A, 1))\n",
    "    for i in 1:n\n",
    "        x = A * x\n",
    "        x /= norm(x)\n",
    "    end\n",
    "    return x\n",
    "end\n",
    "\n",
    "# Test with a 10x10 Matrix (Question b)\n",
    "A = rand(2, 2)\n",
    "A = A'A + 10I  # Ensuring A is symmetric positive definite\n",
    "approx_eigenvector = power_method(A, 10)\n",
    "\n",
    "# Comparison with True Solution (Question c)\n",
    "eigenvalues, eigenvectors = eigen(A)\n",
    "true_eigenvector = eigenvectors[:, argmax(abs.(eigenvalues))]\n",
    "\n",
    "\n",
    "# Largest Eigenvalue Estimation (Question d)\n",
    "estimated_eigenvalue = (approx_eigenvector' * A * approx_eigenvector) / (approx_eigenvector' * approx_eigenvector)\n",
    "\n",
    "# Assuming power_method and A are defined as before\n",
    "\n",
    "# Find the dominant eigenvector and eigenvalue\n",
    "dominant_eigenvector = power_method(A, 100)\n",
    "dominant_eigenvalue = (dominant_eigenvector' * A * dominant_eigenvector) / (dominant_eigenvector' * dominant_eigenvector)\n",
    "\n",
    "# Deflate the matrix\n",
    "A_deflated = A - dominant_eigenvalue * dominant_eigenvector * dominant_eigenvector'\n",
    "\n",
    "# Find the second largest eigenvector using the deflated matrix\n",
    "second_eigenvector = power_method(A_deflated, 100)\n",
    "\n",
    "println(\"Second largest eigenvector: \", second_eigenvector)\n",
    "\n",
    "\n",
    "# Reporting Findings (Question f)\n",
    "println(\"Approximated dominant eigenvector: \", approx_eigenvector)\n",
    "println(\"True dominant eigenvector: \", true_eigenvector)\n",
    "println(\"Estimated largest eigenvalue: \", estimated_eigenvalue)"
   ]
  }
 ],
 "metadata": {
  "kernelspec": {
   "display_name": "Julia 1.8.3",
   "language": "julia",
   "name": "julia-1.8"
  },
  "language_info": {
   "file_extension": ".jl",
   "mimetype": "application/julia",
   "name": "julia",
   "version": "1.8.3"
  }
 },
 "nbformat": 4,
 "nbformat_minor": 2
}
