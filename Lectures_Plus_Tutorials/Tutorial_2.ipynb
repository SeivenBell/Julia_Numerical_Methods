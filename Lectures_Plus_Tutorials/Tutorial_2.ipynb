{
 "cells": [
  {
   "cell_type": "code",
   "execution_count": 1,
   "metadata": {},
   "outputs": [],
   "source": [
    "## Eigenvectors with the Power Method\n",
    "\n",
    "# Zura my guy\n",
    "\n",
    "\n",
    "\n",
    "using LinearAlgebra"
   ]
  },
  {
   "cell_type": "code",
   "execution_count": 14,
   "metadata": {},
   "outputs": [
    {
     "name": "stdout",
     "output_type": "stream",
     "text": [
      "Arand: [0.9435823873397005 -0.8032825624157025; "
     ]
    },
    {
     "name": "stdout",
     "output_type": "stream",
     "text": [
      "-0.2762169891916163 0.30631056973298343]\n",
      "A_positive: [10.96664354681577 -0.8425714612817737; -0.8425714612817737 10.739089040211281]\n",
      "Second largest eigenvector: [-0.6580955085278805, -0.7529344603984004]\n",
      "Approximated dominant eigenvector: [0.7136106096584438, -0.7005425738546547]\n",
      "True dominant eigenvector: [-0.7529346426228689, 0.6580953000427617]\n",
      "Estimated largest eigenvalue: 11.697396492768485\n"
     ]
    }
   ],
   "source": [
    "\n",
    "# Power Method Function (Question a)\n",
    "function power_method(A, n)\n",
    "    x = randn(size(A, 1))\n",
    "    for i in 1:n\n",
    "        x = A * x\n",
    "        x /= norm(x)\n",
    "    end\n",
    "    return x\n",
    "end\n",
    "\n",
    "# Test with a 10x10 Matrix (Question b)\n",
    "A = randn(2, 2)\n",
    "println(\"Arand: \", A)\n",
    "A = A'A + 10I  # Ensuring A is symmetric positive definite\n",
    "println(\"A_positive: \", A)\n",
    "approx_eigenvector = power_method(A, 10)\n",
    "\n",
    "# Comparison with True Solution (Question c)\n",
    "eigenvalues, eigenvectors = eigen(A)\n",
    "true_eigenvector = eigenvectors[:, argmax(abs.(eigenvalues))]\n",
    "\n",
    "\n",
    "# Largest Eigenvalue Estimation (Question d)\n",
    "estimated_eigenvalue = (approx_eigenvector' * A * approx_eigenvector) / (approx_eigenvector' * approx_eigenvector)\n",
    "\n",
    "# Assuming power_method and A are defined as before\n",
    "\n",
    "# Find the dominant eigenvector and eigenvalue\n",
    "dominant_eigenvector = power_method(A, 100)\n",
    "dominant_eigenvalue = (dominant_eigenvector' * A * dominant_eigenvector) / (dominant_eigenvector' * dominant_eigenvector)\n",
    "\n",
    "# Deflate the matrix\n",
    "A_deflated = A - dominant_eigenvalue * dominant_eigenvector * dominant_eigenvector'\n",
    "\n",
    "# Find the second largest eigenvector using the deflated matrix\n",
    "second_eigenvector = power_method(A_deflated, 100)\n",
    "\n",
    "println(\"Second largest eigenvector: \", second_eigenvector)\n",
    "\n",
    "\n",
    "# Reporting Findings (Question f)\n",
    "println(\"Approximated dominant eigenvector: \", approx_eigenvector)\n",
    "println(\"True dominant eigenvector: \", true_eigenvector)\n",
    "println(\"Estimated largest eigenvalue: \", estimated_eigenvalue)"
   ]
  }
 ],
 "metadata": {
  "kernelspec": {
   "display_name": "Julia 1.8.3",
   "language": "julia",
   "name": "julia-1.8"
  },
  "language_info": {
   "file_extension": ".jl",
   "mimetype": "application/julia",
   "name": "julia",
   "version": "1.8.3"
  }
 },
 "nbformat": 4,
 "nbformat_minor": 2
}
