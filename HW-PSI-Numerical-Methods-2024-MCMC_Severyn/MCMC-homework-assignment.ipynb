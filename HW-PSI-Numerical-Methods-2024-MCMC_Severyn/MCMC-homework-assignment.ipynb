{
 "cells": [
  {
   "cell_type": "markdown",
   "id": "20a02177-7b6b-44eb-88dc-34b1cac20e11",
   "metadata": {},
   "source": [
    "# PSI Numerical Methods 2024 - Homework Assignment on Model Fitting & MCMC"
   ]
  },
  {
   "cell_type": "markdown",
   "id": "089e3de8-0052-42f4-a165-3f11dd288705",
   "metadata": {},
   "source": [
    "We're going to put together everything we have learned so far to re-do the data analysis for the\n",
    "Perlmutter et al. 1999 paper on the discovery of dark energy!  (https://ui.adsabs.harvard.edu/abs/1999ApJ...517..565P/abstract)\n",
    "\n",
    "Start by `Forking` this repository on Github: https://github.com/dstndstn/PSI-Numerical-Methods-2024-MCMC-Homework\n",
    "And then clone the repository to your laptop or to Symmetry.\n",
    "You can modify this notebook, and when you are done, save it, and then `git commit -a` the results,\n",
    "and `git push` them back to your fork of the repository.  You will \"hand in\" your homework by giving\n",
    "a link to your Github repository, where the marker will be able to read your notebook.\n",
    "\n",
    "First, a little bit of background on the cosmology and astrophysics.  The paper reports measurements\n",
    "of a group of supernova explosions of a specific type, \"Type 1a\".  These are thought to be caused by\n",
    "a white dwarf star that has a companion star that \"donates\" gas to the white dwarf.  It gradually gains\n",
    "mass until it exceeds the Chandresekhar mass, and explodes.  Since they all explode through the same\n",
    "mechanism, and with the same mass, they should all have the same intrinsic brightess.  It turns out to\n",
    "be a _little_ more complicated than that, but in the end, these Type-1a supernovae can be turned into\n",
    "\"standard candles\", objects that are all the same brightness.  If you can also measure the redshift of\n",
    "each galaxy containing the supernova, then you can map out this brightness--redshift relation, and the\n",
    "shape of that relation depends on how the universe grows over cosmic time.  In turn, the growth rate of\n",
    "the universe depends on the contents of the universe!\n",
    "\n",
    "In this way, these Type-1a supernova allow us to constrain the parameters of a model of the universe.\n",
    "Specifically, the model is called \"Lambda-CDM\", a universe containing dark energy and matter (cold dark matter,\n",
    "plus regular matter).  We will consider a two-parameter version of this model: $\\Omega_M$, the\n",
    "amount of matter, and $\\Omega_{\\Lambda}$, the amount of dark energy.  These are in cosmology units of\n",
    "\"energy density now relative to the critical density\", where the critical density is the energy density you need\n",
    "for the universe to be spatially flat (angles of a large triangle sum to 180 degrees).\n",
    "So $\\Omega_M = 1$, $\\Omega_{\\Lambda} = 0$ would be a flat universe containing all matter, while\n",
    "$\\Omega_M = 0.25$, $\\Omega_{\\Lambda} = 0.5$ would be a spatially closed universe with dark energy and matter.\n",
    "Varying these ingredients changes the growth history of the universe, which changes how much the light from a\n",
    "supernova is redshifted, and how its brightness drops off with distance.\n",
    "\n",
    "(In the code below, we will call these `Omega_M` = $\\Omega_M$ and `Omega_DE` = $\\Omega_{\\Lambda}$.)\n",
    "\n",
    "Distance measurements in cosmology are complicated -- see https://arxiv.org/abs/astro-ph/9905116 for details!\n",
    "For this assignment, we will use a cosmology package that will handle all this for us.  All we need to use is\n",
    "the \"luminosity distance\", which is the one that tells you how objects get fainter given a redshift."
   ]
  },
  {
   "cell_type": "code",
   "execution_count": 1,
   "id": "7d883314",
   "metadata": {},
   "outputs": [],
   "source": [
    "# Let's start by installing the Cosmology package!\n",
    "#using Pkg\n",
    "# Pkg.add(\"GLMakie\")\n",
    "#Pkg.add(\"CSV\")\n",
    "# Pkg.add(\"DataFrames\")\n",
    "# Pkg.add(\"Cosmology\")\n",
    "# Pkg.add(\"Statistics\")"
   ]
  },
  {
   "cell_type": "code",
   "execution_count": 32,
   "id": "0dbffaea-f314-4272-962e-3358d17420e5",
   "metadata": {},
   "outputs": [],
   "source": [
    "# We'll also end up using all our old friends:\n",
    "using GLMakie\n",
    "using CSV\n",
    "using DataFrames\n",
    "using Cosmology\n",
    "using Statistics"
   ]
  },
  {
   "cell_type": "code",
   "execution_count": 33,
   "id": "f6ae3590-762f-47df-828e-371884e1978f",
   "metadata": {},
   "outputs": [
    {
     "name": "stdout",
     "output_type": "stream",
     "text": [
      "\u001b[1m60×10 DataFrame\u001b[0m\n",
      "\u001b[1m Row \u001b[0m│\u001b[1m SNname  \u001b[0m\u001b[1m z       \u001b[0m\u001b[1m sigma_z \u001b[0m\u001b[1m m_x_peak \u001b[0m\u001b[1m sigma_x_peak \u001b[0m\u001b[1m A_x     \u001b[0m\u001b[1m K_bx    \u001b[0m\u001b[1m m_b_peak \u001b[0m\u001b[1m m_b_eff \u001b[0m\u001b[1m sigma_m_b_eff \u001b[0m\n",
      "     │\u001b[90m String7 \u001b[0m\u001b[90m Float64 \u001b[0m\u001b[90m Float64 \u001b[0m\u001b[90m Float64  \u001b[0m\u001b[90m Float64      \u001b[0m\u001b[90m Float64 \u001b[0m\u001b[90m Float64 \u001b[0m\u001b[90m Float64  \u001b[0m\u001b[90m Float64 \u001b[0m\u001b[90m Float64       \u001b[0m\n",
      "─────┼───────────────────────────────────────────────────────────────────────────────────────────────────────\n",
      "   1 │ 1992bi     0.458    0.001     22.12          0.1      0.03    -0.72     22.81    23.11           0.46\n",
      "   2 │ 1994F      0.354    0.001     22.08          0.1      0.11    -0.58     22.55    22.38           0.33\n",
      "   3 │ 1994G      0.425    0.001     21.52          0.21     0.03    -0.68     22.17    22.13           0.49\n",
      "   4 │ 1994H      0.374    0.001     21.28          0.06     0.1     -0.61     21.79    21.72           0.22\n",
      "   5 │ 1994al     0.42     0.001     22.37          0.06     0.42    -0.68     22.63    22.55           0.25\n",
      "   6 │ 1994am     0.372    0.001     21.82          0.07     0.1     -0.61     22.32    22.26           0.2\n",
      "   7 │ 1994an     0.378    0.001     22.14          0.08     0.21    -0.62     22.55    22.58           0.37\n",
      "   8 │ 1995aq     0.453    0.001     22.6           0.07     0.07    -0.71     23.24    23.17           0.25\n",
      "   9 │ 1995ar     0.465    0.005     22.71          0.04     0.07    -0.71     23.35    23.33           0.3\n",
      "  10 │ 1995as     0.498    0.001     23.02          0.07     0.07    -0.71     23.66    23.71           0.25\n",
      "  11 │ 1995at     0.655    0.001     22.62          0.03     0.07    -0.66     23.21    23.27           0.21\n",
      "  12 │ 1995aw     0.4      0.03      21.75          0.03     0.12    -0.65     22.27    22.36           0.19\n",
      "  13 │ 1995ax     0.615    0.001     22.53          0.07     0.11    -0.67     23.1     23.19           0.25\n",
      "  14 │ 1995ay     0.48     0.001     22.64          0.04     0.35    -0.72     23.0     22.96           0.24\n",
      "  15 │ 1995az     0.45     0.001     22.44          0.07     0.61    -0.71     22.53    22.51           0.23\n",
      "  16 │ 1995ba     0.388    0.001     22.08          0.04     0.06    -0.63     22.66    22.65           0.2\n",
      "  17 │ 1996cf     0.57     0.01      22.7           0.03     0.13    -0.68     23.25    23.27           0.22\n",
      "  18 │ 1996cg     0.49     0.01      22.46          0.03     0.11    -0.72     23.06    23.1            0.2\n",
      "  19 │ 1996ci     0.495    0.001     22.19          0.03     0.09    -0.71     22.82    22.83           0.19\n",
      "  20 │ 1996ck     0.656    0.001     23.08          0.07     0.13    -0.66     23.62    23.57           0.28\n",
      "  21 │ 1996cl     0.828    0.001     23.53          0.1      0.18    -1.22     24.58    24.65           0.54\n",
      "  22 │ 1996cm     0.45     0.01      22.66          0.07     0.15    -0.71     23.22    23.17           0.23\n",
      "  23 │ 1996cn     0.43     0.01      22.58          0.03     0.08    -0.69     23.19    23.13           0.22\n",
      "  24 │ 1997F      0.58     0.001     22.9           0.06     0.13    -0.68     23.45    23.46           0.23\n",
      "  25 │ 1997G      0.763    0.001     23.56          0.41     0.2     -1.13     24.49    24.47           0.53\n",
      "  26 │ 1997H      0.526    0.001     22.68          0.05     0.16    -0.7      23.21    23.15           0.2\n",
      "  27 │ 1997I      0.172    0.001     20.04          0.02     0.16    -0.33     20.2     20.17           0.18\n",
      "  28 │ 1997J      0.619    0.001     23.25          0.08     0.13    -0.67     23.8     23.8            0.28\n",
      "  29 │ 1997K      0.592    0.001     23.73          0.1      0.07    -0.67     24.33    24.42           0.37\n",
      "  30 │ 1997L      0.55     0.01      22.93          0.05     0.08    -0.69     23.53    23.51           0.25\n",
      "  31 │ 1997N      0.18     0.001     20.19          0.01     0.1     -0.34     20.42    20.43           0.17\n",
      "  32 │ 1997O      0.374    0.001     22.97          0.07     0.09    -0.61     23.5     23.52           0.24\n",
      "  33 │ 1997P      0.472    0.001     22.52          0.04     0.1     -0.72     23.14    23.11           0.19\n",
      "  34 │ 1997Q      0.43     0.01      22.01          0.03     0.09    -0.69     22.6     22.57           0.18\n",
      "  35 │ 1997R      0.657    0.001     23.28          0.05     0.11    -0.66     23.83    23.83           0.23\n",
      "  36 │ 1997S      0.612    0.001     23.03          0.05     0.11    -0.67     23.59    23.69           0.21\n",
      "  37 │ 1997ac     0.32     0.01      21.38          0.03     0.09    -0.55     21.83    21.86           0.18\n",
      "  38 │ 1997af     0.579    0.001     22.96          0.07     0.09    -0.68     23.54    23.48           0.22\n",
      "  39 │ 1997ai     0.45     0.01      22.25          0.05     0.14    -0.71     22.81    22.83           0.3\n",
      "  40 │ 1997aj     0.581    0.001     22.55          0.06     0.11    -0.68     23.12    23.09           0.22\n",
      "  41 │ 1997am     0.416    0.001     21.97          0.03     0.11    -0.67     22.52    22.57           0.2\n",
      "  42 │ 1997ap     0.83     0.01      23.2           0.07     0.13    -1.23     24.3     24.32           0.22\n",
      "  43 │ 1990O      0.03     0.002     16.62          0.03     0.39    -0.0      16.23    16.26           0.2\n",
      "  44 │ 1990af     0.05     0.002     17.92          0.01     0.16     0.01     17.75    17.63           0.18\n",
      "  45 │ 1992P      0.026    0.002     16.13          0.03     0.12    -0.01     16.02    16.08           0.24\n",
      "  46 │ 1992ae     0.075    0.002     18.61          0.12     0.15     0.03     18.43    18.43           0.2\n",
      "  47 │ 1992ag     0.026    0.002     16.59          0.04     0.38    -0.01     16.22    16.28           0.2\n",
      "  48 │ 1992al     0.014    0.002     14.6           0.01     0.13    -0.01     14.48    14.47           0.23\n",
      "  49 │ 1992aq     0.101    0.002     19.29          0.12     0.05     0.05     19.19    19.16           0.23\n",
      "  50 │ 1992bc     0.02     0.002     15.2           0.01     0.07    -0.01     15.13    15.18           0.2\n",
      "  51 │ 1992bg     0.036    0.002     17.41          0.07     0.77     0.0      16.63    16.66           0.21\n",
      "  52 │ 1992bh     0.045    0.002     17.67          0.04     0.1      0.01     17.56    17.61           0.19\n",
      "  53 │ 1992bl     0.043    0.002     17.31          0.07     0.04     0.01     17.26    17.19           0.18\n",
      "  54 │ 1992bo     0.018    0.002     15.85          0.02     0.11    -0.01     15.75    15.61           0.21\n",
      "  55 │ 1992bp     0.079    0.002     18.55          0.02     0.21     0.04     18.3     18.27           0.18\n",
      "  56 │ 1992br     0.088    0.002     19.71          0.07     0.12     0.04     19.54    19.28           0.18\n",
      "  57 │ 1992bs     0.063    0.002     18.36          0.05     0.09     0.03     18.24    18.24           0.18\n",
      "  58 │ 1993B      0.071    0.002     18.68          0.08     0.31     0.03     18.34    18.33           0.2\n",
      "  59 │ 1993O      0.052    0.002     17.83          0.01     0.25     0.01     17.58    17.54           0.18\n",
      "  60 │ 1993ag     0.05     0.002     18.29          0.02     0.56     0.01     17.71    17.69           0.2\n"
     ]
    }
   ],
   "source": [
    "# There is a data file in this directory, taken basically straight out of the Perlmutter+1999 paper.  We can read it with the CSV package.\n",
    "data = CSV.read(\"p99-data.txt\", DataFrame, delim=\" \", ignorerepeated=true);\n",
    "println(data)"
   ]
  },
  {
   "cell_type": "code",
   "execution_count": 34,
   "id": "d9e31b8e-4324-4e9d-8ce0-d40efd7316c4",
   "metadata": {},
   "outputs": [
    {
     "name": "stdout",
     "output_type": "stream",
     "text": [
      "[23.11, 22.38, 22.13, 21.72, 22.55, 22.26, 22.58, 23.17, 23.33, 23.71, 23.27, 22.36, 23.19, 22.96, 22.51, 22.65, 23.27, 23.1, 22.83, 23.57, 24.65, 23.17, 23.13, 23.46, 24.47, 23.15, 20.17, 23.8, 24.42, 23.51, 20.43, 23.52, 23.11, 22.57, 23.83, 23.69, 21.86, 23.48, 22.83, 23.09, 22.57, 24.32, 16.26, 17.63, 16.08, 18.43, 16.28, 14.47, 19.16, 15.18, 16.66, 17.61, 17.19, 15.61, 18.27, 19.28, 18.24, 18.33, 17.54, 17.69]\n",
      "[0.46, 0.33, 0.49, 0.22, 0.25, 0.2, 0.37, 0.25, 0.3, 0.25, 0.21, 0.19, 0.25, 0.24, 0.23, 0.2, 0.22, 0.2, 0.19, 0.28, 0.54, 0.23, 0.22, 0.23, 0.53, 0.2, 0.18, 0.28, 0.37, 0.25, 0.17, 0.24, 0.19, 0.18, 0.23, 0.21, 0.18, 0.22, 0.3, 0.22, 0.2, 0.22, 0.2, 0.18, 0.24, 0.2, 0.2, 0.23, 0.23, 0.2, 0.21, 0.19, 0.18, 0.21, 0.18, 0.18, 0.18, 0.2, 0.18, 0.2]\n"
     ]
    }
   ],
   "source": [
    "# Make a copy of the data columns that we want to treat as the \"y\" measurements.\n",
    "# These are the measured brightnesses, and their Gaussian uncertainties (standard deviations).\n",
    "data.mag = data.m_b_eff\n",
    "data.sigma_mag = data.sigma_m_b_eff;\n",
    "\n",
    "println(data.mag)\n",
    "println(data.sigma_mag)"
   ]
  },
  {
   "cell_type": "code",
   "execution_count": 35,
   "id": "46283e6a-9661-42db-88b7-387a8876ad02",
   "metadata": {},
   "outputs": [],
   "source": [
    "f = Figure()\n",
    "Axis(f[1, 1], title=\"Perlmutter+99_Supernovae\", xlabel=\"Redshift_z\", ylabel=\"m_B\")\n",
    "errorbars!(data.z, data.mag, data.sigma_mag)\n",
    "scatter!(data.z, data.mag, markersize=5, color=:maroon)\n",
    "f"
   ]
  },
  {
   "cell_type": "code",
   "execution_count": 36,
   "id": "3a3a7bcf-79a7-4bd9-9fa0-b003560012a5",
   "metadata": {},
   "outputs": [
    {
     "name": "stdout",
     "output_type": "stream",
     "text": [
      "universe = Cosmology.OpenLCDM{Float64}(0.69, 0.1, 0.5, 0.4, 0.0)\n",
      "universe.Ω_Λ = 0.5\n"
     ]
    }
   ],
   "source": [
    "# Here is how we will use the \"cosmology\" package.  This will create a cosmology \"object\" with the parameters we pass in.\n",
    "# It does not take an Omega_Lambda parameter; instead, it takes Omega_Matter, and Omega_K (for \"curvature\"), where\n",
    "# Omega_K = 1. - Omatter - Olambda.  We will also pass in \"Tcmb=0\", which tells it to ignore the effects of radiation.\n",
    "\n",
    "universe = cosmology(OmegaK=0.1, OmegaM=0.4, Tcmb=0)\n",
    "@show universe\n",
    "@show universe.Ω_Λ;"
   ]
  },
  {
   "cell_type": "code",
   "execution_count": 37,
   "id": "9319a9a6-0ed7-46d8-b7bc-27a98b3b3248",
   "metadata": {},
   "outputs": [],
   "source": [
    "# We can then pass that \"universe\" object to other functions to compute things about it.  Basically the only one you'll\n",
    "# need is this `distance_modulus`, which tell you, in _magnitudes_, how much fainter an object is at the given redshift,\n",
    "# versus how faint it would be if it were 10 parsecs away.\n",
    "\n",
    "function distance_modulus(universe, z)\n",
    "    DL = luminosity_dist(universe, z)\n",
    "    # DL is in Megaparsecs; the distance for absolute to observed mag is 10 pc.\n",
    "    5.0 * log10.(DL.val * 1e6 / 10.0)\n",
    "end;"
   ]
  },
  {
   "cell_type": "markdown",
   "id": "ed8fea48-101c-4efa-a99f-07728489187a",
   "metadata": {},
   "source": [
    "There is one more parameter to the model we will be fitting: $M$, the _absolute magnitude_ of the supernovae.  This is a\n",
    "\"nuisance parameter\" - a parameter that we have to fit for, but that we don't really care about; it's basically a calibration\n",
    "of what the intrinsic brightness of a supernova is.  To start out, we will fix this value to a constant, but later we will\n",
    "fit for it along with our Omegas.\n",
    "\n",
    "The _observed_ brightness of a supernova will be its _absolute mag_ plus its _distance modulus_.  The _distance modulus_ depends on\n",
    "the redshift _z_ and our parameters Omega_M and Omega_DE."
   ]
  },
  {
   "cell_type": "code",
   "execution_count": 38,
   "id": "22a7cb6d-ff20-48e4-9578-90be73eaf8b7",
   "metadata": {},
   "outputs": [],
   "source": [
    "# We'll cheat a bit and use a \"nominal\" cosmology with currently-accepted values of Omega_M = 0.29, Omega_DE = 0.71.\n",
    "nominal = cosmology(Tcmb=0)\n",
    "\n",
    "f = Figure()\n",
    "ax = Axis(f[1, 1], title=\"Perlmutter+99 Supernovae\", xlabel=\"Redshift z\", ylabel=\"Observed mag\")\n",
    "errorbars!(data.z, data.mag, data.sigma_mag)\n",
    "scatter!(data.z, data.mag, markersize=5, color=:maroon)\n",
    "\n",
    "# Compute the average absolute magnitude M given nominal cosmology -- ie, an estimate of the absolute mag of the supernovae\n",
    "DLx = map(z -> distance_modulus(nominal, z), data.z)\n",
    "abs_mag = median(data.mag - DLx)\n",
    "\n",
    "# Here's another way to plot a function evaluated on a grid of values.\n",
    "zgrid = 0.01:0.01:1.0\n",
    "DL = map(z -> distance_modulus(nominal, z), zgrid)\n",
    "lines!(zgrid, DL .+ abs_mag, label=\"Nominal OmegaM = 0.29, OmegaDE = 0.71\")\n",
    "### try this \n",
    "universe = cosmology(OmegaK=0.0, OmegaM=0.6, Tcmb=0)\n",
    "DL = map(z -> distance_modulus(universe, z), zgrid)\n",
    "lines!(zgrid, DL .+ abs_mag, color=:red, label=\"OmegaM = 0.6, OmegaDE = 0.4\")\n",
    "\n",
    "universe = cosmology(OmegaK=0.0, OmegaM=0.1, Tcmb=0)\n",
    "DL = map(z -> distance_modulus(universe, z), zgrid)\n",
    "lines!(zgrid, DL .+ abs_mag, color=:green, label=\"OmegaM = 0.1, OmegaDE = 0.9\")\n",
    "\n",
    "#f[2,1] = Legend(f, ax, \"Cosmologies\", framevisible = false)\n",
    "# Create a legend for our plot\n",
    "axislegend(ax, position=:rb)\n",
    "f"
   ]
  },
  {
   "cell_type": "code",
   "execution_count": 39,
   "id": "f0ea93f2-27bb-4797-bc32-3eedce485a37",
   "metadata": {},
   "outputs": [
    {
     "data": {
      "text/plain": [
       "-19.228824925301424"
      ]
     },
     "metadata": {},
     "output_type": "display_data"
    }
   ],
   "source": [
    "# Here's our scalar estimate of the absolute mag.\n",
    "abs_mag"
   ]
  },
  {
   "cell_type": "markdown",
   "id": "06d4b51d-099c-4c8a-8bc8-505b6f3dc99c",
   "metadata": {},
   "source": [
    "## Part 1 - The Log-likelihood terrain"
   ]
  },
  {
   "cell_type": "markdown",
   "id": "f31e698a-cf0b-4b7f-b47f-b8e37f38b686",
   "metadata": {},
   "source": [
    "First, you have to write out the likelihood function for the observed supernova data, given cosmological model parameters.\n",
    "\n",
    "That is, please complete the following function.  It will be passed vectors of `z`, `mag`, and `mag_error` measurements,\n",
    "plus scalar parameters `M`, `Omega_M` and `Omega_DE`.  You will need to create a \"cosmology\" object, find the _distance modulus_ for\n",
    "each redshift `z`, and add that to the absolute mag `M` to get the _predicted_ magnitude.  You will then compare that to each\n",
    "measured magnitude, and compute the likelihood."
   ]
  },
  {
   "cell_type": "code",
   "execution_count": null,
   "id": "327f047c",
   "metadata": {},
   "outputs": [],
   "source": [
    "# function log_likelihood(params, x, y, sigma_y)\n",
    "#     (b,m) = params\n",
    "#     y_pred = b .+ m .* x\n",
    "#     chi = (y_pred .- y) ./ sigma_y\n",
    "#     # Here, I am omitting the 1/(sqrt(2 pi) sigma_y) term because it is constant every time!\n",
    "#     loglike = -0.5 .* chi .^ 2\n",
    "#     return sum(loglike)\n",
    "# end;"
   ]
  },
  {
   "cell_type": "code",
   "execution_count": 40,
   "id": "898a726f",
   "metadata": {},
   "outputs": [
    {
     "name": "stdout",
     "output_type": "stream",
     "text": [
      "Log-likelihood: -51.89686727398943\n"
     ]
    }
   ],
   "source": [
    "# MY CODE\n",
    "function supernova_log_likelihood(z, mag, mag_error, M, OmegaM, OmegaDE)\n",
    "    # Create a cosmology object with given parameters\n",
    "    cosmo = cosmology(OmegaK=1.0 - OmegaM - OmegaDE, OmegaM=OmegaM, Tcmb=0)\n",
    "\n",
    "    # Calculate distance modulus for each redshift\n",
    "    dist_moduli = map(z_i -> distance_modulus(cosmo, z_i), z)\n",
    "\n",
    "    # Calculate predicted magnitudes\n",
    "    predicted_mags = M .+ dist_moduli\n",
    "\n",
    "    # Calculate log likelihood\n",
    "    log_likelihood = -0.5 * sum(((mag .- predicted_mags) ./ mag_error) .^ 2)\n",
    "\n",
    "    return log_likelihood\n",
    "end\n",
    "\n",
    "# Example call to the function\n",
    "log_likelihood_value = supernova_log_likelihood(data.z, data.mag, data.sigma_mag, abs_mag, 0.29, 0.71)\n",
    "println(\"Log-likelihood: $log_likelihood_value\")\n"
   ]
  },
  {
   "cell_type": "markdown",
   "id": "95f5fed8-816a-45b5-b443-70687aca094f",
   "metadata": {},
   "source": [
    "Next, please keep `M` fixed to the `abs_mag` value we computed above, and call your `supernova_log_likelihood` on a grid of\n",
    "`Omega_M` and `Omega_DE` values.  (You will pass in `data.z`, `data.mag`, and `data.sigma_mag` for the `z`, `mag`, and `mag_error` values.)\n",
    "\n",
    "Try a grid from 0 to 1 for both Omega_M and Omega_DE, and show the `supernova_log_likelihood` values using the `heatmap` function.\n",
    "You may find it helpful to limit the range using something like `heatmap(om_grid, ode_grid, sn_ll, colorrange=[maximum(sn_ll)-20, maximum(sn_ll)])`.\n",
    "\n",
    "Another thing you can do is, instead of showing the _log_-likelihood, show the likelihood by taking the `exp` of your `sn_ll` grid, like this, `heatmap(om_grid, ode_grid, exp.(sn_ll))`.\n",
    "\n",
    "Please compare your plot to Figure 7 in the Perlmutter et al. 1999 paper, shown below.  Does your likelihood contour look consistent with the blue ellipses?"
   ]
  },
  {
   "cell_type": "code",
   "execution_count": null,
   "id": "87ca9932",
   "metadata": {},
   "outputs": [],
   "source": [
    "# write heatmap function\n",
    "#refer to notes"
   ]
  },
  {
   "cell_type": "code",
   "execution_count": 45,
   "id": "c59930b4",
   "metadata": {},
   "outputs": [
    {
     "data": {
      "text/plain": [
       "60-element Vector{Float64}:\n",
       " 0.46\n",
       " 0.33\n",
       " 0.49\n",
       " 0.22\n",
       " 0.25\n",
       " 0.2\n",
       " 0.37\n",
       " 0.25\n",
       " 0.3\n",
       " 0.25\n",
       " ⋮\n",
       " 0.19\n",
       " 0.18\n",
       " 0.21\n",
       " 0.18\n",
       " 0.18\n",
       " 0.18\n",
       " 0.2\n",
       " 0.18\n",
       " 0.2"
      ]
     },
     "metadata": {},
     "output_type": "display_data"
    }
   ],
   "source": [
    "\n",
    "# Load the data\n",
    "#df = CSV.File(\"p99-data.txt\") |> DataFrame\n",
    "df = CSV.read(\"p99-data.txt\", DataFrame, delim=\" \", ignorerepeated=true);\n",
    "# Extract necessary columns\n",
    "z = df.z\n",
    "mag = df.m_b_eff\n",
    "mag_error = df.sigma_m_b_eff\n",
    "\n",
    "# Now you can call the supernova_log_likelihood function with these values\n",
    "# along with the fixed values for M, Omatter, and Ode."
   ]
  },
  {
   "cell_type": "markdown",
   "id": "3aa479c5-cfcc-464c-a558-89f14c06598f",
   "metadata": {},
   "source": [
    "<img src=\"perlmutter-fig7.png\" width=\"400\"/>\n",
    "\n"
   ]
  },
  {
   "cell_type": "markdown",
   "id": "8cfd66f9-4563-42d8-98a9-18bed8670740",
   "metadata": {},
   "source": [
    "Next, try expanding the grid ranges for Omega_M and Omega_DE up to, say, 0 to 2 or 0 to 3.  You should encounter a problem -- the cosmology package will fail to compute the `distance_modulus` for some combinations!  You can work around this by using Julia's `try...catch` syntax,\n",
    "like this:"
   ]
  },
  {
   "cell_type": "code",
   "execution_count": 47,
   "id": "eb33058c-5639-4b02-9e09-ff15145ab86b",
   "metadata": {},
   "outputs": [
    {
     "data": {
      "text/plain": [
       "-72.35860296868422"
      ]
     },
     "metadata": {},
     "output_type": "display_data"
    }
   ],
   "source": [
    "# Example of Julia's try-catch syntax:\n",
    "ll = 0.0\n",
    "try\n",
    "    ll = supernova_log_likelihood(data.z, data.mag, data.sigma_mag, abs_mag, 2.0, 2.0)\n",
    "catch err\n",
    "    ll = -Inf\n",
    "end"
   ]
  },
  {
   "cell_type": "markdown",
   "id": "6948a594-9b26-4ead-b915-e5ffff5b1e55",
   "metadata": {},
   "source": [
    "This will \"try\" to run the `supernova_log_likelihood` function, and if it fails, it will go into the \"catch\" branch."
   ]
  },
  {
   "cell_type": "markdown",
   "id": "e7afcb85-5a3e-4f6b-a3bb-aa4f36e2f34c",
   "metadata": {},
   "source": [
    "## Part 2 - Using MCMC to sample from the likelihood"
   ]
  },
  {
   "cell_type": "markdown",
   "id": "db573922-c863-4ded-91fa-cc458d43c54f",
   "metadata": {},
   "source": [
    "Next, we will use Markov Chain Monte Carlo to draw samples from the likelihood distribution.\n",
    "\n",
    "You can start with the `mcmc` function from the lecture.\n",
    "\n",
    "You will need to tune the MCMC proposal's step sizes (also known as \"jump sizes\").  To do this, you can use\n",
    "the variant of the `mcmc` routine that cycles through the parameters and only jumps one at a time, named\n",
    "`mcmc_cyclic` in the updated lecture notebook.  After tuning the step sizes with `mcmc_cyclic`, you can go back\n",
    "to the plain `mcmc` routine if you want, or stick with `mcmc_cyclic`; it is up to you.\n",
    "\n",
    "Please plot the samples from your MCMC chains, to demonstrate that the chain looks like it has converged.  Ideally, you\n",
    "would like to see reasonable acceptance rates, and you would like to see the samples \"exploring\" the parameter space.\n",
    "Decide how many step you need to run the MCMC routine for, and write a sentence or two describing why you think that's\n",
    "a good number.\n",
    "\n",
    "For this part, please include the `M` (absolute magnitude) as a parameter that you are fitting -- so you are fitting for `M`\n",
    "in addition to `Omega_M` and `Omega_DE`.  This is a quite standard situation where you have a \"nuisance\" parameter `M`\n",
    "that you don't really care about, in addition to the `Omega` parameters that you do care about."
   ]
  },
  {
   "cell_type": "markdown",
   "id": "9bd3cc89-207a-4b34-bb9f-b591e25a513d",
   "metadata": {},
   "source": [
    "It is quite common to plot the results from an MCMC sampling using a \"corner plot\", which shows the distribution of\n",
    "each of the individual parameters, and the joint distributions of pairs of parameters.  This will help you determine\n",
    "whether some of the parameters are correlated with each other.\n",
    "\n",
    "Below is a function you can use to generate corner plots from your chain -- call it like `cornerplot(chain, [\"M\", \"Omega_M\", \"Omega_DE\"])`.  There is also a CornerPlot package (https://juliapackages.com/p/cornerplot) but I have not had luck getting it\n",
    "to work for me.\n",
    "\n",
    "Once you have made you corner plots, please write a few sentences interpreting what you see.  Is the nuisance parameter `M` correlated with the Omegas?  Are the Omegas correlated with each other?"
   ]
  },
  {
   "cell_type": "code",
   "execution_count": null,
   "id": "8b3ffa3b",
   "metadata": {},
   "outputs": [],
   "source": [
    "#edit mcmc function\n",
    "function mcmc_cyclic(logprob_func, propose_func, initial_p, n_steps)\n",
    "    p = initial_p\n",
    "    logprob = logprob_func(p)\n",
    "    chain = zeros(n_steps, length(p))\n",
    "    n_accept = zeros(length(p))\n",
    "\n",
    "    for i in 1:n_steps\n",
    "\n",
    "        # We're going to update one index at a time... 1, 2, 1, 2, ....\n",
    "        update_index = 1 + ((i-1) % length(p))\n",
    "\n",
    "        # Call the proposal function to generate new values for all parameters...\n",
    "        p_prop = propose_func(p)\n",
    "        # ... but then only keep one of the new parameter values!\n",
    "        p_new = copy(p)\n",
    "        p_new[update_index] = p_prop[update_index]\n",
    "        \n",
    "        logprob_new = logprob_func(p_new)\n",
    "\n",
    "        ratio = exp(logprob_new - logprob)\n",
    "        if ratio > 1\n",
    "            # Jump to the new place\n",
    "            p = p_new\n",
    "            logprob = logprob_new\n",
    "            n_accept[update_index] += 1\n",
    "        else\n",
    "            # Jump to the new place with probability \"ratio\"\n",
    "            u = rand()\n",
    "            if u < ratio\n",
    "                # Jump to the new place\n",
    "                p = p_new\n",
    "                logprob = logprob_new\n",
    "                n_accept[update_index] += 1\n",
    "            else\n",
    "                # Stay where we are\n",
    "            end\n",
    "        end\n",
    "        chain[i, 1:end] = p\n",
    "    end\n",
    "    # The number of times we step each parameter is roughly n_steps / n_parameters\n",
    "    chain, n_accept ./ (n_steps ./ length(p))\n",
    "end;"
   ]
  },
  {
   "cell_type": "code",
   "execution_count": 49,
   "id": "2ec8c1f2-b24d-4c5f-a068-3b4868b575eb",
   "metadata": {},
   "outputs": [],
   "source": [
    "function cornerplot(x, names; figsize=(600, 600))\n",
    "    # how many columns of data\n",
    "    dim = size(x, 2)\n",
    "    # rows to plot\n",
    "    idxs = 1:size(x, 1)\n",
    "    f = Figure(size=figsize)\n",
    "    for i in 1:dim, j in 1:dim\n",
    "        if i < j\n",
    "            continue\n",
    "        end\n",
    "        ax = Axis(f[i, j], aspect=1,\n",
    "            topspinevisible=false,\n",
    "            rightspinevisible=false,)\n",
    "        if i == j\n",
    "            hist!(x[idxs, i], direction=:y)\n",
    "            ax.xlabel = names[i]\n",
    "        else\n",
    "            #scatter!(x[idxs,j], x[idxs,i], markersize=4)\n",
    "            hexbin!(x[idxs, j], x[idxs, i])\n",
    "            ax.xlabel = names[j]\n",
    "            ax.ylabel = names[i]\n",
    "        end\n",
    "    end\n",
    "    f\n",
    "end;"
   ]
  },
  {
   "cell_type": "markdown",
   "id": "b461568a-ce96-4bb3-9031-652320a7334c",
   "metadata": {},
   "source": [
    "Finally, please try to make a contour plot similar to Perlmutter et al.'s Figure 7.  From your MCMC chain, you can pull out the `Omega_M` and `Omega_DE` arrays, and then create a 2-d histogram.  Once you have a 2-d histogram, you can use the `contour` function to find and plot the contours in that histogram."
   ]
  }
 ],
 "metadata": {
  "kernelspec": {
   "display_name": "Julia 1.8.3",
   "language": "julia",
   "name": "julia-1.8"
  },
  "language_info": {
   "file_extension": ".jl",
   "mimetype": "application/julia",
   "name": "julia",
   "version": "1.8.3"
  }
 },
 "nbformat": 4,
 "nbformat_minor": 5
}
