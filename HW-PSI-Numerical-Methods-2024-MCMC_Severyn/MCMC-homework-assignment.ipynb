{
 "cells": [
  {
   "cell_type": "markdown",
   "id": "20a02177-7b6b-44eb-88dc-34b1cac20e11",
   "metadata": {},
   "source": [
    "# PSI Numerical Methods 2024 - Homework Assignment on Model Fitting & MCMC"
   ]
  },
  {
   "cell_type": "markdown",
   "id": "089e3de8-0052-42f4-a165-3f11dd288705",
   "metadata": {},
   "source": [
    "We're going to put together everything we have learned so far to re-do the data analysis for the\n",
    "Perlmutter et al. 1999 paper on the discovery of dark energy!  (https://ui.adsabs.harvard.edu/abs/1999ApJ...517..565P/abstract)\n",
    "\n",
    "Start by `Forking` this repository on Github: https://github.com/dstndstn/PSI-Numerical-Methods-2024-MCMC-Homework\n",
    "And then clone the repository to your laptop or to Symmetry.\n",
    "You can modify this notebook, and when you are done, save it, and then `git commit -a` the results,\n",
    "and `git push` them back to your fork of the repository.  You will \"hand in\" your homework by giving\n",
    "a link to your Github repository, where the marker will be able to read your notebook.\n",
    "\n",
    "First, a little bit of background on the cosmology and astrophysics.  The paper reports measurements\n",
    "of a group of supernova explosions of a specific type, \"Type 1a\".  These are thought to be caused by\n",
    "a white dwarf star that has a companion star that \"donates\" gas to the white dwarf.  It gradually gains\n",
    "mass until it exceeds the Chandresekhar mass, and explodes.  Since they all explode through the same\n",
    "mechanism, and with the same mass, they should all have the same intrinsic brightess.  It turns out to\n",
    "be a _little_ more complicated than that, but in the end, these Type-1a supernovae can be turned into\n",
    "\"standard candles\", objects that are all the same brightness.  If you can also measure the redshift of\n",
    "each galaxy containing the supernova, then you can map out this brightness--redshift relation, and the\n",
    "shape of that relation depends on how the universe grows over cosmic time.  In turn, the growth rate of\n",
    "the universe depends on the contents of the universe!\n",
    "\n",
    "In this way, these Type-1a supernova allow us to constrain the parameters of a model of the universe.\n",
    "Specifically, the model is called \"Lambda-CDM\", a universe containing dark energy and matter (cold dark matter,\n",
    "plus regular matter).  We will consider a two-parameter version of this model: $\\Omega_M$, the\n",
    "amount of matter, and $\\Omega_{\\Lambda}$, the amount of dark energy.  These are in cosmology units of\n",
    "\"energy density now relative to the critical density\", where the critical density is the energy density you need\n",
    "for the universe to be spatially flat (angles of a large triangle sum to 180 degrees).\n",
    "So $\\Omega_M = 1$, $\\Omega_{\\Lambda} = 0$ would be a flat universe containing all matter, while\n",
    "$\\Omega_M = 0.25$, $\\Omega_{\\Lambda} = 0.5$ would be a spatially closed universe with dark energy and matter.\n",
    "Varying these ingredients changes the growth history of the universe, which changes how much the light from a\n",
    "supernova is redshifted, and how its brightness drops off with distance.\n",
    "\n",
    "(In the code below, we will call these `Omega_M` = $\\Omega_M$ and `Omega_DE` = $\\Omega_{\\Lambda}$.)\n",
    "\n",
    "Distance measurements in cosmology are complicated -- see https://arxiv.org/abs/astro-ph/9905116 for details!\n",
    "For this assignment, we will use a cosmology package that will handle all this for us.  All we need to use is\n",
    "the \"luminosity distance\", which is the one that tells you how objects get fainter given a redshift."
   ]
  },
  {
   "cell_type": "code",
   "execution_count": null,
   "id": "7d883314",
   "metadata": {},
   "outputs": [],
   "source": [
    "# Let's start by installing the Cosmology package!\n",
    "using Pkg\n",
    "Pkg.add(\"GLMakie\")\n",
    "Pkg.add(\"CSV\")\n",
    "Pkg.add(\"DataFrames\")\n",
    "Pkg.add(\"Cosmology\")\n",
    "Pkg.add(\"Statistics\")\n",
    "Pkg.add(\"FHist\")"
   ]
  },
  {
   "cell_type": "code",
   "execution_count": null,
   "id": "0dbffaea-f314-4272-962e-3358d17420e5",
   "metadata": {},
   "outputs": [],
   "source": [
    "# We'll also end up using all our old friends:\n",
    "using GLMakie\n",
    "using CSV\n",
    "using DataFrames\n",
    "using Cosmology\n",
    "using Optim\n",
    "using Statistics\n",
    "using FHist"
   ]
  },
  {
   "cell_type": "code",
   "execution_count": null,
   "id": "f6ae3590-762f-47df-828e-371884e1978f",
   "metadata": {},
   "outputs": [],
   "source": [
    "# There is a data file in this directory, taken basically straight out of the Perlmutter+1999 paper.  We can read it with the CSV package.\n",
    "data = CSV.read(\"p99-data.txt\", DataFrame, delim=\" \", ignorerepeated=true);\n",
    "println(data[1:3, :])"
   ]
  },
  {
   "cell_type": "code",
   "execution_count": null,
   "id": "d9e31b8e-4324-4e9d-8ce0-d40efd7316c4",
   "metadata": {},
   "outputs": [],
   "source": [
    "# Make a copy of the data columns that we want to treat as the \"y\" measurements.\n",
    "# These are the measured brightnesses, and their Gaussian uncertainties (standard deviations).\n",
    "data.mag = data.m_b_eff\n",
    "data.sigma_mag = data.sigma_m_b_eff;"
   ]
  },
  {
   "cell_type": "code",
   "execution_count": null,
   "id": "46283e6a-9661-42db-88b7-387a8876ad02",
   "metadata": {},
   "outputs": [],
   "source": [
    "# f = Figure()\n",
    "# Axis(f[1, 1], title=\"Perlmutter+99_Supernovae\", xlabel=\"Redshift_z\", ylabel=\"m_B\")\n",
    "# errorbars!(data.z, data.mag, data.sigma_mag)\n",
    "# scatter!(data.z, data.mag, markersize=5, color=:maroon)\n",
    "# f"
   ]
  },
  {
   "cell_type": "code",
   "execution_count": null,
   "id": "3a3a7bcf-79a7-4bd9-9fa0-b003560012a5",
   "metadata": {},
   "outputs": [],
   "source": [
    "# Here is how we will use the \"cosmology\" package.  This will create a cosmology \"object\" with the parameters we pass in.\n",
    "# It does not take an Omega_Lambda parameter; instead, it takes Omega_Matter, and Omega_K (for \"curvature\"), where\n",
    "# Omega_K = 1. - Omatter - Olambda.  We will also pass in \"Tcmb=0\", which tells it to ignore the effects of radiation.\n",
    "\n",
    "universe = cosmology(OmegaK=0.1, OmegaM=0.4, Tcmb=0)\n",
    "@show universe\n",
    "@show universe.Ω_Λ;"
   ]
  },
  {
   "cell_type": "code",
   "execution_count": null,
   "id": "9319a9a6-0ed7-46d8-b7bc-27a98b3b3248",
   "metadata": {},
   "outputs": [],
   "source": [
    "# We can then pass that \"universe\" object to other functions to compute things about it.  Basically the only one you'll\n",
    "# need is this `distance_modulus`, which tell you, in _magnitudes_, how much fainter an object is at the given redshift,\n",
    "# versus how faint it would be if it were 10 parsecs away.\n",
    "\n",
    "function distance_modulus(universe, z)\n",
    "    DL = luminosity_dist(universe, z)\n",
    "    # DL is in Megaparsecs; the distance for absolute to observed mag is 10 pc.\n",
    "    5.0 * log10.(DL.val * 1e6 / 10.0)\n",
    "end;"
   ]
  },
  {
   "cell_type": "code",
   "execution_count": null,
   "id": "f0ea93f2-27bb-4797-bc32-3eedce485a37",
   "metadata": {},
   "outputs": [],
   "source": [
    "# Here's our scalar estimate of the absolute mag.\n",
    "abs_mag"
   ]
  },
  {
   "cell_type": "markdown",
   "id": "06d4b51d-099c-4c8a-8bc8-505b6f3dc99c",
   "metadata": {},
   "source": [
    "## Part 1 - The Log-likelihood terrain"
   ]
  },
  {
   "cell_type": "markdown",
   "id": "f31e698a-cf0b-4b7f-b47f-b8e37f38b686",
   "metadata": {},
   "source": [
    "First, you have to write out the likelihood function for the observed supernova data, given cosmological model parameters.\n",
    "\n",
    "That is, please complete the following function.  It will be passed vectors of `z`, `mag`, and `mag_error` measurements,\n",
    "plus scalar parameters `M`, `Omega_M` and `Omega_DE`.  You will need to create a \"cosmology\" object, find the _distance modulus_ for\n",
    "each redshift `z`, and add that to the absolute mag `M` to get the _predicted_ magnitude.  You will then compare that to each\n",
    "measured magnitude, and compute the likelihood."
   ]
  },
  {
   "cell_type": "code",
   "execution_count": null,
   "id": "898a726f",
   "metadata": {},
   "outputs": [],
   "source": [
    "# MY CODE\n",
    "function supernova_log_likelihood(z, mag, mag_error, M, OmegaM, OmegaDE)\n",
    "    cosmo = cosmology(OmegaK=1 - OmegaDE - OmegaM, OmegaM=OmegaM, Tcmb=0)\n",
    "\n",
    "    # Calculate distance modulus for each redshift\n",
    "    dist_moduli = map(x -> distance_modulus(cosmo, x), z)\n",
    "\n",
    "    # Calculate predicted magnitudes\n",
    "    predicted_mags = dist_moduli .+ M\n",
    "\n",
    "    # Calculate log likelihood\n",
    "    log_likelihood = -0.5 * sum(((predicted_mags .- mag) ./ mag_error) .^ 2)\n",
    "\n",
    "    return log_likelihood\n",
    "end\n",
    "\n",
    "# # Example call to the function\n",
    "log_likelihood_value = supernova_log_likelihood(data.z, data.mag, data.sigma_mag, abs_mag, 0.29, 0.71)\n",
    "println(\"Log-likelihood: $log_likelihood_value\")\n",
    "# Optimize the log-likelihood to find the best parameters\n",
    "\n"
   ]
  },
  {
   "cell_type": "code",
   "execution_count": null,
   "id": "170c5c26",
   "metadata": {},
   "outputs": [],
   "source": [
    "\n",
    "resolution = 100\n",
    "grid_multiplier = 3\n",
    "\n",
    "# Initialize the matrix for storing log-likelihood values\n",
    "likelihood_values = zeros(resolution * grid_multiplier, resolution * grid_multiplier)\n",
    "\n",
    "# Calculate log-likelihoods over a grid\n",
    "for omegaM_index in 1:resolution*grid_multiplier\n",
    "    for omegaDE_index in 1:resolution*grid_multiplier\n",
    "        try\n",
    "            omegaM_value = omegaM_index / resolution\n",
    "            omegaDE_value = omegaDE_index / resolution\n",
    "            likelihood_values[omegaM_index, omegaDE_index] = supernova_log_likelihood(data.z, data.mag, data.sigma_mag, abs_mag, omegaM_value, omegaDE_value)\n",
    "        catch\n",
    "            likelihood_values[omegaM_index, omegaDE_index] = -Inf\n",
    "        end\n",
    "    end\n",
    "end\n",
    "\n",
    "# Define the range for the axes based on the multiplier\n",
    "omegaM_range = LinRange(0, grid_multiplier, resolution * grid_multiplier)\n",
    "omegaDE_range = LinRange(0, grid_multiplier, resolution * grid_multiplier)\n",
    "\n",
    "# Plot the heatmap\n",
    "heatmap(omegaM_range, omegaDE_range, likelihood_values, colorrange=[maximum(likelihood_values) - 20, maximum(likelihood_values)])\n"
   ]
  },
  {
   "cell_type": "markdown",
   "id": "3aa479c5-cfcc-464c-a558-89f14c06598f",
   "metadata": {},
   "source": [
    "<img src=\"perlmutter-fig7.png\" width=\"400\"/>\n",
    "\n"
   ]
  },
  {
   "cell_type": "markdown",
   "id": "6948a594-9b26-4ead-b915-e5ffff5b1e55",
   "metadata": {},
   "source": [
    "This will \"try\" to run the `supernova_log_likelihood` function, and if it fails, it will go into the \"catch\" branch."
   ]
  },
  {
   "cell_type": "markdown",
   "id": "e7afcb85-5a3e-4f6b-a3bb-aa4f36e2f34c",
   "metadata": {},
   "source": [
    "## Part 2 - Using MCMC to sample from the likelihood"
   ]
  },
  {
   "cell_type": "markdown",
   "id": "db573922-c863-4ded-91fa-cc458d43c54f",
   "metadata": {},
   "source": [
    "Next, we will use Markov Chain Monte Carlo to draw samples from the likelihood distribution.\n",
    "\n",
    "You can start with the `mcmc` function from the lecture.\n",
    "\n",
    "You will need to tune the MCMC proposal's step sizes (also known as \"jump sizes\").  To do this, you can use\n",
    "the variant of the `mcmc` routine that cycles through the parameters and only jumps one at a time, named\n",
    "`mcmc_cyclic` in the updated lecture notebook.  After tuning the step sizes with `mcmc_cyclic`, you can go back\n",
    "to the plain `mcmc` routine if you want, or stick with `mcmc_cyclic`; it is up to you.\n",
    "\n",
    "Please plot the samples from your MCMC chains, to demonstrate that the chain looks like it has converged.  Ideally, you\n",
    "would like to see reasonable acceptance rates, and you would like to see the samples \"exploring\" the parameter space.\n",
    "Decide how many step you need to run the MCMC routine for, and write a sentence or two describing why you think that's\n",
    "a good number.\n",
    "\n",
    "For this part, please include the `M` (absolute magnitude) as a parameter that you are fitting -- so you are fitting for `M`\n",
    "in addition to `Omega_M` and `Omega_DE`.  This is a quite standard situation where you have a \"nuisance\" parameter `M`\n",
    "that you don't really care about, in addition to the `Omega` parameters that you do care about."
   ]
  },
  {
   "cell_type": "markdown",
   "id": "9bd3cc89-207a-4b34-bb9f-b591e25a513d",
   "metadata": {},
   "source": [
    "It is quite common to plot the results from an MCMC sampling using a \"corner plot\", which shows the distribution of\n",
    "each of the individual parameters, and the joint distributions of pairs of parameters.  This will help you determine\n",
    "whether some of the parameters are correlated with each other.\n",
    "\n",
    "Below is a function you can use to generate corner plots from your chain -- call it like `cornerplot(chain, [\"M\", \"Omega_M\", \"Omega_DE\"])`.  There is also a CornerPlot package (https://juliapackages.com/p/cornerplot) but I have not had luck getting it\n",
    "to work for me.\n",
    "\n",
    "Once you have made you corner plots, please write a few sentences interpreting what you see.  Is the nuisance parameter `M` correlated with the Omegas?  Are the Omegas correlated with each other?"
   ]
  },
  {
   "cell_type": "code",
   "execution_count": null,
   "id": "57dbf4b7",
   "metadata": {},
   "outputs": [],
   "source": [
    "# Here we need to redefine the log-likelihood function to take in a vector of parameters + write proposal function\n",
    "# MY CODE\n",
    "function supernova_log_likelihood_v2(M, OmegaM, OmegaDE)\n",
    "    cosmo_v2 = cosmology(OmegaK=1 - OmegaDE - OmegaM, OmegaM=OmegaM, Tcmb=0)\n",
    "\n",
    "\n",
    "    dist_moduli = map(x -> distance_modulus(cosmo_v2, x), z)\n",
    "\n",
    "    dist_mod_val = 0.0\n",
    "    try\n",
    "        dist_mod_val = map(x -> distance_modulus(dist_moduli, x), data.z)\n",
    "    catch\n",
    "        dist_mod_val = -Inf\n",
    "    end\n",
    "    f = dist_moduli .+ M\n",
    "\n",
    "    chi = (f .- data.mag) ./ data.sigma_mag\n",
    "    log_like_2 = sum(-0.5 .* chi .^ 2)\n",
    "\n",
    "    return log_like_2\n",
    "end\n",
    "\n",
    "# Function to propose new parameter values\n",
    "function gen_new_proposal(M, OmegaM, OmegaDE, jump_size)\n",
    "    return [M, OmegaM, OmegaDE] .+ randn(length([M, OmegaM, OmegaDE])) .* jump_size\n",
    "end"
   ]
  },
  {
   "cell_type": "code",
   "execution_count": null,
   "id": "8b3ffa3b",
   "metadata": {},
   "outputs": [],
   "source": [
    "#edit mcmc function\n",
    "function mcmc_cyclic(logprob_func, propose_func, M, OmegaM, OmegaDE, n_steps, jump_size)\n",
    "    p = [M, OmegaM, OmegaDE]\n",
    "    logprob = logprob_func(p[1], p[2], p[3])\n",
    "    chain = zeros(n_steps, length(p))\n",
    "    n_accept = zeros(length(p))\n",
    "\n",
    "    for i in 1:n_steps\n",
    "\n",
    "        # We're going to update one index at a time... 1, 2, 1, 2, ....\n",
    "        update_index = 1 + ((i - 1) % length(p))\n",
    "\n",
    "        # Call the proposal function to generate new values for all parameters...\n",
    "        p_prop = propose_func(p[1], p[2], p[3], jump_size)\n",
    "        # ... but then only keep one of the new parameter values!\n",
    "        p_new = copy(p)\n",
    "        p_new[update_index] = p_prop[update_index]\n",
    "\n",
    "        logprob_new = logprob_func(p_new[1], p_new[2], p_new[3]) # Call the log-likelihood function with vector of parameters\n",
    "\n",
    "        ratio = exp(logprob_new - logprob)\n",
    "        if ratio > 1\n",
    "            # Jump to the new place\n",
    "            p = p_new\n",
    "            logprob = logprob_new\n",
    "            n_accept[update_index] += 1\n",
    "        else\n",
    "            # Jump to the new place with probability \"ratio\"\n",
    "            u = rand()\n",
    "            if u < ratio\n",
    "                # Jump to the new place\n",
    "                p = p_new\n",
    "                logprob = logprob_new\n",
    "                n_accept[update_index] += 1\n",
    "            else\n",
    "                # Stay where we are\n",
    "            end\n",
    "        end\n",
    "        chain[i, 1:end] = p_new\n",
    "    end\n",
    "    # The number of times we step each parameter is roughly n_steps / n_parameters\n",
    "    return chain, n_accept ./ (n_steps ./ length(p))\n",
    "end;"
   ]
  },
  {
   "cell_type": "code",
   "execution_count": null,
   "id": "6892f035",
   "metadata": {},
   "outputs": [],
   "source": [
    "# now we define arbitrary number of steps \n",
    "num_steps = 10000\n",
    "\n",
    "values, acceptance_rate = mcmc_cyclic(supernova_log_likelihood_v2, gen_new_proposal, -15.0, 0.2, 0.5, num_steps, [0.01, 0.08, 0.08])"
   ]
  },
  {
   "cell_type": "code",
   "execution_count": null,
   "id": "6708b86c",
   "metadata": {},
   "outputs": [],
   "source": [
    "f = Figure()\n",
    "\n",
    "# Plot for M\n",
    "ax1 = Axis(f[1, 1], title=\"M over Steps\")\n",
    "lines!(ax1, LinRange(1, num_steps, num_steps), values[:, 1])\n",
    "\n",
    "# Plot for Omega_DE\n",
    "ax2 = Axis(f[2, 1], title=\"Omega_DE over Steps\")\n",
    "lines!(ax2, LinRange(1, num_steps, num_steps), values[:, 3])\n",
    "\n",
    "# Plot for Omega_M\n",
    "ax3 = Axis(f[3, 1], title=\"Omega_M over Steps\")\n",
    "lines!(ax3, LinRange(1, num_steps, num_steps), values[:, 2])\n",
    "\n",
    "f\n"
   ]
  },
  {
   "cell_type": "code",
   "execution_count": null,
   "id": "2ec8c1f2-b24d-4c5f-a068-3b4868b575eb",
   "metadata": {},
   "outputs": [],
   "source": [
    "function cornerplot(x, names; figsize=(600, 600))\n",
    "    # how many columns of data\n",
    "    dim = size(x, 2)\n",
    "    # rows to plot\n",
    "    idxs = 1:size(x, 1)\n",
    "    f = Figure(size=figsize)\n",
    "    for i in 1:dim, j in 1:dim\n",
    "        if i < j\n",
    "            continue\n",
    "        end\n",
    "        ax = Axis(f[i, j], aspect=1,\n",
    "            topspinevisible=false,\n",
    "            rightspinevisible=false,)\n",
    "        if i == j\n",
    "            hist!(x[idxs, i], direction=:y)\n",
    "            ax.xlabel = names[i]\n",
    "        else\n",
    "            #scatter!(x[idxs,j], x[idxs,i], markersize=4)\n",
    "            hexbin!(x[idxs, j], x[idxs, i])\n",
    "            ax.xlabel = names[j]\n",
    "            ax.ylabel = names[i]\n",
    "        end\n",
    "    end\n",
    "    f\n",
    "end;"
   ]
  },
  {
   "cell_type": "code",
   "execution_count": null,
   "id": "329cbeed",
   "metadata": {},
   "outputs": [],
   "source": [
    "cornerplot(values, [\"M\", \"Omega_M\", \"Omega_DE\"])"
   ]
  },
  {
   "cell_type": "markdown",
   "id": "b461568a-ce96-4bb3-9031-652320a7334c",
   "metadata": {},
   "source": [
    "Finally, please try to make a contour plot similar to Perlmutter et al.'s Figure 7.  From your MCMC chain, you can pull out the `Omega_M` and `Omega_DE` arrays, and then create a 2-d histogram.  Once you have a 2-d histogram, you can use the `contour` function to find and plot the contours in that histogram."
   ]
  },
  {
   "cell_type": "code",
   "execution_count": null,
   "id": "c825e711",
   "metadata": {},
   "outputs": [],
   "source": [
    "n_bins = (100, 100)\n",
    "histogram_data = FHist.Hist2D((values[:, 2], values[:, 3]), nbins=n_bins)\n",
    "\n",
    "# Get the counts and the center points of the bins\n",
    "bin_counts = bincounts(histogram_data)\n",
    "bin_centers_x, bin_centers_y = bincenters(histogram_data)\n",
    "\n",
    "# Create a contour plot using the histogram data\n",
    "contour_figure = contour(bin_centers_x, bin_centers_y, bin_counts)\n",
    "\n",
    "contour_figure\n",
    "\n",
    "#size issue"
   ]
  }
 ],
 "metadata": {
  "kernelspec": {
   "display_name": "Julia 1.8.3",
   "language": "julia",
   "name": "julia-1.8"
  },
  "language_info": {
   "file_extension": ".jl",
   "mimetype": "application/julia",
   "name": "julia",
   "version": "1.8.3"
  }
 },
 "nbformat": 4,
 "nbformat_minor": 5
}
