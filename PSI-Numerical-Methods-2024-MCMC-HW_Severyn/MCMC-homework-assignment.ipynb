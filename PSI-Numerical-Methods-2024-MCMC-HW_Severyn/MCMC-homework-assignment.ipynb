{
 "cells": [
  {
   "cell_type": "markdown",
   "id": "20a02177-7b6b-44eb-88dc-34b1cac20e11",
   "metadata": {},
   "source": [
    "# PSI Numerical Methods 2024 - Homework Assignment on Model Fitting & MCMC"
   ]
  },
  {
   "cell_type": "markdown",
   "id": "089e3de8-0052-42f4-a165-3f11dd288705",
   "metadata": {},
   "source": [
    "We're going to put together everything we have learned so far to re-do the data analysis for the\n",
    "Perlmutter et al. 1999 paper on the discovery of dark energy!  (https://ui.adsabs.harvard.edu/abs/1999ApJ...517..565P/abstract)\n",
    "\n",
    "Start by `Forking` this repository on Github: https://github.com/dstndstn/PSI-Numerical-Methods-2024-MCMC-Homework\n",
    "And then clone the repository to your laptop or to Symmetry.\n",
    "You can modify this notebook, and when you are done, save it, and then `git commit -a` the results,\n",
    "and `git push` them back to your fork of the repository.  You will \"hand in\" your homework by giving\n",
    "a link to your Github repository, where the marker will be able to read your notebook.\n",
    "\n",
    "First, a little bit of background on the cosmology and astrophysics.  The paper reports measurements\n",
    "of a group of supernova explosions of a specific type, \"Type 1a\".  These are thought to be caused by\n",
    "a white dwarf star that has a companion star that \"donates\" gas to the white dwarf.  It gradually gains\n",
    "mass until it exceeds the Chandresekhar mass, and explodes.  Since they all explode through the same\n",
    "mechanism, and with the same mass, they should all have the same intrinsic brightess.  It turns out to\n",
    "be a _little_ more complicated than that, but in the end, these Type-1a supernovae can be turned into\n",
    "\"standard candles\", objects that are all the same brightness.  If you can also measure the redshift of\n",
    "each galaxy containing the supernova, then you can map out this brightness--redshift relation, and the\n",
    "shape of that relation depends on how the universe grows over cosmic time.  In turn, the growth rate of\n",
    "the universe depends on the contents of the universe!\n",
    "\n",
    "In this way, these Type-1a supernova allow us to constrain the parameters of a model of the universe.\n",
    "Specifically, the model is called \"Lambda-CDM\", a universe containing dark energy and matter (cold dark matter,\n",
    "plus regular matter).  We will consider a two-parameter version of this model: $\\Omega_M$, the\n",
    "amount of matter, and $\\Omega_{\\Lambda}$, the amount of dark energy.  These are in cosmology units of\n",
    "\"energy density now relative to the critical density\", where the critical density is the energy density you need\n",
    "for the universe to be spatially flat (angles of a large triangle sum to 180 degrees).\n",
    "So $\\Omega_M = 1$, $\\Omega_{\\Lambda} = 0$ would be a flat universe containing all matter, while\n",
    "$\\Omega_M = 0.25$, $\\Omega_{\\Lambda} = 0.5$ would be a spatially closed universe with dark energy and matter.\n",
    "Varying these ingredients changes the growth history of the universe, which changes how much the light from a\n",
    "supernova is redshifted, and how its brightness drops off with distance.\n",
    "\n",
    "(In the code below, we will call these `Omega_M` = $\\Omega_M$ and `Omega_DE` = $\\Omega_{\\Lambda}$.)\n",
    "\n",
    "Distance measurements in cosmology are complicated -- see https://arxiv.org/abs/astro-ph/9905116 for details!\n",
    "For this assignment, we will use a cosmology package that will handle all this for us.  All we need to use is\n",
    "the \"luminosity distance\", which is the one that tells you how objects get fainter given a redshift."
   ]
  },
  {
   "cell_type": "code",
   "execution_count": null,
   "id": "a17ad42b-16b9-45ef-ac06-06383f50764a",
   "metadata": {},
   "outputs": [],
   "source": [
    "# Let's start by installing the Cosmology package!\n",
    "using Pkg\n",
    "Pkg.add(\"Cosmology\")"
   ]
  },
  {
   "cell_type": "code",
   "execution_count": null,
   "id": "0dbffaea-f314-4272-962e-3358d17420e5",
   "metadata": {},
   "outputs": [],
   "source": [
    "# We'll also end up using all our old friends:\n",
    "using WGLMakie\n",
    "using CSV\n",
    "using DataFrames\n",
    "using Cosmology\n",
    "using Statistics"
   ]
  },
  {
   "cell_type": "code",
   "execution_count": null,
   "id": "f6ae3590-762f-47df-828e-371884e1978f",
   "metadata": {},
   "outputs": [],
   "source": [
    "# There is a data file in this directory, taken basically straight out of the Perlmutter+1999 paper.  We can read it with the CSV package.\n",
    "data = CSV.read(\"p99-data.txt\", DataFrame, delim=\" \", ignorerepeated=true);"
   ]
  },
  {
   "cell_type": "code",
   "execution_count": null,
   "id": "d9e31b8e-4324-4e9d-8ce0-d40efd7316c4",
   "metadata": {},
   "outputs": [],
   "source": [
    "# Make a copy of the data columns that we want to treat as the \"y\" measurements.\n",
    "# These are the measured brightnesses, and their Gaussian uncertainties (standard deviations).\n",
    "data.mag = data.m_b_eff\n",
    "data.sigma_mag = data.sigma_m_b_eff;"
   ]
  },
  {
   "cell_type": "code",
   "execution_count": null,
   "id": "46283e6a-9661-42db-88b7-387a8876ad02",
   "metadata": {},
   "outputs": [],
   "source": [
    "f = Figure()\n",
    "Axis(f[1,1], title=\"Perlmutter+99 Supernovae\", xlabel=\"Redshift z\", ylabel=\"m_B\")\n",
    "errorbars!(data.z, data.mag, data.sigma_mag)\n",
    "scatter!(data.z, data.mag, markersize=5, color=:maroon)\n",
    "f"
   ]
  },
  {
   "cell_type": "code",
   "execution_count": null,
   "id": "3a3a7bcf-79a7-4bd9-9fa0-b003560012a5",
   "metadata": {},
   "outputs": [],
   "source": [
    "# Here is how we will use the \"cosmology\" package.  This will create a cosmology \"object\" with the parameters we pass in.\n",
    "# It does not take an Omega_Lambda parameter; instead, it takes Omega_Matter, and Omega_K (for \"curvature\"), where\n",
    "# Omega_K = 1. - Omatter - Olambda.  We will also pass in \"Tcmb=0\", which tells it to ignore the effects of radiation.\n",
    "\n",
    "universe = cosmology(OmegaK=0.1, OmegaM=0.4, Tcmb=0)\n",
    "@show universe\n",
    "@show universe.Ω_Λ;"
   ]
  },
  {
   "cell_type": "code",
   "execution_count": null,
   "id": "9319a9a6-0ed7-46d8-b7bc-27a98b3b3248",
   "metadata": {},
   "outputs": [],
   "source": [
    "# We can then pass that \"universe\" object to other functions to compute things about it.  Basically the only one you'll\n",
    "# need is this `distance_modulus`, which tell you, in _magnitudes_, how much fainter an object is at the given redshift,\n",
    "# versus how faint it would be if it were 10 parsecs away.\n",
    "\n",
    "function distance_modulus(universe, z)\n",
    "    DL = luminosity_dist(universe, z)\n",
    "    # DL is in Megaparsecs; the distance for absolute to observed mag is 10 pc.\n",
    "    5. * log10.(DL.val * 1e6 / 10.)\n",
    "end;"
   ]
  },
  {
   "cell_type": "markdown",
   "id": "ed8fea48-101c-4efa-a99f-07728489187a",
   "metadata": {},
   "source": [
    "There is one more parameter to the model we will be fitting: $M$, the _absolute magnitude_ of the supernovae.  This is a\n",
    "\"nuisance parameter\" - a parameter that we have to fit for, but that we don't really care about; it's basically a calibration\n",
    "of what the intrinsic brightness of a supernova is.  To start out, we will fix this value to a constant, but later we will\n",
    "fit for it along with our Omegas.\n",
    "\n",
    "The _observed_ brightness of a supernova will be its _absolute mag_ plus its _distance modulus_.  The _distance modulus_ depends on\n",
    "the redshift _z_ and our parameters Omega_M and Omega_DE."
   ]
  },
  {
   "cell_type": "code",
   "execution_count": null,
   "id": "22a7cb6d-ff20-48e4-9578-90be73eaf8b7",
   "metadata": {},
   "outputs": [],
   "source": [
    "# We'll cheat a bit and use a \"nominal\" cosmology with currently-accepted values of Omega_M = 0.29, Omega_DE = 0.71.\n",
    "nominal = cosmology(Tcmb=0)\n",
    "\n",
    "f = Figure()\n",
    "ax = Axis(f[1,1], title=\"Perlmutter+99 Supernovae\", xlabel=\"Redshift z\", ylabel=\"Observed mag\")\n",
    "errorbars!(data.z, data.mag, data.sigma_mag)\n",
    "scatter!(data.z, data.mag, markersize=5, color=:maroon)\n",
    "\n",
    "# Compute the average absolute magnitude M given nominal cosmology -- ie, an estimate of the absolute mag of the supernovae\n",
    "DLx = map(z->distance_modulus(nominal, z), data.z)\n",
    "abs_mag = median(data.mag - DLx)\n",
    "\n",
    "# Here's another way to plot a function evaluated on a grid of values.\n",
    "zgrid = 0.01:0.01:1.\n",
    "DL = map(z->distance_modulus(nominal, z), zgrid)\n",
    "lines!(zgrid, DL .+ abs_mag, label=\"Nominal OmegaM = 0.29, OmegaDE = 0.71\")\n",
    "\n",
    "universe = cosmology(OmegaK=0.0, OmegaM=0.6, Tcmb=0)\n",
    "DL = map(z->distance_modulus(universe, z), zgrid)\n",
    "lines!(zgrid, DL .+ abs_mag, color=:red, label=\"OmegaM = 0.6, OmegaDE = 0.4\")\n",
    "\n",
    "universe = cosmology(OmegaK=0.0, OmegaM=0.1, Tcmb=0)\n",
    "DL = map(z->distance_modulus(universe, z), zgrid)\n",
    "lines!(zgrid, DL .+ abs_mag, color=:green, label=\"OmegaM = 0.1, OmegaDE = 0.9\")\n",
    "\n",
    "#f[2,1] = Legend(f, ax, \"Cosmologies\", framevisible = false)\n",
    "# Create a legend for our plot\n",
    "axislegend(ax, position = :rb)\n",
    "f"
   ]
  },
  {
   "cell_type": "code",
   "execution_count": null,
   "id": "f0ea93f2-27bb-4797-bc32-3eedce485a37",
   "metadata": {},
   "outputs": [],
   "source": [
    "# Here's our scalar estimate of the absolute mag.\n",
    "abs_mag"
   ]
  },
  {
   "cell_type": "markdown",
   "id": "06d4b51d-099c-4c8a-8bc8-505b6f3dc99c",
   "metadata": {},
   "source": [
    "## Part 1 - The Log-likelihood terrain"
   ]
  },
  {
   "cell_type": "markdown",
   "id": "f31e698a-cf0b-4b7f-b47f-b8e37f38b686",
   "metadata": {},
   "source": [
    "First, you have to write out the likelihood function for the observed supernova data, given cosmological model parameters.\n",
    "\n",
    "That is, please complete the following function.  It will be passed vectors of `z`, `mag`, and `mag_error` measurements,\n",
    "plus scalar parameters `M`, `Omega_M` and `Omega_DE`.  You will need to create a \"cosmology\" object, find the _distance modulus_ for\n",
    "each redshift `z`, and add that to the absolute mag `M` to get the _predicted_ magnitude.  You will then compare that to each\n",
    "measured magnitude, and compute the likelihood."
   ]
  },
  {
   "cell_type": "code",
   "execution_count": null,
   "id": "24887ff8-e68b-49cc-bcc1-c43849059be0",
   "metadata": {},
   "outputs": [],
   "source": [
    "function supernova_log_likelihood(z, mag, mag_error, M, Omatter, Ode)\n",
    "    # z: vector of redshifts\n",
    "    # mag: vector of measured magnitudes\n",
    "    # mag_error: vector of uncertainties on the measured magnitudes (sigmas).\n",
    "    # M: scalar, absolute magnitude of a Type-1a supernova\n",
    "    # Omatter: scalar Omega_M, amount of matter in the universe\n",
    "    # Ode: scalar Omega_DE, amount of dark energy in the universe\n",
    "\n",
    "    ###   YOUR CODE HERE!!\n",
    "\n",
    "    # You must return a scalar value\n",
    "end;"
   ]
  },
  {
   "cell_type": "markdown",
   "id": "95f5fed8-816a-45b5-b443-70687aca094f",
   "metadata": {},
   "source": [
    "Next, please keep `M` fixed to the `abs_mag` value we computed above, and call your `supernova_log_likelihood` on a grid of\n",
    "`Omega_M` and `Omega_DE` values.  (You will pass in `data.z`, `data.mag`, and `data.sigma_mag` for the `z`, `mag`, and `mag_error` values.)\n",
    "\n",
    "Try a grid from 0 to 1 for both Omega_M and Omega_DE, and show the `supernova_log_likelihood` values using the `heatmap` function.\n",
    "You may find it helpful to limit the range using something like `heatmap(om_grid, ode_grid, sn_ll, colorrange=[maximum(sn_ll)-20, maximum(sn_ll)])`.\n",
    "\n",
    "Another thing you can do is, instead of showing the _log_-likelihood, show the likelihood by taking the `exp` of your `sn_ll` grid, like this, `heatmap(om_grid, ode_grid, exp.(sn_ll))`.\n",
    "\n",
    "Please compare your plot to Figure 7 in the Perlmutter et al. 1999 paper, shown below.  Does your likelihood contour look consistent with the blue ellipses?"
   ]
  },
  {
   "cell_type": "markdown",
   "id": "3aa479c5-cfcc-464c-a558-89f14c06598f",
   "metadata": {},
   "source": [
    "<img src=\"perlmutter-fig7.png\" width=\"400\"/>\n",
    "\n"
   ]
  },
  {
   "cell_type": "markdown",
   "id": "8cfd66f9-4563-42d8-98a9-18bed8670740",
   "metadata": {},
   "source": [
    "Next, try expanding the grid ranges for Omega_M and Omega_DE up to, say, 0 to 2 or 0 to 3.  You should encounter a problem -- the cosmology package will fail to compute the `distance_modulus` for some combinations!  You can work around this by using Julia's `try...catch` syntax,\n",
    "like this:"
   ]
  },
  {
   "cell_type": "code",
   "execution_count": null,
   "id": "eb33058c-5639-4b02-9e09-ff15145ab86b",
   "metadata": {},
   "outputs": [],
   "source": [
    "# Example of Julia's try-catch syntax:\n",
    "ll = 0.\n",
    "try:\n",
    "    ll = supernova_log_likelihood(data.z, data.mag, data.sigma_mag, abs_mag, 2.0, 2.0)\n",
    "catch err\n",
    "    ll = -Inf\n",
    "end"
   ]
  },
  {
   "cell_type": "markdown",
   "id": "6948a594-9b26-4ead-b915-e5ffff5b1e55",
   "metadata": {},
   "source": [
    "This will \"try\" to run the `supernova_log_likelihood` function, and if it fails, it will go into the \"catch\" branch."
   ]
  },
  {
   "cell_type": "markdown",
   "id": "e7afcb85-5a3e-4f6b-a3bb-aa4f36e2f34c",
   "metadata": {},
   "source": [
    "## Part 2 - Using MCMC to sample from the likelihood"
   ]
  },
  {
   "cell_type": "markdown",
   "id": "db573922-c863-4ded-91fa-cc458d43c54f",
   "metadata": {},
   "source": [
    "Next, we will use Markov Chain Monte Carlo to draw samples from the likelihood distribution.\n",
    "\n",
    "You can start with the `mcmc` function from the lecture.\n",
    "\n",
    "You will need to tune the MCMC proposal's step sizes (also known as \"jump sizes\").  To do this, you can use\n",
    "the variant of the `mcmc` routine that cycles through the parameters and only jumps one at a time, named\n",
    "`mcmc_cyclic` in the updated lecture notebook.  After tuning the step sizes with `mcmc_cyclic`, you can go back\n",
    "to the plain `mcmc` routine if you want, or stick with `mcmc_cyclic`; it is up to you.\n",
    "\n",
    "Please plot the samples from your MCMC chains, to demonstrate that the chain looks like it has converged.  Ideally, you\n",
    "would like to see reasonable acceptance rates, and you would like to see the samples \"exploring\" the parameter space.\n",
    "Decide how many step you need to run the MCMC routine for, and write a sentence or two describing why you think that's\n",
    "a good number.\n",
    "\n",
    "For this part, please include the `M` (absolute magnitude) as a parameter that you are fitting -- so you are fitting for `M`\n",
    "in addition to `Omega_M` and `Omega_DE`.  This is a quite standard situation where you have a \"nuisance\" parameter `M`\n",
    "that you don't really care about, in addition to the `Omega` parameters that you do care about."
   ]
  },
  {
   "cell_type": "markdown",
   "id": "9bd3cc89-207a-4b34-bb9f-b591e25a513d",
   "metadata": {},
   "source": [
    "It is quite common to plot the results from an MCMC sampling using a \"corner plot\", which shows the distribution of\n",
    "each of the individual parameters, and the joint distributions of pairs of parameters.  This will help you determine\n",
    "whether some of the parameters are correlated with each other.\n",
    "\n",
    "Below is a function you can use to generate corner plots from your chain -- call it like `cornerplot(chain, [\"M\", \"Omega_M\", \"Omega_DE\"])`.  There is also a CornerPlot package (https://juliapackages.com/p/cornerplot) but I have not had luck getting it\n",
    "to work for me.\n",
    "\n",
    "Once you have made you corner plots, please write a few sentences interpreting what you see.  Is the nuisance parameter `M` correlated with the Omegas?  Are the Omegas correlated with each other?"
   ]
  },
  {
   "cell_type": "code",
   "execution_count": null,
   "id": "2ec8c1f2-b24d-4c5f-a068-3b4868b575eb",
   "metadata": {},
   "outputs": [],
   "source": [
    "function cornerplot(x, names; figsize=(600,600))\n",
    "    # how many columns of data\n",
    "    dim = size(x, 2)\n",
    "    # rows to plot\n",
    "    idxs = 1:size(x,1)\n",
    "    f = Figure(size=figsize)\n",
    "    for i in 1:dim, j in 1:dim\n",
    "        if i < j\n",
    "            continue\n",
    "        end\n",
    "        ax = Axis(f[i, j], aspect = 1,\n",
    "                  topspinevisible = false,\n",
    "                  rightspinevisible = false,)\n",
    "        if i == j\n",
    "            hist!(x[idxs,i], direction=:y)\n",
    "            ax.xlabel = names[i]\n",
    "        else\n",
    "            #scatter!(x[idxs,j], x[idxs,i], markersize=4)\n",
    "            hexbin!(x[idxs,j], x[idxs,i])\n",
    "            ax.xlabel = names[j]\n",
    "            ax.ylabel = names[i]\n",
    "        end\n",
    "    end\n",
    "    f\n",
    "end;"
   ]
  },
  {
   "cell_type": "markdown",
   "id": "b461568a-ce96-4bb3-9031-652320a7334c",
   "metadata": {},
   "source": [
    "Finally, please try to make a contour plot similar to Perlmutter et al.'s Figure 7.  From your MCMC chain, you can pull out the `Omega_M` and `Omega_DE` arrays, and then create a 2-d histogram.  Once you have a 2-d histogram, you can use the `contour` function to find and plot the contours in that histogram."
   ]
  }
 ],
 "metadata": {
  "kernelspec": {
   "display_name": "Julia 1.9.3",
   "language": "julia",
   "name": "julia-1.9"
  },
  "language_info": {
   "file_extension": ".jl",
   "mimetype": "application/julia",
   "name": "julia",
   "version": "1.9.3"
  }
 },
 "nbformat": 4,
 "nbformat_minor": 5
}
